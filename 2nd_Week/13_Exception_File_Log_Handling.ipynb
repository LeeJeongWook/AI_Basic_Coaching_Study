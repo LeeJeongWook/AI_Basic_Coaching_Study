{
  "nbformat": 4,
  "nbformat_minor": 0,
  "metadata": {
    "colab": {
      "name": "13_Exception/File/Log_Handling.ipynb",
      "provenance": [],
      "collapsed_sections": []
    },
    "kernelspec": {
      "name": "python3",
      "display_name": "Python 3"
    },
    "language_info": {
      "name": "python"
    }
  },
  "cells": [
    {
      "cell_type": "markdown",
      "source": [
        "##**Exception Handling**"
      ],
      "metadata": {
        "id": "unzGjXfpk4hD"
      }
    },
    {
      "cell_type": "markdown",
      "source": [
        "- 0 으로 숫자를 나눌 때 예외처리 하기"
      ],
      "metadata": {
        "id": "rbpIbTI4lHPw"
      }
    },
    {
      "cell_type": "code",
      "execution_count": null,
      "metadata": {
        "colab": {
          "base_uri": "https://localhost:8080/"
        },
        "id": "Us-UF4MqkTpC",
        "outputId": "d8d511e8-4c5c-40b8-d2c7-6741e6161b78"
      },
      "outputs": [
        {
          "output_type": "stream",
          "name": "stdout",
          "text": [
            "Note divided by 0\n",
            "10.0\n",
            "5.0\n",
            "3.3333333333333335\n",
            "2.5\n",
            "2.0\n",
            "1.6666666666666667\n",
            "1.4285714285714286\n",
            "1.25\n",
            "1.1111111111111112\n"
          ]
        }
      ],
      "source": [
        "for i in range(10):\n",
        "    try:\n",
        "        print(10 / i)\n",
        "    except ZeroDivisionError:\n",
        "        print(\"Note divided by 0\")"
      ]
    },
    {
      "cell_type": "markdown",
      "source": [
        "- 예외 정보 표시하기"
      ],
      "metadata": {
        "id": "eevoIVQ2lq0B"
      }
    },
    {
      "cell_type": "code",
      "source": [
        "for i in range(10):\n",
        "    try:\n",
        "        print(10 / i)\n",
        "    except ZeroDivisionError as e:\n",
        "        print(e)\n",
        "        print(\"Note divided by 0\")"
      ],
      "metadata": {
        "colab": {
          "base_uri": "https://localhost:8080/"
        },
        "id": "tvBfx8xvlqDu",
        "outputId": "7e1f48b4-a397-4360-a296-17ef85ca59d7"
      },
      "execution_count": null,
      "outputs": [
        {
          "output_type": "stream",
          "name": "stdout",
          "text": [
            "division by zero\n",
            "Note divided by 0\n",
            "10.0\n",
            "5.0\n",
            "3.3333333333333335\n",
            "2.5\n",
            "2.0\n",
            "1.6666666666666667\n",
            "1.4285714285714286\n",
            "1.25\n",
            "1.1111111111111112\n"
          ]
        }
      ]
    },
    {
      "cell_type": "markdown",
      "source": [
        "- try ~ except ~ else"
      ],
      "metadata": {
        "id": "AQNQ1xutl6K7"
      }
    },
    {
      "cell_type": "code",
      "source": [
        "for i in range(10):\n",
        "    try:\n",
        "        result = 10 / i\n",
        "    except ZeroDivisionError:\n",
        "        print(\"Note divided by 0\")\n",
        "    else:\n",
        "        print(10 / i)"
      ],
      "metadata": {
        "colab": {
          "base_uri": "https://localhost:8080/"
        },
        "id": "d-2EFpk0l-Kk",
        "outputId": "4c8b0377-800c-416b-93a4-71d2bd2575ed"
      },
      "execution_count": null,
      "outputs": [
        {
          "output_type": "stream",
          "name": "stdout",
          "text": [
            "Note divided by 0\n",
            "10.0\n",
            "5.0\n",
            "3.3333333333333335\n",
            "2.5\n",
            "2.0\n",
            "1.6666666666666667\n",
            "1.4285714285714286\n",
            "1.25\n",
            "1.1111111111111112\n"
          ]
        }
      ]
    },
    {
      "cell_type": "markdown",
      "source": [
        "- try ~ except ~ finally"
      ],
      "metadata": {
        "id": "eT5Nx6YPmOVE"
      }
    },
    {
      "cell_type": "code",
      "source": [
        "try:\n",
        "    for i in range(1, 10):\n",
        "        result = 10 // i\n",
        "        print(result)\n",
        "except ZeroDivisionError:\n",
        "    print(\"Not divided by 0\")\n",
        "finally:\n",
        "    print(\"종료되었습니다.\")"
      ],
      "metadata": {
        "colab": {
          "base_uri": "https://localhost:8080/"
        },
        "id": "IlD4sUVAl5Ws",
        "outputId": "ed5a95de-bbb3-47c7-ba2f-c6f5d1f84965"
      },
      "execution_count": null,
      "outputs": [
        {
          "output_type": "stream",
          "name": "stdout",
          "text": [
            "10\n",
            "5\n",
            "3\n",
            "2\n",
            "2\n",
            "1\n",
            "1\n",
            "1\n",
            "1\n",
            "종료되었습니다.\n"
          ]
        }
      ]
    },
    {
      "cell_type": "markdown",
      "source": [
        "- raise 구문 : 필요에 따라 강제로 Exception을 발생"
      ],
      "metadata": {
        "id": "Y-gtdSWznDgD"
      }
    },
    {
      "cell_type": "code",
      "source": [
        "while True:\n",
        "    value = input(\"변환할 정수 값을 입력해주세요\")\n",
        "    for digit in value:\n",
        "        if digit not in \"0123456789\":\n",
        "            raise ValueError(\"숫자값을 입력하지 않으셨습니다\")\n",
        "    print(\"정수값으로 변환된 숫자 -\", int(value))"
      ],
      "metadata": {
        "colab": {
          "base_uri": "https://localhost:8080/",
          "height": 284
        },
        "id": "SWXCxed3nvTm",
        "outputId": "5095c6de-4f61-4529-8a36-b767e612b17b"
      },
      "execution_count": null,
      "outputs": [
        {
          "name": "stdout",
          "output_type": "stream",
          "text": [
            "변환할 정수 값을 입력해주세요8\n",
            "정수값으로 변환된 숫자 - 8\n",
            "변환할 정수 값을 입력해주세요0.9\n"
          ]
        },
        {
          "output_type": "error",
          "ename": "ValueError",
          "evalue": "ignored",
          "traceback": [
            "\u001b[0;31m---------------------------------------------------------------------------\u001b[0m",
            "\u001b[0;31mValueError\u001b[0m                                Traceback (most recent call last)",
            "\u001b[0;32m<ipython-input-6-07a17d42b8e9>\u001b[0m in \u001b[0;36m<module>\u001b[0;34m()\u001b[0m\n\u001b[1;32m      3\u001b[0m     \u001b[0;32mfor\u001b[0m \u001b[0mdigit\u001b[0m \u001b[0;32min\u001b[0m \u001b[0mvalue\u001b[0m\u001b[0;34m:\u001b[0m\u001b[0;34m\u001b[0m\u001b[0;34m\u001b[0m\u001b[0m\n\u001b[1;32m      4\u001b[0m         \u001b[0;32mif\u001b[0m \u001b[0mdigit\u001b[0m \u001b[0;32mnot\u001b[0m \u001b[0;32min\u001b[0m \u001b[0;34m\"0123456789\"\u001b[0m\u001b[0;34m:\u001b[0m\u001b[0;34m\u001b[0m\u001b[0;34m\u001b[0m\u001b[0m\n\u001b[0;32m----> 5\u001b[0;31m             \u001b[0;32mraise\u001b[0m \u001b[0mValueError\u001b[0m\u001b[0;34m(\u001b[0m\u001b[0;34m\"숫자값을 입력하지 않으셨습니다\"\u001b[0m\u001b[0;34m)\u001b[0m\u001b[0;34m\u001b[0m\u001b[0;34m\u001b[0m\u001b[0m\n\u001b[0m\u001b[1;32m      6\u001b[0m     \u001b[0mprint\u001b[0m\u001b[0;34m(\u001b[0m\u001b[0;34m\"정수값으로 변환된 숫자 -\"\u001b[0m\u001b[0;34m,\u001b[0m \u001b[0mint\u001b[0m\u001b[0;34m(\u001b[0m\u001b[0mvalue\u001b[0m\u001b[0;34m)\u001b[0m\u001b[0;34m)\u001b[0m\u001b[0;34m\u001b[0m\u001b[0;34m\u001b[0m\u001b[0m\n",
            "\u001b[0;31mValueError\u001b[0m: 숫자값을 입력하지 않으셨습니다"
          ]
        }
      ]
    },
    {
      "cell_type": "markdown",
      "source": [
        "- assert 구문"
      ],
      "metadata": {
        "id": "5MoKbIq8ntIc"
      }
    },
    {
      "cell_type": "code",
      "source": [
        "def get_binary_number(decimal_number):\n",
        "    assert isinstance(decimal_number, int)\n",
        "    return bin(decimal_number)\n",
        "\n",
        "# print(get_binary_number(0.5))\n",
        "print(get_binary_number(10))"
      ],
      "metadata": {
        "colab": {
          "base_uri": "https://localhost:8080/"
        },
        "id": "Z16U_ipsnsl9",
        "outputId": "31255af0-46aa-4212-852e-d58e14e952b4"
      },
      "execution_count": null,
      "outputs": [
        {
          "output_type": "stream",
          "name": "stdout",
          "text": [
            "0b1010\n"
          ]
        }
      ]
    },
    {
      "cell_type": "markdown",
      "source": [
        "##**File Handling**"
      ],
      "metadata": {
        "id": "0feqcupsoZds"
      }
    },
    {
      "cell_type": "markdown",
      "source": [
        "f = open(\"<파일 이름>\", \"접근 모드\")\n",
        "f.close()"
      ],
      "metadata": {
        "id": "WW6TQfPMpToi"
      }
    },
    {
      "cell_type": "code",
      "source": [
        "from google.colab import drive\n",
        "drive.mount('/content/gdrive')\n",
        "\n",
        "file_path = \"/content/gdrive/MyDrive/Colab Notebooks/i_have_a_dream.txt\""
      ],
      "metadata": {
        "colab": {
          "base_uri": "https://localhost:8080/"
        },
        "id": "HtCyaL8JsRuY",
        "outputId": "cbbea5d0-3364-47d6-e89e-0b62f8fe4b33"
      },
      "execution_count": 8,
      "outputs": [
        {
          "output_type": "stream",
          "name": "stdout",
          "text": [
            "Drive already mounted at /content/gdrive; to attempt to forcibly remount, call drive.mount(\"/content/gdrive\", force_remount=True).\n"
          ]
        }
      ]
    },
    {
      "cell_type": "code",
      "source": [
        "f = open(file_path, \"r\")     # 대상 파일이 같은 폴더에 있을 경우\n",
        "contents = f.read()\n",
        "\n",
        "print(contents)\n",
        "f.close()"
      ],
      "metadata": {
        "id": "IRhcK_M3oYjq",
        "colab": {
          "base_uri": "https://localhost:8080/"
        },
        "outputId": "6d374096-758b-4b55-856d-f840283d69db"
      },
      "execution_count": 9,
      "outputs": [
        {
          "output_type": "stream",
          "name": "stdout",
          "text": [
            "i have a dream\n",
            "what is your dream\n"
          ]
        }
      ]
    },
    {
      "cell_type": "code",
      "source": [
        "with open(file_path, \"r\") as my_file:\n",
        "    contents = my_file.read()\n",
        "    print(type(contents), contents)"
      ],
      "metadata": {
        "colab": {
          "base_uri": "https://localhost:8080/"
        },
        "id": "p6otQZ4FptdX",
        "outputId": "91a17f8e-2a5b-42d8-bee7-db9cffb5047d"
      },
      "execution_count": 10,
      "outputs": [
        {
          "output_type": "stream",
          "name": "stdout",
          "text": [
            "<class 'str'> i have a dream\n",
            "what is your dream\n"
          ]
        }
      ]
    },
    {
      "cell_type": "code",
      "source": [
        "# 한 줄씩 읽어 List Type으로 반환\n",
        "\n",
        "with open(file_path, \"r\") as my_file:\n",
        "    content_list = my_file.readlines()      # 파일 전체를 list로 반환\n",
        "    print(type(content_list))       # type 확인\n",
        "    print(content_list)             # 리스트 값 출력"
      ],
      "metadata": {
        "colab": {
          "base_uri": "https://localhost:8080/"
        },
        "id": "JkwM9rRFp8PX",
        "outputId": "3ce05309-768a-40cb-d12a-d833dd231352"
      },
      "execution_count": 11,
      "outputs": [
        {
          "output_type": "stream",
          "name": "stdout",
          "text": [
            "<class 'list'>\n",
            "['i have a dream\\n', 'what is your dream']\n"
          ]
        }
      ]
    },
    {
      "cell_type": "code",
      "source": [
        "with open(file_path, \"r\") as my_file:\n",
        "    i = 0\n",
        "    while True:\n",
        "        line = my_file.readline()\n",
        "        if not line:\n",
        "            break\n",
        "        print(str(i) + \"===\" + line.replace(\"\\n\",\"\"))       # 한 줄씩 값 출력\n",
        "        i = i + 1"
      ],
      "metadata": {
        "colab": {
          "base_uri": "https://localhost:8080/"
        },
        "id": "e9Y3pdInqbfU",
        "outputId": "6cad4b75-879f-4e86-b642-b52861567793"
      },
      "execution_count": 12,
      "outputs": [
        {
          "output_type": "stream",
          "name": "stdout",
          "text": [
            "0===i have a dream\n",
            "1===what is your dream\n"
          ]
        }
      ]
    },
    {
      "cell_type": "code",
      "source": [
        "with open(file_path, \"r\") as my_file:\n",
        "    contents = my_file.read()\n",
        "    word_list = contents.split(\" \")     # 빈칸 기준으로 단어를 분리 리스트\n",
        "    line_list = contents.split(\"\\n\")    # 한 줄씩 분리하여 리스트\n",
        "\n",
        "print(\"TotalNumberof Characters:\", len(contents))\n",
        "print(contents,\"\\n\")\n",
        "print(\"TotalNumberof Words:\", len(word_list))\n",
        "print(word_list,\"\\n\")\n",
        "print(\"TotalNumberof Lines :\", len(line_list))\n",
        "print(line_list,\"\\n\")"
      ],
      "metadata": {
        "colab": {
          "base_uri": "https://localhost:8080/"
        },
        "id": "IKPGeIL2tALA",
        "outputId": "2c5d5276-db2b-425f-df49-b13531ea0020"
      },
      "execution_count": 25,
      "outputs": [
        {
          "output_type": "stream",
          "name": "stdout",
          "text": [
            "TotalNumberof Characters: 33\n",
            "i have a dream\n",
            "what is your dream \n",
            "\n",
            "TotalNumberof Words: 7\n",
            "['i', 'have', 'a', 'dream\\nwhat', 'is', 'your', 'dream'] \n",
            "\n",
            "TotalNumberof Lines : 2\n",
            "['i have a dream', 'what is your dream'] \n",
            "\n"
          ]
        }
      ]
    },
    {
      "cell_type": "code",
      "source": [
        "f = open(file_path, \"w\", encoding=\"utf8\")\n",
        "\n",
        "for i in range(1, 11):\n",
        "    data = \"%d번째 줄입니다.\\n\" % i\n",
        "    f.write(data)\n",
        "f.close()"
      ],
      "metadata": {
        "id": "ORwFkc7WwUFK"
      },
      "execution_count": 27,
      "outputs": []
    },
    {
      "cell_type": "code",
      "source": [
        "with open(file_path, \"r\") as my_file:\n",
        "    contents = my_file.read()\n",
        "\n",
        "print(contents)"
      ],
      "metadata": {
        "colab": {
          "base_uri": "https://localhost:8080/"
        },
        "id": "doLwgDpjwmEq",
        "outputId": "fe0faa35-40c3-4a95-9f57-670936033b84"
      },
      "execution_count": 28,
      "outputs": [
        {
          "output_type": "stream",
          "name": "stdout",
          "text": [
            "1번째 줄입니다.\n",
            "2번째 줄입니다.\n",
            "3번째 줄입니다.\n",
            "4번째 줄입니다.\n",
            "5번째 줄입니다.\n",
            "6번째 줄입니다.\n",
            "7번째 줄입니다.\n",
            "8번째 줄입니다.\n",
            "9번째 줄입니다.\n",
            "10번째 줄입니다.\n",
            "\n"
          ]
        }
      ]
    },
    {
      "cell_type": "code",
      "source": [
        "withopen(\"count_log.txt\", 'a', encoding=\"utf8\") as f:\n",
        "    for i in range(1, 11):\n",
        "        data= \"%d번째줄입니다.\\n\" % i\n",
        "        f.write(data)"
      ],
      "metadata": {
        "colab": {
          "base_uri": "https://localhost:8080/",
          "height": 137
        },
        "id": "ZoxXTzxQw1ru",
        "outputId": "4c7a2b94-20ce-48ef-8778-891b2c97ca01"
      },
      "execution_count": 29,
      "outputs": [
        {
          "output_type": "error",
          "ename": "SyntaxError",
          "evalue": "ignored",
          "traceback": [
            "\u001b[0;36m  File \u001b[0;32m\"<ipython-input-29-3963e9e9721a>\"\u001b[0;36m, line \u001b[0;32m1\u001b[0m\n\u001b[0;31m    f = open(file_path, \"a\", encoding=\"utf8\") as f:\u001b[0m\n\u001b[0m                                               ^\u001b[0m\n\u001b[0;31mSyntaxError\u001b[0m\u001b[0;31m:\u001b[0m invalid syntax\n"
          ]
        }
      ]
    },
    {
      "cell_type": "markdown",
      "source": [
        "os 모듈을 사용하여 Directory 다루기"
      ],
      "metadata": {
        "id": "q6HJoODVxmEr"
      }
    },
    {
      "cell_type": "code",
      "source": [
        "import os\n",
        "os.mkdir(\"test\")"
      ],
      "metadata": {
        "id": "vp6FWTd_xokB"
      },
      "execution_count": 32,
      "outputs": []
    },
    {
      "cell_type": "code",
      "source": [
        "# 디렉토리가 있는지 확인\n",
        "if not os.path.isdir(\"log\"):\n",
        "    os.mkdir(\"log\")\n",
        "else:\n",
        "    print(\"It's already exist\")"
      ],
      "metadata": {
        "colab": {
          "base_uri": "https://localhost:8080/"
        },
        "id": "mwze8VTUx3xJ",
        "outputId": "bebac32f-eafb-45de-ee80-bf759bf7425e"
      },
      "execution_count": 34,
      "outputs": [
        {
          "output_type": "stream",
          "name": "stdout",
          "text": [
            "It's already exist\n"
          ]
        }
      ]
    },
    {
      "cell_type": "markdown",
      "source": [
        "최근에는 pathlin 모듈을 사용하여 path를 객체로 다룸"
      ],
      "metadata": {
        "id": "p3MR6GqSywhf"
      }
    },
    {
      "cell_type": "code",
      "source": [
        "import pathlib\n",
        "\n",
        "cwd = pathlib.Path.cwd()\n",
        "\n",
        "cwd.parent\n",
        "print(list(cwd.parents))\n",
        "list(cwd.glob(\"*\"))"
      ],
      "metadata": {
        "colab": {
          "base_uri": "https://localhost:8080/"
        },
        "id": "Iy-G1jOnxkn-",
        "outputId": "9807f7fa-3585-47a2-a7e7-d7573cf45a23"
      },
      "execution_count": 43,
      "outputs": [
        {
          "output_type": "stream",
          "name": "stdout",
          "text": [
            "[PosixPath('/')]\n"
          ]
        },
        {
          "output_type": "execute_result",
          "data": {
            "text/plain": [
              "[PosixPath('/content/.config'),\n",
              " PosixPath('/content/log'),\n",
              " PosixPath('/content/.ipynb_checkpoints'),\n",
              " PosixPath('/content/gdrive'),\n",
              " PosixPath('/content/sample_data')]"
            ]
          },
          "metadata": {},
          "execution_count": 43
        }
      ]
    },
    {
      "cell_type": "markdown",
      "source": [
        "#####Log 파일 생성하기\n",
        "  \n",
        "디렉토리가 있는지, 파일이 있는지 확인"
      ],
      "metadata": {
        "id": "Bue_9vjRy2hO"
      }
    },
    {
      "cell_type": "code",
      "source": [
        "import os\n",
        "\n",
        "if not os.path.isdir(\"log\"):\n",
        "    os.mkdir(\"log\")\n",
        "\n",
        "if not os.path.exists(\"log/count_log.txt\"):\n",
        "    f = open(\"log/count_log.txt\", \"w\", encoding=\"utf=8\")\n",
        "    f.write(\"기록이 시작됩니다\\n\")\n",
        "    f.close()\n",
        "\n",
        "with open(\"log/count_log.txt\", \"a\", encoding=\"utf8\") as f:\n",
        "    import random, datetime\n",
        "    \n",
        "    for i in range(1, 11):\n",
        "        stamp = str(datetime.datetime.now())\n",
        "        value = random.random() * 1000000\n",
        "        log_line = stamp + \"\\t\" + str(value) + \"값이 생성되었습니다\" + \"\\n\"\n",
        "        f.write(log_line)"
      ],
      "metadata": {
        "id": "czJUhEzvy1-d"
      },
      "execution_count": 51,
      "outputs": []
    },
    {
      "cell_type": "markdown",
      "source": [
        "#####Pickle"
      ],
      "metadata": {
        "id": "b72wdPHA0kf-"
      }
    },
    {
      "cell_type": "code",
      "source": [
        "import pickle\n",
        "\n",
        "f = open(\"list.pickle\", \"wb\")\n",
        "test = [1, 2, 3, 4, 5]\n",
        "pickle.dump(test, f)\n",
        "\n",
        "f.close()"
      ],
      "metadata": {
        "id": "_DpuGYb60D7n"
      },
      "execution_count": 54,
      "outputs": []
    },
    {
      "cell_type": "code",
      "source": [
        "import pickle\n",
        "\n",
        "class Multiply(object):\n",
        "    def __init__(self, multiplier):\n",
        "        self.multiplier = multiplier\n",
        "    \n",
        "    def multiply(self, number):\n",
        "        return number * self.multiplier\n",
        "\n",
        "multiply = Multiply(5)\n",
        "multiply.multiply(10)\n",
        "\n",
        "f = open(\"multiply_object.pickle\", \"wb\")\n",
        "pickle.dump(multiply, f)\n",
        "f.close()\n",
        "\n",
        "f = open(\"multiply_object.pickle\", \"rb\")\n",
        "multiply_pickle = pickle.load(f)\n",
        "multiply_pickle.multiply(5)"
      ],
      "metadata": {
        "colab": {
          "base_uri": "https://localhost:8080/"
        },
        "id": "Js5HG3QQ1JR_",
        "outputId": "bee3d95a-192c-4ab8-8a53-4ebd200f7cd5"
      },
      "execution_count": 59,
      "outputs": [
        {
          "output_type": "execute_result",
          "data": {
            "text/plain": [
              "25"
            ]
          },
          "metadata": {},
          "execution_count": 59
        }
      ]
    },
    {
      "cell_type": "markdown",
      "source": [
        "#####Logging Handling"
      ],
      "metadata": {
        "id": "8CZuKqdk2Mxw"
      }
    },
    {
      "cell_type": "markdown",
      "source": [
        "Logging 모듈"
      ],
      "metadata": {
        "id": "ucMOE4nO2Wd9"
      }
    },
    {
      "cell_type": "code",
      "source": [
        "import logging\n",
        "\n",
        "# DEBUG > INFO > WARNING > ERROR > CRITICAL\n",
        "logging.debug(\"틀렸잖아!\")\n",
        "logging.info(\"확인해\")\n",
        "logging.warning(\"조심해!\")\n",
        "logging.error(\"에러났어!!!\")\n",
        "logging.critical(\"망했다...\")"
      ],
      "metadata": {
        "colab": {
          "base_uri": "https://localhost:8080/"
        },
        "id": "dZfxs1zf2O65",
        "outputId": "9a42d2c0-58d9-4200-b704-1ccc2f80eaaf"
      },
      "execution_count": 60,
      "outputs": [
        {
          "output_type": "stream",
          "name": "stderr",
          "text": [
            "WARNING:root:조심해!\n",
            "ERROR:root:에러났어!!!\n",
            "CRITICAL:root:망했다...\n"
          ]
        }
      ]
    },
    {
      "cell_type": "markdown",
      "source": [
        "#####Logging level"
      ],
      "metadata": {
        "id": "246ahSV03ZP4"
      }
    },
    {
      "cell_type": "code",
      "source": [
        "import logging\n",
        "\n",
        "logger = logging.getLogger(\"main\")      # Logger 선언\n",
        "stream_hander = logging.StreamHandler() # Logger의 output 방법 선언\n",
        "logger.addHandler(stream_hander)        # Logger의 output 등록\n",
        "\n",
        "logger.setLevel(logging.DEBUG)\n",
        "logger.debug(\"틀렸잖아!\")\n",
        "logger.info(\"확인해\")\n",
        "logger.warning(\"조심해!\")\n",
        "logger.error(\"에러났어!!!\")\n",
        "logger.critical(\"망했다...\")"
      ],
      "metadata": {
        "colab": {
          "base_uri": "https://localhost:8080/"
        },
        "id": "yhw-vl7g2_Lk",
        "outputId": "b184337f-b905-4429-e526-212819131518"
      },
      "execution_count": 61,
      "outputs": [
        {
          "output_type": "stream",
          "name": "stderr",
          "text": [
            "틀렸잖아!\n",
            "DEBUG:main:틀렸잖아!\n",
            "확인해\n",
            "INFO:main:확인해\n",
            "조심해!\n",
            "WARNING:main:조심해!\n",
            "에러났어!!!\n",
            "ERROR:main:에러났어!!!\n",
            "망했다...\n",
            "CRITICAL:main:망했다...\n"
          ]
        }
      ]
    },
    {
      "cell_type": "markdown",
      "source": [
        "#####configparser"
      ],
      "metadata": {
        "id": "JkAwX5iD4KP5"
      }
    },
    {
      "cell_type": "code",
      "source": [
        "import configparser\n",
        "config = configparser.ConfigParser()\n",
        "config.sections()\n",
        "\n",
        "config.read('example.cfg')\n",
        "config.sections()\n",
        "\n",
        "for key in config['SectionOne']:\n",
        "    print(key)\n",
        "config['SectionOne'][\"status\"]"
      ],
      "metadata": {
        "colab": {
          "base_uri": "https://localhost:8080/",
          "height": 376
        },
        "id": "5HYGkGXb4MUc",
        "outputId": "6f48db4c-e9cb-4902-cce7-b8884b4c8fae"
      },
      "execution_count": 63,
      "outputs": [
        {
          "output_type": "error",
          "ename": "KeyError",
          "evalue": "ignored",
          "traceback": [
            "\u001b[0;31m---------------------------------------------------------------------------\u001b[0m",
            "\u001b[0;31mKeyError\u001b[0m                                  Traceback (most recent call last)",
            "\u001b[0;32m<ipython-input-63-d3a2899a7ee9>\u001b[0m in \u001b[0;36m<module>\u001b[0;34m()\u001b[0m\n\u001b[1;32m      6\u001b[0m \u001b[0mconfig\u001b[0m\u001b[0;34m.\u001b[0m\u001b[0msections\u001b[0m\u001b[0;34m(\u001b[0m\u001b[0;34m)\u001b[0m\u001b[0;34m\u001b[0m\u001b[0;34m\u001b[0m\u001b[0m\n\u001b[1;32m      7\u001b[0m \u001b[0;34m\u001b[0m\u001b[0m\n\u001b[0;32m----> 8\u001b[0;31m \u001b[0;32mfor\u001b[0m \u001b[0mkey\u001b[0m \u001b[0;32min\u001b[0m \u001b[0mconfig\u001b[0m\u001b[0;34m[\u001b[0m\u001b[0;34m'SectionOne'\u001b[0m\u001b[0;34m]\u001b[0m\u001b[0;34m:\u001b[0m\u001b[0;34m\u001b[0m\u001b[0;34m\u001b[0m\u001b[0m\n\u001b[0m\u001b[1;32m      9\u001b[0m     \u001b[0mprint\u001b[0m\u001b[0;34m(\u001b[0m\u001b[0mkey\u001b[0m\u001b[0;34m)\u001b[0m\u001b[0;34m\u001b[0m\u001b[0;34m\u001b[0m\u001b[0m\n\u001b[1;32m     10\u001b[0m \u001b[0mconfig\u001b[0m\u001b[0;34m[\u001b[0m\u001b[0;34m'SectionOne'\u001b[0m\u001b[0;34m]\u001b[0m\u001b[0;34m[\u001b[0m\u001b[0;34m\"status\"\u001b[0m\u001b[0;34m]\u001b[0m\u001b[0;34m\u001b[0m\u001b[0;34m\u001b[0m\u001b[0m\n",
            "\u001b[0;32m/usr/lib/python3.7/configparser.py\u001b[0m in \u001b[0;36m__getitem__\u001b[0;34m(self, key)\u001b[0m\n\u001b[1;32m    956\u001b[0m     \u001b[0;32mdef\u001b[0m \u001b[0m__getitem__\u001b[0m\u001b[0;34m(\u001b[0m\u001b[0mself\u001b[0m\u001b[0;34m,\u001b[0m \u001b[0mkey\u001b[0m\u001b[0;34m)\u001b[0m\u001b[0;34m:\u001b[0m\u001b[0;34m\u001b[0m\u001b[0;34m\u001b[0m\u001b[0m\n\u001b[1;32m    957\u001b[0m         \u001b[0;32mif\u001b[0m \u001b[0mkey\u001b[0m \u001b[0;34m!=\u001b[0m \u001b[0mself\u001b[0m\u001b[0;34m.\u001b[0m\u001b[0mdefault_section\u001b[0m \u001b[0;32mand\u001b[0m \u001b[0;32mnot\u001b[0m \u001b[0mself\u001b[0m\u001b[0;34m.\u001b[0m\u001b[0mhas_section\u001b[0m\u001b[0;34m(\u001b[0m\u001b[0mkey\u001b[0m\u001b[0;34m)\u001b[0m\u001b[0;34m:\u001b[0m\u001b[0;34m\u001b[0m\u001b[0;34m\u001b[0m\u001b[0m\n\u001b[0;32m--> 958\u001b[0;31m             \u001b[0;32mraise\u001b[0m \u001b[0mKeyError\u001b[0m\u001b[0;34m(\u001b[0m\u001b[0mkey\u001b[0m\u001b[0;34m)\u001b[0m\u001b[0;34m\u001b[0m\u001b[0;34m\u001b[0m\u001b[0m\n\u001b[0m\u001b[1;32m    959\u001b[0m         \u001b[0;32mreturn\u001b[0m \u001b[0mself\u001b[0m\u001b[0;34m.\u001b[0m\u001b[0m_proxies\u001b[0m\u001b[0;34m[\u001b[0m\u001b[0mkey\u001b[0m\u001b[0;34m]\u001b[0m\u001b[0;34m\u001b[0m\u001b[0;34m\u001b[0m\u001b[0m\n\u001b[1;32m    960\u001b[0m \u001b[0;34m\u001b[0m\u001b[0m\n",
            "\u001b[0;31mKeyError\u001b[0m: 'SectionOne'"
          ]
        }
      ]
    },
    {
      "cell_type": "markdown",
      "source": [
        "#####argparser"
      ],
      "metadata": {
        "id": "6HosFgqN5IiV"
      }
    },
    {
      "cell_type": "code",
      "source": [
        "import argparse\n",
        "parser = argparse.ArgumentParser(description='Sum two integers.')\n",
        "\n",
        "parser.add_argument('-a', \"--a_value\", dest=\"A_value\", help=\"A integers\", type=int)\n",
        "parser.add_argument('-b', \"--b_value\", dest=\"B_value\", help=\"B integers\", type=int)\n",
        "\n",
        "args = parser.parse_args()\n",
        "print(args)\n",
        "print(args.a)\n",
        "print(args.b)\n",
        "print(args.a+args.b)"
      ],
      "metadata": {
        "colab": {
          "base_uri": "https://localhost:8080/",
          "height": 213
        },
        "id": "f8PsGjZK5LhU",
        "outputId": "192bc271-a4be-4710-df6f-3b1c7081c02e"
      },
      "execution_count": 64,
      "outputs": [
        {
          "output_type": "stream",
          "name": "stderr",
          "text": [
            "usage: ipykernel_launcher.py [-h] [-a A_VALUE] [-b B_VALUE]\n",
            "ipykernel_launcher.py: error: unrecognized arguments: -f /root/.local/share/jupyter/runtime/kernel-db1c1025-b608-4734-87df-40b1098d1e6e.json\n"
          ]
        },
        {
          "output_type": "error",
          "ename": "SystemExit",
          "evalue": "ignored",
          "traceback": [
            "An exception has occurred, use %tb to see the full traceback.\n",
            "\u001b[0;31mSystemExit\u001b[0m\u001b[0;31m:\u001b[0m 2\n"
          ]
        },
        {
          "output_type": "stream",
          "name": "stderr",
          "text": [
            "/usr/local/lib/python3.7/dist-packages/IPython/core/interactiveshell.py:2890: UserWarning: To exit: use 'exit', 'quit', or Ctrl-D.\n",
            "  warn(\"To exit: use 'exit', 'quit', or Ctrl-D.\", stacklevel=1)\n"
          ]
        }
      ]
    },
    {
      "cell_type": "markdown",
      "source": [
        "#####logging example"
      ],
      "metadata": {
        "id": "77f6sD0W6QAx"
      }
    },
    {
      "cell_type": "code",
      "source": [
        "logger.info('Open file {0}'.format(\"customers.csv\",))\n",
        "try:\n",
        "    with open(\"customers.csv\", \"r\") as customer_data:\n",
        "        customer_reader =csv.reader(customer_data, delimiter=',', quotechar='\"')\n",
        "\n",
        "        for customer in customer_reader:\n",
        "            if customer[10].upper() ==\"USA\": #customer 데이터의offset 10번째값\n",
        "                logger.info('ID {0} added'.format(customer[0],))\n",
        "                customer_USA_only_list.append(customer) #즉country 필드가“USA” 것만\n",
        "                \n",
        "except FileNotFoundError as e:\n",
        "    logger.error('File NOT found {0}'.format(e,))"
      ],
      "metadata": {
        "id": "iEmSJU5l6S5d"
      },
      "execution_count": null,
      "outputs": []
    }
  ]
}