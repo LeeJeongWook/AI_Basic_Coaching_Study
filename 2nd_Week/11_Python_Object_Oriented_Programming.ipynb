{
  "nbformat": 4,
  "nbformat_minor": 0,
  "metadata": {
    "colab": {
      "name": "11_Python_Object-Oriented_Programming.ipynb",
      "provenance": [],
      "collapsed_sections": []
    },
    "kernelspec": {
      "name": "python3",
      "display_name": "Python 3"
    },
    "language_info": {
      "name": "python"
    }
  },
  "cells": [
    {
      "cell_type": "markdown",
      "source": [
        "##**클래스와 객체**"
      ],
      "metadata": {
        "id": "fjy74-C8g89E"
      }
    },
    {
      "cell_type": "markdown",
      "source": [
        "#####class 구현하기 in Python"
      ],
      "metadata": {
        "id": "N8dlVOMihnQs"
      }
    },
    {
      "cell_type": "code",
      "execution_count": 7,
      "metadata": {
        "id": "f7FJIysqgi5Q"
      },
      "outputs": [],
      "source": [
        "class SoccerPlayer(object):\n",
        "    def __init__(self, name, position, back_number):\n",
        "        self.name = name\n",
        "        self.position = position\n",
        "        self.back_number = back_number\n",
        "\n",
        "    def change_back_number(self, new_number):\n",
        "        print(\"선수의 등번호를 변경합니다 : From %d to %d\" % (self.back_number, new_number))\n",
        "        self.back_number = new_number"
      ]
    },
    {
      "cell_type": "code",
      "source": [
        "jinhyun = SoccerPlayer(\"Jinhyun\", \"MF\", 10)\n",
        "print(jinhyun)"
      ],
      "metadata": {
        "colab": {
          "base_uri": "https://localhost:8080/"
        },
        "id": "tKfLbMdYlCdf",
        "outputId": "e32e3b20-f561-4e3e-e2c1-b0f583e9cd65"
      },
      "execution_count": 8,
      "outputs": [
        {
          "output_type": "stream",
          "name": "stdout",
          "text": [
            "<__main__.SoccerPlayer object at 0x7fc11c81b6d0>\n"
          ]
        }
      ]
    },
    {
      "cell_type": "code",
      "source": [
        "print(jinhyun.name)\n",
        "print(jinhyun.position)\n",
        "print(jinhyun.back_number)"
      ],
      "metadata": {
        "colab": {
          "base_uri": "https://localhost:8080/"
        },
        "id": "OUcvA6HFlqie",
        "outputId": "14ca468f-96ba-40bc-c7dd-82a718f86f0c"
      },
      "execution_count": 9,
      "outputs": [
        {
          "output_type": "stream",
          "name": "stdout",
          "text": [
            "Jinhyun\n",
            "MF\n",
            "10\n"
          ]
        }
      ]
    },
    {
      "cell_type": "code",
      "source": [
        "print(\"현재 선수의 등번호는 : \", jinhyun.back_number)\n",
        "jinhyun.change_back_number(5)\n",
        "print(\"현재 선수의 등번호는 : \", jinhyun.back_number)"
      ],
      "metadata": {
        "colab": {
          "base_uri": "https://localhost:8080/"
        },
        "id": "6s6QOc6ElzQ7",
        "outputId": "412442f5-ccb0-454b-b6b2-41cd045f7117"
      },
      "execution_count": 10,
      "outputs": [
        {
          "output_type": "stream",
          "name": "stdout",
          "text": [
            "현재 선수의 등번호는 :  10\n",
            "선수의 등번호를 변경합니다 : From 10 to 5\n",
            "현재 선수의 등번호는 :  5\n"
          ]
        }
      ]
    },
    {
      "cell_type": "markdown",
      "source": [
        "#####OOP Implementaion Example"
      ],
      "metadata": {
        "id": "JFSMfrmYmsTZ"
      }
    },
    {
      "cell_type": "markdown",
      "source": [
        "Note Class"
      ],
      "metadata": {
        "id": "XjlIhYBvn6LX"
      }
    },
    {
      "cell_type": "code",
      "source": [
        "class Note(object):\n",
        "    def __init__(self, content = None):\n",
        "        self.content = content\n",
        "\n",
        "    def write_content(self, content):\n",
        "        self.content = content\n",
        "    \n",
        "    def remove_all(self):\n",
        "        self.content = \"\"\n",
        "    \n",
        "    def __add__(self, other):\n",
        "        return self.content + other.content\n",
        "    \n",
        "    def __str__(self):\n",
        "        return self.content"
      ],
      "metadata": {
        "id": "Xi-_tHCYmysA"
      },
      "execution_count": 13,
      "outputs": []
    },
    {
      "cell_type": "markdown",
      "source": [
        "Notebook Class"
      ],
      "metadata": {
        "id": "kO3MgMYrn7sM"
      }
    },
    {
      "cell_type": "code",
      "source": [
        "class NoteBook(object):\n",
        "    def __init__(self, title):\n",
        "        self.title = title\n",
        "        self.page_number = 1\n",
        "        self.notes = {}\n",
        "    \n",
        "    def add_note(self, note, page = 0):\n",
        "        if self.page_number < 3:\n",
        "            if page == 0:\n",
        "                self.notes[self.page_number] = note\n",
        "                self.page_number += 1\n",
        "            else:\n",
        "                self.notes = {page : note}\n",
        "                self.page_number += 1\n",
        "        else:\n",
        "            print(\"Page가 모두 채워졌습니다.\")\n",
        "    \n",
        "    def remove_note(self, page_number):\n",
        "        if page_number in self.notes.keys():\n",
        "            return self.notes.pop(page_number)\n",
        "        else:\n",
        "            print(\"해당 페이지는 존재하지 않습니다\")\n",
        "    \n",
        "    def get_number_of_pages(self):\n",
        "        return len(self.notes.keys())"
      ],
      "metadata": {
        "id": "YjN5Dfcln9hC"
      },
      "execution_count": 111,
      "outputs": []
    },
    {
      "cell_type": "code",
      "source": [
        "a = Note(\"hello\")\n",
        "b = Note(\"my name is\")\n",
        "c = Note(\"jeongwook\")\n",
        "print(a.content)\n",
        "\n",
        "my_notebook = NoteBook(\"mymy\")\n",
        "my_notebook.add_note(a)\n",
        "my_notebook.add_note(b)\n",
        "my_notebook.add_note(c)\n",
        "print(my_notebook.get_number_of_pages())"
      ],
      "metadata": {
        "colab": {
          "base_uri": "https://localhost:8080/"
        },
        "id": "g9l9jxPjpkVu",
        "outputId": "47f9b9cc-af41-4f3a-9fa3-222e1598938a"
      },
      "execution_count": 113,
      "outputs": [
        {
          "output_type": "stream",
          "name": "stdout",
          "text": [
            "hello\n",
            "Page가 모두 채워졌습니다.\n",
            "2\n"
          ]
        }
      ]
    },
    {
      "cell_type": "markdown",
      "source": [
        "##**OOP characteristics**"
      ],
      "metadata": {
        "id": "-XVHaP0ptCRp"
      }
    },
    {
      "cell_type": "markdown",
      "source": [
        "#####**Inheritance : 상속**"
      ],
      "metadata": {
        "id": "EvPJjxs42nxT"
      }
    },
    {
      "cell_type": "code",
      "source": [
        "class Person(object):\n",
        "    def __init__(self, name, age):\n",
        "        self.name = name\n",
        "        self.age = age\n",
        "\n",
        "class Korean(Person):\n",
        "    pass\n",
        "\n",
        "first_korean = Korean(\"Jeongwook\", 29)\n",
        "print(first_korean.name)"
      ],
      "metadata": {
        "colab": {
          "base_uri": "https://localhost:8080/"
        },
        "id": "Pyf7hDhk2ndX",
        "outputId": "5787b0f9-5b81-4a91-b512-2b756a3e0ed1"
      },
      "execution_count": 115,
      "outputs": [
        {
          "output_type": "stream",
          "name": "stdout",
          "text": [
            "Jeongwook\n"
          ]
        }
      ]
    },
    {
      "cell_type": "markdown",
      "source": [
        "#####Inheritance example"
      ],
      "metadata": {
        "id": "NZfzT7OF5muM"
      }
    },
    {
      "cell_type": "code",
      "source": [
        "class Person(object):       # 부모 클래스 Person 선언\n",
        "    def __init__(self, name, age, gender):\n",
        "        self.name = name\n",
        "        self.age = age\n",
        "        self.gender = gender\n",
        "    \n",
        "    def about_me(self):     # Method 선언\n",
        "        print(\"저의 이름은 \", self.name, \"이구요, 제 나이는 \", str(self.age),\"살 입니다.\")"
      ],
      "metadata": {
        "id": "SYZYCz2G2_wz"
      },
      "execution_count": 116,
      "outputs": []
    },
    {
      "cell_type": "code",
      "source": [
        "first_Person = Person(\"이정욱\", 29, \"남자\")\n",
        "first_Person.about_me()"
      ],
      "metadata": {
        "colab": {
          "base_uri": "https://localhost:8080/"
        },
        "id": "InGWv1dp5IAO",
        "outputId": "fdaacc2b-86aa-40c3-859c-5ba6a21895a2"
      },
      "execution_count": 119,
      "outputs": [
        {
          "output_type": "stream",
          "name": "stdout",
          "text": [
            "저의 이름은  이정욱 이구요, 제 나이는  29 살 입니다.\n"
          ]
        }
      ]
    },
    {
      "cell_type": "code",
      "source": [
        "class Employee(Person):     # 부모 클래스 Person으로 부터 상속\n",
        "    def __init__(self, name, age, gender, salary, hire_date):\n",
        "        super().__init__(name, age, gender)     # 부모 객체 사용\n",
        "        self.salary = salary\n",
        "        self.hire_date = hire_date      # 속성값 추가\n",
        "        \n",
        "    def do_work(self):      # 새로운 메서드 추가\n",
        "        print(\"열심히 일을 합니다.\")\n",
        "    \n",
        "    def about_me(self):     # 부모 클래스 함수 재정의\n",
        "        super().about_me()  # 부모 클래스 함수 사용\n",
        "        print(\"제급여는\", self.salary, \"원이구요, 제입사일은\", self.hire_date, \" 입니다.\")"
      ],
      "metadata": {
        "id": "wpobJQRe5jwO"
      },
      "execution_count": 125,
      "outputs": []
    },
    {
      "cell_type": "code",
      "source": [
        "jeongwook = Employee(\"이정욱\",\"29\",\"남성\",\"1000\", \"19년 3월 11일\")\n",
        "\n",
        "jeongwook.about_me()"
      ],
      "metadata": {
        "colab": {
          "base_uri": "https://localhost:8080/"
        },
        "id": "RvYvLv_u7-9T",
        "outputId": "6fc8e7a9-a3e2-4a66-9f3f-7382c71ba522"
      },
      "execution_count": 127,
      "outputs": [
        {
          "output_type": "stream",
          "name": "stdout",
          "text": [
            "저의 이름은  이정욱 이구요, 제 나이는  29 살 입니다.\n",
            "제급여는 1000 원이구요, 제입사일은 19년 3월 11일  입니다.\n"
          ]
        }
      ]
    },
    {
      "cell_type": "markdown",
      "source": [
        "#####**Polymorphism : 다형성**"
      ],
      "metadata": {
        "id": "cB_aLdx88qHy"
      }
    },
    {
      "cell_type": "markdown",
      "source": [
        "Polymorphism code"
      ],
      "metadata": {
        "id": "-CNlbwBCAKBA"
      }
    },
    {
      "cell_type": "code",
      "source": [
        "class Animal:\n",
        "    def __init__(self, name):     # Constructor of the class\n",
        "        self.name = name\n",
        "\n",
        "    def talk(self):     # Abstract method, defined by convection only\n",
        "        raise NotImplementedError(\"Subclass must implement abstract method\")\n",
        "    \n",
        "class Cat(Animal):\n",
        "    def talk(self):\n",
        "        return 'Meow!'\n",
        "\n",
        "class Dog(Animal):\n",
        "    def talk(self):\n",
        "        return 'Woof! Woof!'\n",
        "\n",
        "animals = [Cat('Missy'), Cat('Mr, Mistoffelees'), Dog('Lassie')]\n",
        "\n",
        "for animal in animals:\n",
        "    print(animal.name + ': ' + animal.talk())"
      ],
      "metadata": {
        "colab": {
          "base_uri": "https://localhost:8080/"
        },
        "id": "2LrM--5I8o_8",
        "outputId": "6543cac9-7534-49b1-f935-37a62f66cd31"
      },
      "execution_count": 137,
      "outputs": [
        {
          "output_type": "stream",
          "name": "stdout",
          "text": [
            "Missy: Meow!\n",
            "Mr, Mistoffelees: Meow!\n",
            "Lassie: Woof! Woof!\n"
          ]
        }
      ]
    },
    {
      "cell_type": "markdown",
      "source": [
        "#####**Visibility : 가시성**"
      ],
      "metadata": {
        "id": "zxO71zbCAOsN"
      }
    },
    {
      "cell_type": "markdown",
      "source": [
        "Visibility Example 1"
      ],
      "metadata": {
        "id": "WC_ZmvfjAfiX"
      }
    },
    {
      "cell_type": "code",
      "source": [
        "class Product(object):\n",
        "    pass\n",
        "\n",
        "class Inventory(object):\n",
        "    def __init__(self):\n",
        "        self.__items = []       # Private 변수로 선언 타 객체가 접근 못함\n",
        "    \n",
        "    def add_new_item(self, product):\n",
        "        if type(product) == Product:\n",
        "            self.__items.append(product)\n",
        "            print(\"new item added\")\n",
        "        else:\n",
        "            raise ValueError(\"Invalid Item\")\n",
        "    \n",
        "    def get_number_of_items(self):\n",
        "        return len(self.__items)"
      ],
      "metadata": {
        "id": "_AiQSJQkAJHI"
      },
      "execution_count": 147,
      "outputs": []
    },
    {
      "cell_type": "code",
      "source": [
        "my_inventory= Inventory()\n",
        "my_inventory.add_new_item(Product())\n",
        "my_inventory.add_new_item(Product())\n",
        "print(my_inventory.get_number_of_items())\n",
        "\n",
        "# print(my_inventory.__items)\n",
        "# my_inventory.add_new_item(object)"
      ],
      "metadata": {
        "colab": {
          "base_uri": "https://localhost:8080/"
        },
        "id": "Cy5AbC9LDFg4",
        "outputId": "3337b617-2a89-4c45-cd64-c0c2fc305dba"
      },
      "execution_count": 148,
      "outputs": [
        {
          "output_type": "stream",
          "name": "stdout",
          "text": [
            "new item added\n",
            "new item added\n",
            "2\n"
          ]
        }
      ]
    },
    {
      "cell_type": "markdown",
      "source": [
        "Visibility Example 2"
      ],
      "metadata": {
        "id": "X389F0aeDaEO"
      }
    },
    {
      "cell_type": "code",
      "source": [
        "class Inventory(object):\n",
        "    def __init__(self):\n",
        "        self.__items = []\n",
        "    \n",
        "    @property       # property decorator 숨겨진 변수를 반환하게 해줌\n",
        "    def items(self):\n",
        "        return self.__items\n",
        "        \n",
        "    def add_new_item(self, product):\n",
        "        if type(product) == Product:\n",
        "            self.__items.append(product)\n",
        "            print(\"new item added\")\n",
        "        else:\n",
        "            raise ValueError(\"Invalid Item\")\n",
        "    \n",
        "    def get_number_of_items(self):\n",
        "        return len(self.__items)"
      ],
      "metadata": {
        "id": "5k9WPQ18DYOS"
      },
      "execution_count": 151,
      "outputs": []
    },
    {
      "cell_type": "code",
      "source": [
        "    \n",
        "my_inventory = Inventory()\n",
        "my_inventory.add_new_item(Product())\n",
        "my_inventory.add_new_item(Product())\n",
        "print(my_inventory.get_number_of_items())\n",
        "\n",
        "items = my_inventory.items\n",
        "items.append(Product())\n",
        "print(my_inventory.get_number_of_items())"
      ],
      "metadata": {
        "colab": {
          "base_uri": "https://localhost:8080/"
        },
        "id": "5zDKMZHnEe_j",
        "outputId": "f4edf96a-00ae-4ff7-9f67-18dffc0da76e"
      },
      "execution_count": 152,
      "outputs": [
        {
          "output_type": "stream",
          "name": "stdout",
          "text": [
            "new item added\n",
            "new item added\n",
            "2\n",
            "3\n"
          ]
        }
      ]
    },
    {
      "cell_type": "markdown",
      "source": [
        "#####Decorate"
      ],
      "metadata": {
        "id": "f3DE3mMZE7XK"
      }
    },
    {
      "cell_type": "code",
      "source": [
        "class Student:\n",
        "    def __init__(self, name, marks):\n",
        "        self.name = name\n",
        "        self.marks = marks\n",
        "        # self.gotmarks = self.name + 'obtained' + self.marks + ' marks'\n",
        "\n",
        "    @property\n",
        "    def gotmarks(self):\n",
        "        return self.name + 'obtained' + self.marks + ' marks'"
      ],
      "metadata": {
        "id": "oHoYBURKE6dj"
      },
      "execution_count": 153,
      "outputs": []
    },
    {
      "cell_type": "markdown",
      "source": [
        "First-class object"
      ],
      "metadata": {
        "id": "9RuxlHeDGo5B"
      }
    },
    {
      "cell_type": "code",
      "source": [
        "def square(x):\n",
        "    return x * x\n",
        "\n",
        "f = square\n",
        "f(5)"
      ],
      "metadata": {
        "colab": {
          "base_uri": "https://localhost:8080/"
        },
        "id": "CSp4vKiFGrJN",
        "outputId": "b9de8833-8383-4247-e519-392d637e1822"
      },
      "execution_count": 155,
      "outputs": [
        {
          "output_type": "execute_result",
          "data": {
            "text/plain": [
              "25"
            ]
          },
          "metadata": {},
          "execution_count": 155
        }
      ]
    },
    {
      "cell_type": "code",
      "source": [
        "def square(x):\n",
        "    return x * x\n",
        "\n",
        "def cube(x):\n",
        "    return x * x * x\n",
        "\n",
        "def formula(method, argument_list):\n",
        "    return [method(value) for value in argument_list]"
      ],
      "metadata": {
        "id": "FOs_7OtNGyw7"
      },
      "execution_count": 156,
      "outputs": []
    },
    {
      "cell_type": "code",
      "source": [
        "print(square(10))\n",
        "print(cube(10))\n",
        "print(formula(cube, [1, 2, 3]))"
      ],
      "metadata": {
        "colab": {
          "base_uri": "https://localhost:8080/"
        },
        "id": "e10Y2En6HDFE",
        "outputId": "ddf07677-9254-483d-951d-1106798bf108"
      },
      "execution_count": 164,
      "outputs": [
        {
          "output_type": "stream",
          "name": "stdout",
          "text": [
            "100\n",
            "1000\n",
            "[1, 8, 27]\n"
          ]
        }
      ]
    },
    {
      "cell_type": "markdown",
      "source": [
        "Inner function"
      ],
      "metadata": {
        "id": "E1w-Nc1HHrOn"
      }
    },
    {
      "cell_type": "code",
      "source": [
        "def print_msg(msg):\n",
        "    def printer():\n",
        "        print(msg)\n",
        "    printer()\n",
        "\n",
        "print_msg(\"Hello, Python\")"
      ],
      "metadata": {
        "colab": {
          "base_uri": "https://localhost:8080/"
        },
        "id": "zfP9yMIuHqVM",
        "outputId": "8a6e8895-2007-4edf-a657-0475d1334ca6"
      },
      "execution_count": 165,
      "outputs": [
        {
          "output_type": "stream",
          "name": "stdout",
          "text": [
            "Hello, Python\n"
          ]
        }
      ]
    },
    {
      "cell_type": "code",
      "source": [
        "def print_msg(msg):\n",
        "    def printer():\n",
        "        print(msg)\n",
        "    return printer\n",
        "\n",
        "another = print_msg(\"Hello, Python\")\n",
        "another()"
      ],
      "metadata": {
        "colab": {
          "base_uri": "https://localhost:8080/"
        },
        "id": "JtyVua6nH3hG",
        "outputId": "ec054eb7-813f-4b83-cd86-c14e1f8b7069"
      },
      "execution_count": 168,
      "outputs": [
        {
          "output_type": "stream",
          "name": "stdout",
          "text": [
            "Hello, Python\n"
          ]
        }
      ]
    },
    {
      "cell_type": "markdown",
      "source": [
        "Closure example"
      ],
      "metadata": {
        "id": "p0x8yU8EIH_u"
      }
    },
    {
      "cell_type": "code",
      "source": [
        "def tag_func(tag, text):\n",
        "    text = text\n",
        "    tag = tag\n",
        "\n",
        "    def inner_func():\n",
        "        return '<{0}>{1}<{0}>'.format(tag. text)\n",
        "    \n",
        "    return inner_func\n",
        "\n",
        "h1_func = tag_func('title', \"This is Python Class\")\n",
        "p_func = tag_func('p', \"Data Academy\")"
      ],
      "metadata": {
        "id": "p7xpDvpEIJ17"
      },
      "execution_count": 180,
      "outputs": []
    },
    {
      "cell_type": "markdown",
      "source": [
        "Decorator function"
      ],
      "metadata": {
        "id": "NzAZYo1jJD2r"
      }
    },
    {
      "cell_type": "code",
      "source": [
        "def star(func):\n",
        "    def inner(*args, **kwargs):\n",
        "        print(\"*\" * 30)\n",
        "        func(*args, **kwargs)\n",
        "        print(\"*\" * 30)\n",
        "    return inner\n",
        "\n",
        "@star\n",
        "def printer(msg):\n",
        "    print(msg)\n",
        "    \n",
        "printer(\"Hello\")"
      ],
      "metadata": {
        "colab": {
          "base_uri": "https://localhost:8080/"
        },
        "id": "Q7Aff-MOJC20",
        "outputId": "14b6f918-4045-434b-d42a-4958688851a1"
      },
      "execution_count": 182,
      "outputs": [
        {
          "output_type": "stream",
          "name": "stdout",
          "text": [
            "******************************\n",
            "Hello\n",
            "******************************\n"
          ]
        }
      ]
    },
    {
      "cell_type": "code",
      "source": [
        "def star(func):\n",
        "    def inner(*args, **kwargs):\n",
        "        print(\"*\" * 30)\n",
        "        func(*args, **kwargs)\n",
        "        print(\"*\" * 30)\n",
        "    return inner\n",
        "\n",
        "def percent(func):\n",
        "    def inner(*args, **kwargs):\n",
        "        print(\"%\" * 30)\n",
        "        func(*args, **kwargs)\n",
        "        print(\"%\" * 30)\n",
        "    return inner\n",
        "\n",
        "@star\n",
        "@percent\n",
        "def printer(msg):\n",
        "    print(msg)\n",
        "\n",
        "printer(\"Hello\")"
      ],
      "metadata": {
        "colab": {
          "base_uri": "https://localhost:8080/"
        },
        "id": "199oxiogJi00",
        "outputId": "ee8441fc-9094-4100-b429-119eac7e88e4"
      },
      "execution_count": 185,
      "outputs": [
        {
          "output_type": "stream",
          "name": "stdout",
          "text": [
            "******************************\n",
            "%%%%%%%%%%%%%%%%%%%%%%%%%%%%%%\n",
            "Hello\n",
            "%%%%%%%%%%%%%%%%%%%%%%%%%%%%%%\n",
            "******************************\n"
          ]
        }
      ]
    },
    {
      "cell_type": "code",
      "source": [
        "def generate_power(exponent):\n",
        "    def wrapper(f):\n",
        "        def inner(*args):\n",
        "            result = f(*args)\n",
        "            return exponent**result\n",
        "        return inner\n",
        "    return wrapper\n",
        "\n",
        "@generate_power(2)\n",
        "def raise_two(n):\n",
        "    return n**2\n",
        "\n",
        "print(raise_two(7))"
      ],
      "metadata": {
        "colab": {
          "base_uri": "https://localhost:8080/"
        },
        "id": "H56UBo43J-I7",
        "outputId": "70710cfe-68aa-4c05-d5cb-699849ff74fb"
      },
      "execution_count": 187,
      "outputs": [
        {
          "output_type": "stream",
          "name": "stdout",
          "text": [
            "562949953421312\n"
          ]
        }
      ]
    }
  ]
}