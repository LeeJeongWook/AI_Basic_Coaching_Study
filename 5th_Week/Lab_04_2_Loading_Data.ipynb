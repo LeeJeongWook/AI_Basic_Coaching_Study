{
  "nbformat": 4,
  "nbformat_minor": 0,
  "metadata": {
    "colab": {
      "name": "Lab-04-2_Loading_Data.ipynb",
      "provenance": []
    },
    "kernelspec": {
      "name": "python3",
      "display_name": "Python 3"
    },
    "language_info": {
      "name": "python"
    }
  },
  "cells": [
    {
      "cell_type": "code",
      "execution_count": 19,
      "metadata": {
        "id": "y0e7sMT0zU79"
      },
      "outputs": [],
      "source": [
        "import torch\n",
        "import torch.nn as nn\n",
        "import torch.nn.functional as F\n",
        "from torch import optim\n",
        "from torch.utils.data import Dataset\n",
        "from torch.utils.data import DataLoader\n",
        "\n",
        "class CustomDataset(Dataset):\n",
        "    def __init__(self):\n",
        "        self.x_data = [[73, 80, 75],\n",
        "                       [93, 88, 93],\n",
        "                       [89, 91, 90],\n",
        "                       [96, 98, 100],\n",
        "                       [73, 66, 70]]\n",
        "        self.y_data = [[152], [185], [180], [196], [142]]\n",
        "\n",
        "    def __len__(self):\n",
        "        return len(self.x_data)\n",
        "\n",
        "    def __getitem__(self, idx):\n",
        "        x = torch.FloatTensor(self.x_data[idx])\n",
        "        y = torch.FloatTensor(self.y_data[idx])\n",
        "\n",
        "        return x, y\n",
        "\n",
        "dataset = CustomDataset()"
      ]
    },
    {
      "cell_type": "code",
      "source": [
        "from torch.utils.data import DataLoader\n",
        "\n",
        "dataloader = DataLoader(\n",
        "    dataset,\n",
        "    batch_size=2,\n",
        "    shuffle=True,\n",
        ")"
      ],
      "metadata": {
        "id": "NEFHZRTU2fnq"
      },
      "execution_count": 15,
      "outputs": []
    },
    {
      "cell_type": "code",
      "source": [
        "nb_epochs = 20\n",
        "model = nn.Linear(3,1)\n",
        "optimizer = torch.optim.SGD(model.parameters(), lr=1e-5)\n",
        "\n",
        "for epoch in range(nb_epochs + 1):\n",
        "    for batch_idx, samples in enumerate(dataloader):\n",
        "        x_train, y_train = samples\n",
        "\n",
        "        # H(x)계산\n",
        "        prediction = model(x_train)\n",
        "\n",
        "        # Cost 계산\n",
        "        cost = F.mse_loss(prediction, y_train)\n",
        "\n",
        "        # Cost로 H(x) 개선\n",
        "        optimizer.zero_grad()\n",
        "        cost.backward()\n",
        "        optimizer.step()\n",
        "\n",
        "        print('Epoch {:4d}/{} Batch {}/{} Cost: {:.6f}'.format(epoch, nb_epochs, batch_idx+1, len(dataloader), cost.item()))"
      ],
      "metadata": {
        "colab": {
          "base_uri": "https://localhost:8080/"
        },
        "id": "Wn2oVWT72xra",
        "outputId": "ecf67ed7-6bb4-43a5-abd5-c3c877446fd2"
      },
      "execution_count": 22,
      "outputs": [
        {
          "output_type": "stream",
          "name": "stdout",
          "text": [
            "Epoch    0/20 Batch 1/3 Cost: 47272.296875\n",
            "Epoch    0/20 Batch 2/3 Cost: 19375.808594\n",
            "Epoch    0/20 Batch 3/3 Cost: 2463.210205\n",
            "Epoch    1/20 Batch 1/3 Cost: 1572.688965\n",
            "Epoch    1/20 Batch 2/3 Cost: 665.109436\n",
            "Epoch    1/20 Batch 3/3 Cost: 262.112213\n",
            "Epoch    2/20 Batch 1/3 Cost: 41.885323\n",
            "Epoch    2/20 Batch 2/3 Cost: 11.981087\n",
            "Epoch    2/20 Batch 3/3 Cost: 8.972281\n",
            "Epoch    3/20 Batch 1/3 Cost: 1.573668\n",
            "Epoch    3/20 Batch 2/3 Cost: 0.548729\n",
            "Epoch    3/20 Batch 3/3 Cost: 0.159873\n",
            "Epoch    4/20 Batch 1/3 Cost: 0.820672\n",
            "Epoch    4/20 Batch 2/3 Cost: 0.387751\n",
            "Epoch    4/20 Batch 3/3 Cost: 0.385359\n",
            "Epoch    5/20 Batch 1/3 Cost: 0.206313\n",
            "Epoch    5/20 Batch 2/3 Cost: 0.585858\n",
            "Epoch    5/20 Batch 3/3 Cost: 0.659363\n",
            "Epoch    6/20 Batch 1/3 Cost: 0.566308\n",
            "Epoch    6/20 Batch 2/3 Cost: 0.145844\n",
            "Epoch    6/20 Batch 3/3 Cost: 0.875476\n",
            "Epoch    7/20 Batch 1/3 Cost: 0.413838\n",
            "Epoch    7/20 Batch 2/3 Cost: 0.445841\n",
            "Epoch    7/20 Batch 3/3 Cost: 0.649832\n",
            "Epoch    8/20 Batch 1/3 Cost: 0.173693\n",
            "Epoch    8/20 Batch 2/3 Cost: 0.581985\n",
            "Epoch    8/20 Batch 3/3 Cost: 0.612762\n",
            "Epoch    9/20 Batch 1/3 Cost: 0.450044\n",
            "Epoch    9/20 Batch 2/3 Cost: 0.555196\n",
            "Epoch    9/20 Batch 3/3 Cost: 0.051628\n",
            "Epoch   10/20 Batch 1/3 Cost: 0.252449\n",
            "Epoch   10/20 Batch 2/3 Cost: 0.516484\n",
            "Epoch   10/20 Batch 3/3 Cost: 0.600166\n",
            "Epoch   11/20 Batch 1/3 Cost: 0.905031\n",
            "Epoch   11/20 Batch 2/3 Cost: 0.337369\n",
            "Epoch   11/20 Batch 3/3 Cost: 0.351181\n",
            "Epoch   12/20 Batch 1/3 Cost: 1.027322\n",
            "Epoch   12/20 Batch 2/3 Cost: 0.556967\n",
            "Epoch   12/20 Batch 3/3 Cost: 0.252769\n",
            "Epoch   13/20 Batch 1/3 Cost: 0.199460\n",
            "Epoch   13/20 Batch 2/3 Cost: 0.553716\n",
            "Epoch   13/20 Batch 3/3 Cost: 0.520425\n",
            "Epoch   14/20 Batch 1/3 Cost: 0.824125\n",
            "Epoch   14/20 Batch 2/3 Cost: 0.439844\n",
            "Epoch   14/20 Batch 3/3 Cost: 0.536352\n",
            "Epoch   15/20 Batch 1/3 Cost: 0.560875\n",
            "Epoch   15/20 Batch 2/3 Cost: 0.548223\n",
            "Epoch   15/20 Batch 3/3 Cost: 0.038272\n",
            "Epoch   16/20 Batch 1/3 Cost: 0.326152\n",
            "Epoch   16/20 Batch 2/3 Cost: 1.130204\n",
            "Epoch   16/20 Batch 3/3 Cost: 0.147130\n",
            "Epoch   17/20 Batch 1/3 Cost: 0.208965\n",
            "Epoch   17/20 Batch 2/3 Cost: 0.565935\n",
            "Epoch   17/20 Batch 3/3 Cost: 0.603220\n",
            "Epoch   18/20 Batch 1/3 Cost: 0.201441\n",
            "Epoch   18/20 Batch 2/3 Cost: 0.445388\n",
            "Epoch   18/20 Batch 3/3 Cost: 0.813481\n",
            "Epoch   19/20 Batch 1/3 Cost: 0.384945\n",
            "Epoch   19/20 Batch 2/3 Cost: 0.491668\n",
            "Epoch   19/20 Batch 3/3 Cost: 0.915296\n",
            "Epoch   20/20 Batch 1/3 Cost: 0.426176\n",
            "Epoch   20/20 Batch 2/3 Cost: 0.522898\n",
            "Epoch   20/20 Batch 3/3 Cost: 0.497802\n"
          ]
        }
      ]
    }
  ]
}