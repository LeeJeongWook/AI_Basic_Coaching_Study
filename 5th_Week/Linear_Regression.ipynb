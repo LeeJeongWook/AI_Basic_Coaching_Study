{
  "nbformat": 4,
  "nbformat_minor": 0,
  "metadata": {
    "colab": {
      "name": "Linear_Regression.ipynb",
      "provenance": [],
      "collapsed_sections": []
    },
    "kernelspec": {
      "name": "python3",
      "display_name": "Python 3"
    },
    "language_info": {
      "name": "python"
    }
  },
  "cells": [
    {
      "cell_type": "markdown",
      "source": [
        "#####Data Definition"
      ],
      "metadata": {
        "id": "yWj18Q625LgF"
      }
    },
    {
      "cell_type": "code",
      "source": [
        "import numpy as np\n",
        "import torch"
      ],
      "metadata": {
        "id": "KNCLI7DT5PYL"
      },
      "execution_count": 1,
      "outputs": []
    },
    {
      "cell_type": "code",
      "execution_count": 2,
      "metadata": {
        "id": "7Svkctgg5F8Q"
      },
      "outputs": [],
      "source": [
        "x_train = torch.FloatTensor([[1],[2],[3]])\n",
        "y_train = torch.FloatTensor([[2],[4],[6]])"
      ]
    },
    {
      "cell_type": "code",
      "source": [
        "# Hypothesis\n",
        "W = torch.zeros(1, requires_grad=True)\n",
        "b = torch.zeros(1, requires_grad=True)\n",
        "# hypothesis = x_train * W + b"
      ],
      "metadata": {
        "id": "YQwGDrlz5ciI"
      },
      "execution_count": 3,
      "outputs": []
    },
    {
      "cell_type": "code",
      "source": [
        "# Compute loss\n",
        "# cost = torch.mean((hypothesis - y_train) ** 2)"
      ],
      "metadata": {
        "id": "EfYSwmN95tYP"
      },
      "execution_count": 4,
      "outputs": []
    },
    {
      "cell_type": "code",
      "source": [
        "'''\n",
        "# Gradient descent\n",
        "optimizer = torch.optim.SGD([W,b],lr=0.01)\n",
        "\n",
        "optimizer.zero_grad()\n",
        "cost.backward()\n",
        "optimizer.step()\n",
        "'''"
      ],
      "metadata": {
        "colab": {
          "base_uri": "https://localhost:8080/",
          "height": 35
        },
        "id": "HbD7HxMf9SCP",
        "outputId": "30075a50-abcc-4ef2-f735-439ebe8d6d1b"
      },
      "execution_count": 8,
      "outputs": [
        {
          "output_type": "execute_result",
          "data": {
            "application/vnd.google.colaboratory.intrinsic+json": {
              "type": "string"
            },
            "text/plain": [
              "'\\n# Gradient descent\\noptimizer = torch.optim.SGD([W,b],lr=0.01)\\n\\noptimizer.zero_grad()\\ncost.backward()\\noptimizer.step()\\n'"
            ]
          },
          "metadata": {},
          "execution_count": 8
        }
      ]
    },
    {
      "cell_type": "markdown",
      "source": [
        "#####Full training code"
      ],
      "metadata": {
        "id": "K7C_oCAI9Nlf"
      }
    },
    {
      "cell_type": "code",
      "source": [
        "optimizer = torch.optim.SGD([W,b],lr=0.01)\n",
        "\n",
        "nb_epochs = 1000\n",
        "\n",
        "for epoch in range(1, nb_epochs + 1):\n",
        "    hypothesis = x_train * W + b\n",
        "    cost = torch.mean((hypothesis - y_train) ** 2)\n",
        "\n",
        "    optimizer.zero_grad()\n",
        "    cost.backward()\n",
        "    optimizer.step()"
      ],
      "metadata": {
        "id": "VLhcIDM-7qaz"
      },
      "execution_count": 9,
      "outputs": []
    }
  ]
}