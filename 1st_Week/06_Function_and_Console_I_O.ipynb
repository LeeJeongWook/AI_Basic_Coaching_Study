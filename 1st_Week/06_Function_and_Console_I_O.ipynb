{
  "nbformat": 4,
  "nbformat_minor": 0,
  "metadata": {
    "colab": {
      "name": "06_Function_and_Console_I/O.ipynb",
      "provenance": [],
      "collapsed_sections": []
    },
    "kernelspec": {
      "name": "python3",
      "display_name": "Python 3"
    },
    "language_info": {
      "name": "python"
    }
  },
  "cells": [
    {
      "cell_type": "markdown",
      "source": [
        "##**Function**"
      ],
      "metadata": {
        "id": "v34cZZN3a_xU"
      }
    },
    {
      "cell_type": "markdown",
      "source": [
        "#####함수의 개요"
      ],
      "metadata": {
        "id": "jUmakXj8bFzo"
      }
    },
    {
      "cell_type": "code",
      "execution_count": 2,
      "metadata": {
        "id": "mM13AZiUa3hO"
      },
      "outputs": [],
      "source": [
        "# 사각형의 넓이를 구하는 함수\n",
        "def calculate_rectangle_area(x, y):\n",
        "    return x * y    # 사로, 세로를 곱해서 반환"
      ]
    },
    {
      "cell_type": "code",
      "source": [
        "rectangle_x = 10\n",
        "rectangle_y = 20\n",
        "\n",
        "print(\"사각형 x의 길이: \", rectangle_x)\n",
        "print(\"사각형 y의 길이: \", rectangle_y)\n",
        "\n",
        "# 넓이를 구하는 함수 호출\n",
        "print(\"사각형의 넓이: \", calculate_rectangle_area(rectangle_x, rectangle_y))"
      ],
      "metadata": {
        "colab": {
          "base_uri": "https://localhost:8080/"
        },
        "id": "--ETcqX8bkY5",
        "outputId": "7228fa6d-5eb4-4b45-f022-1c718cbc0d57"
      },
      "execution_count": 4,
      "outputs": [
        {
          "output_type": "stream",
          "name": "stdout",
          "text": [
            "사각형 x의 길이:  10\n",
            "사각형 y의 길이:  20\n",
            "사각형의 넓이:  200\n"
          ]
        }
      ]
    },
    {
      "cell_type": "code",
      "source": [
        "def f(x):\n",
        "    return 2 * x + 7\n",
        "\n",
        "def g(x):\n",
        "    return x ** 2\n",
        "\n",
        "x = 2\n",
        "\n",
        "print(f(x) + g(x) + f(g(x)) + g(f(x)))"
      ],
      "metadata": {
        "colab": {
          "base_uri": "https://localhost:8080/"
        },
        "id": "DE2LnTEcch8r",
        "outputId": "2412097b-4599-4e6c-b11a-65cb62772862"
      },
      "execution_count": 5,
      "outputs": [
        {
          "output_type": "stream",
          "name": "stdout",
          "text": [
            "151\n"
          ]
        }
      ]
    },
    {
      "cell_type": "markdown",
      "source": [
        "##**Console in/out**"
      ],
      "metadata": {
        "id": "ytZsbs2nc8XL"
      }
    },
    {
      "cell_type": "markdown",
      "source": [
        "#####콘솔창 입출력"
      ],
      "metadata": {
        "id": "bMIYc_r0dRSI"
      }
    },
    {
      "cell_type": "code",
      "source": [
        "print(\"Enter your name: \")\n",
        "sombody = input()\n",
        "\n",
        "print(\"Hi\", sombody, \"How are you today?\")"
      ],
      "metadata": {
        "colab": {
          "base_uri": "https://localhost:8080/"
        },
        "id": "1NcWpB12c-my",
        "outputId": "b8050261-645c-4926-a567-282025968c40"
      },
      "execution_count": 6,
      "outputs": [
        {
          "output_type": "stream",
          "name": "stdout",
          "text": [
            "Enter your name: \n",
            "Lee Jeong Wook\n",
            "Hi Lee Jeong Wook How are you today?\n"
          ]
        }
      ]
    },
    {
      "cell_type": "code",
      "source": [
        "print(\"Hello World!\", \"Hello Again!!!\")     # , 사용"
      ],
      "metadata": {
        "colab": {
          "base_uri": "https://localhost:8080/"
        },
        "id": "4MA0cpA2dP8h",
        "outputId": "f8a094d3-aeef-4ae9-bf04-7ff1d8a0dd9a"
      },
      "execution_count": 7,
      "outputs": [
        {
          "output_type": "stream",
          "name": "stdout",
          "text": [
            "Hello World! Hello Again!!!\n"
          ]
        }
      ]
    },
    {
      "cell_type": "code",
      "source": [
        "temperature = float(input(\"온도를 입력하세요: \"))   # 입력 시 바로 형 변환 하기\n",
        "\n",
        "print(temperature)"
      ],
      "metadata": {
        "colab": {
          "base_uri": "https://localhost:8080/"
        },
        "id": "jv4biaX7dbyw",
        "outputId": "fce3ee2e-df5d-4392-e918-691623029aa6"
      },
      "execution_count": 8,
      "outputs": [
        {
          "output_type": "stream",
          "name": "stdout",
          "text": [
            "온도를 입력하세요: 103\n",
            "103.0\n"
          ]
        }
      ]
    },
    {
      "cell_type": "markdown",
      "source": [
        "##**Print Formatting**"
      ],
      "metadata": {
        "id": "FkZjxuMwdnI9"
      }
    },
    {
      "cell_type": "code",
      "source": [
        "print(1, 2, 3)\n",
        "print(\"a\" + \" \" + \"b\" + \" \" + \"c\")\n",
        "print(\"%d %d %d\" % (1,2,3))\n",
        "print(\"{} {} {}\".format(\"a\", \"b\", \"c\"))\n",
        "value = 3\n",
        "print(f\"value is {value}\")"
      ],
      "metadata": {
        "colab": {
          "base_uri": "https://localhost:8080/"
        },
        "id": "V9dL9-wvdl7l",
        "outputId": "175b5381-f67c-4ae3-f99b-19a1f394576c"
      },
      "execution_count": 12,
      "outputs": [
        {
          "output_type": "stream",
          "name": "stdout",
          "text": [
            "1 2 3\n",
            "a b c\n",
            "1 2 3\n",
            "a b c\n",
            "value is 3\n"
          ]
        }
      ]
    },
    {
      "cell_type": "code",
      "source": [
        "print('%s %s' % ('one', 'two'))\n",
        "print('{} {}'.format('one', 'two'))\n",
        "print('%d %d' % (1, 2))\n",
        "print('{} {}'.format(1, 2))"
      ],
      "metadata": {
        "colab": {
          "base_uri": "https://localhost:8080/"
        },
        "id": "_SI-k15ZeOvi",
        "outputId": "faf62c3b-1d94-46cd-8f05-2fb57daef1c0"
      },
      "execution_count": 16,
      "outputs": [
        {
          "output_type": "stream",
          "name": "stdout",
          "text": [
            "one two\n",
            "one two\n",
            "1 2\n",
            "1 2\n"
          ]
        }
      ]
    },
    {
      "cell_type": "code",
      "source": [
        "print(\"I eat %d apples.\" % 3)\n",
        "print(\"I eat %s apples.\" % \"five\")\n",
        "\n",
        "number = 3; day = \"three\"\n",
        "print(\"I ate %d apples. I was sick for %s days.\" % (number, day))\n",
        "print(\"Product: %s, Price per unit: %f.\" % (\"Apple\", 5.243))"
      ],
      "metadata": {
        "colab": {
          "base_uri": "https://localhost:8080/"
        },
        "id": "ShKb0yQnfLzl",
        "outputId": "f81ea0bc-06e5-43e8-a726-cc18a2cd4739"
      },
      "execution_count": 17,
      "outputs": [
        {
          "output_type": "stream",
          "name": "stdout",
          "text": [
            "I eat 3 apples.\n",
            "I eat five apples.\n",
            "I ate 3 apples. I was sick for three days.\n",
            "Product: Apple, Price per unit: 5.243000.\n"
          ]
        }
      ]
    },
    {
      "cell_type": "markdown",
      "source": [
        "#####str.format()함수"
      ],
      "metadata": {
        "id": "F0QIOvPcg7XQ"
      }
    },
    {
      "cell_type": "code",
      "source": [
        "age = 29; name = \"Lee Jeongwook\"\n",
        "\n",
        "print(\"I'm {0} years old.\".format(age))\n",
        "print(\"My name is {0} and {1} years old.\".format(name, age))\n",
        "print(\"Product: {0}, Price per unit: {1:.3f}.\".format(\"Apple\", 5.243))"
      ],
      "metadata": {
        "colab": {
          "base_uri": "https://localhost:8080/"
        },
        "id": "A9gt-uf0g9tK",
        "outputId": "f37d5226-44e6-4dd7-df4a-6e91f1f8c24b"
      },
      "execution_count": 19,
      "outputs": [
        {
          "output_type": "stream",
          "name": "stdout",
          "text": [
            "I'm 29 years old.\n",
            "My name is Lee Jeongwook and 29 years old.\n",
            "Product: Apple, Price per unit: 5.243.\n"
          ]
        }
      ]
    },
    {
      "cell_type": "markdown",
      "source": [
        "#####Padding"
      ],
      "metadata": {
        "id": "kEWHdNGkhcEq"
      }
    },
    {
      "cell_type": "code",
      "source": [
        "print(\"Product: %5s, Price per unit: %.5f.\" % (\"Apple\", 5.243))\n",
        "print(\"Product: {0:5s}, Price per unit: {1:.5f}.\".format(\"Apple\", 5.243))\n",
        "print(\"Product: %10s, Price per unit: %10.3f.\" % (\"Apple\", 5.243))\n",
        "print(\"Product: {0:>10s}, Price per unit: {1:10.3f}\".format(\"Apple\", 5.243))"
      ],
      "metadata": {
        "colab": {
          "base_uri": "https://localhost:8080/"
        },
        "id": "nsaoTyXJhdse",
        "outputId": "278f0b3e-6232-405f-86fb-46f0252e1bb5"
      },
      "execution_count": 21,
      "outputs": [
        {
          "output_type": "stream",
          "name": "stdout",
          "text": [
            "Product: Apple, Price per unit: 5.24300.\n",
            "Product: Apple, Price per unit: 5.24300.\n",
            "Product:      Apple, Price per unit:      5.243.\n",
            "Product:      Apple, Price per unit:      5.243\n"
          ]
        }
      ]
    },
    {
      "cell_type": "markdown",
      "source": [
        "#####Naming"
      ],
      "metadata": {
        "id": "T6dFiqh6iG_z"
      }
    },
    {
      "cell_type": "code",
      "source": [
        "print(\"Product: %(name)10s, Price per unit: %(price)10.5f.\" %{\"name\":\"Apple\", \"price\":5.243})\n",
        "print(\"Product: {name:>10s}, Price per unit: {price:10.5f}.\".format(name = \"Apple\", price = 5.243))"
      ],
      "metadata": {
        "colab": {
          "base_uri": "https://localhost:8080/"
        },
        "id": "Bm920vM0iItJ",
        "outputId": "cd3ddc1a-2dbd-4246-9391-f5916ac5db5d"
      },
      "execution_count": 22,
      "outputs": [
        {
          "output_type": "stream",
          "name": "stdout",
          "text": [
            "Product:      Apple, Price per unit:    5.24300.\n",
            "Product:      Apple, Price per unit:    5.24300.\n"
          ]
        }
      ]
    },
    {
      "cell_type": "markdown",
      "source": [
        "#####f-string"
      ],
      "metadata": {
        "id": "t3V0R_Ayisv7"
      }
    },
    {
      "cell_type": "code",
      "source": [
        "name = \"Jeongwook\"\n",
        "age = 29\n",
        "\n",
        "print(f\"Hello, {name}. You are {age}.\")\n",
        "print(f'{name:20}')\n",
        "print(f'{name:>20}')\n",
        "print(f'{name:*<20}')\n",
        "print(f'{name:->20}')\n",
        "print(f'{name:*^20}')\n",
        "\n",
        "number = 3.141592653589793\n",
        "print(f'number:.2f')"
      ],
      "metadata": {
        "colab": {
          "base_uri": "https://localhost:8080/"
        },
        "id": "uFd_KeQWioGs",
        "outputId": "4eb21872-959d-4c9d-a6f0-bc915fe5c8df"
      },
      "execution_count": 28,
      "outputs": [
        {
          "output_type": "stream",
          "name": "stdout",
          "text": [
            "Hello, Jeongwook. You are 29.\n",
            "Jeongwook           \n",
            "           Jeongwook\n",
            "Jeongwook***********\n",
            "-----------Jeongwook\n",
            "*****Jeongwook******\n",
            "number:.2f\n"
          ]
        }
      ]
    },
    {
      "cell_type": "markdown",
      "source": [
        "#####Lab: 화씨 변환기"
      ],
      "metadata": {
        "id": "IlVAq8N6jPLd"
      }
    },
    {
      "cell_type": "code",
      "source": [
        "def convert_fahrenheit(celsius):\n",
        "    return ((9/5) * celsius) + 32\n",
        "\n",
        "celsius = float(input(\"변환하고 싶은 섭씨 온도를 입력해 주세요: \"))\n",
        "\n",
        "print(\"섭씨온도 : %.1f\" % celsius)\n",
        "print(\"화씨온도 : %.2f\" % convert_fahrenheit(celsius))"
      ],
      "metadata": {
        "colab": {
          "base_uri": "https://localhost:8080/"
        },
        "id": "gJhROl4QjOAT",
        "outputId": "3e0add17-314c-4c37-df37-c79f5f9da0d7"
      },
      "execution_count": 33,
      "outputs": [
        {
          "output_type": "stream",
          "name": "stdout",
          "text": [
            "변환하고 싶은 섭씨 온도를 입력해 주세요: 32.2\n",
            "섭씨온도 : 32.2\n",
            "화씨온도 : 89.96\n"
          ]
        }
      ]
    }
  ]
}