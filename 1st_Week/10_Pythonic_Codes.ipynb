{
  "nbformat": 4,
  "nbformat_minor": 0,
  "metadata": {
    "colab": {
      "name": "10_Pythonic_Codes.ipynb",
      "provenance": [],
      "collapsed_sections": []
    },
    "kernelspec": {
      "name": "python3",
      "display_name": "Python 3"
    },
    "language_info": {
      "name": "python"
    }
  },
  "cells": [
    {
      "cell_type": "markdown",
      "source": [
        "##**Pythonic Code**"
      ],
      "metadata": {
        "id": "ZfDgOxgEXka3"
      }
    },
    {
      "cell_type": "code",
      "source": [
        "colors = ['red', 'blue', 'green', 'yellow']\n",
        "result = ''\n",
        "\n",
        "for s in colors:\n",
        "    result += s\n",
        "\n",
        "print(result)"
      ],
      "metadata": {
        "colab": {
          "base_uri": "https://localhost:8080/"
        },
        "id": "qmoQ2x3sXkIO",
        "outputId": "d68f68ec-b5ca-4ce7-ffca-99dc8ba37232"
      },
      "execution_count": 2,
      "outputs": [
        {
          "output_type": "stream",
          "name": "stdout",
          "text": [
            "redbluegreenyellow\n"
          ]
        }
      ]
    },
    {
      "cell_type": "code",
      "execution_count": 3,
      "metadata": {
        "colab": {
          "base_uri": "https://localhost:8080/"
        },
        "id": "mnQPB4GVXd77",
        "outputId": "c86d78ca-6878-4f40-bfbe-841341c149d6"
      },
      "outputs": [
        {
          "output_type": "stream",
          "name": "stdout",
          "text": [
            "redbluegreenyellow\n"
          ]
        }
      ],
      "source": [
        "colors = ['red', 'blue', 'green', 'yellow']\n",
        "result = ''.join(colors)\n",
        "\n",
        "print(result)"
      ]
    },
    {
      "cell_type": "markdown",
      "source": [
        "##**Split & Join**"
      ],
      "metadata": {
        "id": "vIEMVmj9XtE2"
      }
    },
    {
      "cell_type": "markdown",
      "source": [
        "#####Split 함수"
      ],
      "metadata": {
        "id": "qq7l4wxAZ4l7"
      }
    },
    {
      "cell_type": "code",
      "source": [
        "items = 'zero one two three'.split()        # 빈칸을 기준으로 문자열 나누기\n",
        "\n",
        "print(items)\n",
        "\n",
        "example = 'python, java, javascript'        # ','를 기준으로 문자열 나누기\n",
        "example.split(\",\")\n",
        "\n",
        "a, b, c = example.split(\",\")        # 리스에 있는 각 값을 a, b, c 변수로 unpacking\n",
        "\n",
        "example = ' teamlab.technology.io'\n",
        "subdomain, domain, tld = example.split('.')     # '.'을 기준으로 문자열 나누기\n",
        "\n",
        "print(subdomain)\n",
        "print(domain)\n",
        "print(tld)"
      ],
      "metadata": {
        "colab": {
          "base_uri": "https://localhost:8080/"
        },
        "id": "-55912rUY5hT",
        "outputId": "55084df7-60d7-4ee1-e1d6-4708978a5ad0"
      },
      "execution_count": 8,
      "outputs": [
        {
          "output_type": "stream",
          "name": "stdout",
          "text": [
            "['zero', 'one', 'two', 'three']\n",
            " teamlab\n",
            "technology\n",
            "io\n"
          ]
        }
      ]
    },
    {
      "cell_type": "markdown",
      "source": [
        "#####join 함수"
      ],
      "metadata": {
        "id": "VBahQjp_Z8IG"
      }
    },
    {
      "cell_type": "code",
      "source": [
        "colors = ['red', 'blue', 'green', 'yellow']\n",
        "result = ''.join(colors)\n",
        "\n",
        "print(result)\n",
        "\n",
        "result = ' '.join(colors)       # 연결 시 빈칸 1칸으로 연결\n",
        "print(result)\n",
        "\n",
        "result = ', '.join(colors)      # 연결 시 \", \"으로 연결\n",
        "print(result)\n",
        "\n",
        "result = '-'.join(colors)\n",
        "print(result)"
      ],
      "metadata": {
        "colab": {
          "base_uri": "https://localhost:8080/"
        },
        "id": "sEUitqM1Z3BQ",
        "outputId": "6293b553-ea6b-473e-c751-6d3871cdf97e"
      },
      "execution_count": 10,
      "outputs": [
        {
          "output_type": "stream",
          "name": "stdout",
          "text": [
            "redbluegreenyellow\n",
            "red blue green yellow\n",
            "red, blue, green, yellow\n",
            "red-blue-green-yellow\n"
          ]
        }
      ]
    },
    {
      "cell_type": "markdown",
      "source": [
        "#####list comprehension"
      ],
      "metadata": {
        "id": "chbDOcb6a5eG"
      }
    },
    {
      "cell_type": "code",
      "source": [
        "result = []\n",
        "\n",
        "for i in range(10):\n",
        "    result.append(i)\n",
        "\n",
        "print(result)"
      ],
      "metadata": {
        "colab": {
          "base_uri": "https://localhost:8080/"
        },
        "id": "yyo1_Of-a7u9",
        "outputId": "ab5a8ccd-f4a2-408c-8cba-5b1dd2151c16"
      },
      "execution_count": 11,
      "outputs": [
        {
          "output_type": "stream",
          "name": "stdout",
          "text": [
            "[0, 1, 2, 3, 4, 5, 6, 7, 8, 9]\n"
          ]
        }
      ]
    },
    {
      "cell_type": "code",
      "source": [
        "result = [i for i in range(10)]\n",
        "print(result)\n",
        "\n",
        "result = [i for i in range(10) if i % 2 == 0]\n",
        "print(result)"
      ],
      "metadata": {
        "colab": {
          "base_uri": "https://localhost:8080/"
        },
        "id": "k_vijIlkbEUU",
        "outputId": "ffac8791-ef3b-4ded-bcbe-d68ad969e9df"
      },
      "execution_count": 12,
      "outputs": [
        {
          "output_type": "stream",
          "name": "stdout",
          "text": [
            "[0, 1, 2, 3, 4, 5, 6, 7, 8, 9]\n",
            "[0, 2, 4, 6, 8]\n"
          ]
        }
      ]
    },
    {
      "cell_type": "code",
      "source": [
        "word_1 = \"Hello\"\n",
        "word_2 = \"World\"\n",
        "result = [i+j for i in word_1 for j in word_2]      # Nested For loop\n",
        "\n",
        "print(result)"
      ],
      "metadata": {
        "colab": {
          "base_uri": "https://localhost:8080/"
        },
        "id": "JxVThMO0bOQt",
        "outputId": "30b82145-2046-4d15-e64f-5f4465997de2"
      },
      "execution_count": 13,
      "outputs": [
        {
          "output_type": "stream",
          "name": "stdout",
          "text": [
            "['HW', 'Ho', 'Hr', 'Hl', 'Hd', 'eW', 'eo', 'er', 'el', 'ed', 'lW', 'lo', 'lr', 'll', 'ld', 'lW', 'lo', 'lr', 'll', 'ld', 'oW', 'oo', 'or', 'ol', 'od']\n"
          ]
        }
      ]
    },
    {
      "cell_type": "code",
      "source": [
        "case_1 = [\"A\", \"B\", \"C\"]\n",
        "case_2 = [\"D\", \"E\", \"A\"]\n",
        "\n",
        "result = [i+j for i in case_1 for j in case_2]\n",
        "print(result)\n",
        "\n",
        "result = [i+j for i in case_1 for j in case_2 if not (i==j)]\n",
        "# Filter: i랑 j와 같다면 List에 추가하지 않음\n",
        "print(result)\n",
        "\n",
        "result.sort()\n",
        "print(result)"
      ],
      "metadata": {
        "colab": {
          "base_uri": "https://localhost:8080/"
        },
        "id": "20_gAKY8beXf",
        "outputId": "92067834-78e3-4904-de31-0291965f2127"
      },
      "execution_count": 15,
      "outputs": [
        {
          "output_type": "stream",
          "name": "stdout",
          "text": [
            "['AD', 'AE', 'AA', 'BD', 'BE', 'BA', 'CD', 'CE', 'CA']\n",
            "['AD', 'AE', 'BD', 'BE', 'BA', 'CD', 'CE', 'CA']\n",
            "['AD', 'AE', 'BA', 'BD', 'BE', 'CA', 'CD', 'CE']\n"
          ]
        }
      ]
    },
    {
      "cell_type": "code",
      "source": [
        "words = 'The quick brown fox jumps over the lazy dog'.split()\n",
        "\n",
        "print(words)\n",
        "\n",
        "stuff = [[w.upper(), w.lower(), len(w)] for w in words]       # list의 각 element들을 대문자, 소문자, 길이로 변환하여 two dimensional list로 변환\n",
        "print(stuff)"
      ],
      "metadata": {
        "colab": {
          "base_uri": "https://localhost:8080/"
        },
        "id": "LxyM795ucNh1",
        "outputId": "eee17f40-291e-4465-91b6-c88280e381f3"
      },
      "execution_count": 21,
      "outputs": [
        {
          "output_type": "stream",
          "name": "stdout",
          "text": [
            "['The', 'quick', 'brown', 'fox', 'jumps', 'over', 'the', 'lazy', 'dog']\n",
            "[['THE', 'the', 3], ['QUICK', 'quick', 5], ['BROWN', 'brown', 5], ['FOX', 'fox', 3], ['JUMPS', 'jumps', 5], ['OVER', 'over', 4], ['THE', 'the', 3], ['LAZY', 'lazy', 4], ['DOG', 'dog', 3]]\n"
          ]
        }
      ]
    },
    {
      "cell_type": "code",
      "source": [
        "case_1 = [\"A\", \"B\", \"C\"]\n",
        "case_2 = [\"D\", \"E\", \"A\"]\n",
        "\n",
        "result = [i+j for i in case_1 for j in case_2]\n",
        "print(result)\n",
        "\n",
        "result = [[i+j for i in case_1] for j in case_2]\n",
        "print(result)"
      ],
      "metadata": {
        "colab": {
          "base_uri": "https://localhost:8080/"
        },
        "id": "NLJH6rC_c9yv",
        "outputId": "0a644a80-a406-408b-fce8-1cb7035a8ecb"
      },
      "execution_count": 22,
      "outputs": [
        {
          "output_type": "stream",
          "name": "stdout",
          "text": [
            "['AD', 'AE', 'AA', 'BD', 'BE', 'BA', 'CD', 'CE', 'CA']\n",
            "[['AD', 'BD', 'CD'], ['AE', 'BE', 'CE'], ['AA', 'BA', 'CA']]\n"
          ]
        }
      ]
    },
    {
      "cell_type": "markdown",
      "source": [
        "#####enumerate & zip"
      ],
      "metadata": {
        "id": "yKfeuxnsdSuI"
      }
    },
    {
      "cell_type": "code",
      "source": [
        "for i, v in enumerate(['tic', 'tac', 'toe']):\n",
        "    print(i, v)\n",
        "\n",
        "mylist = ['a', 'b', 'c', 'd']\n",
        "print(list(enumerate(mylist)))     # list에 있는 index와 값을 unpacking하여 list로 저장\n",
        "\n",
        "{i:j for i,j in enumerate('Artificial intelligence (AI), is intelligence demonstrated by machines, unlike the natural intelligence displayed by humans and animals.'.split())}"
      ],
      "metadata": {
        "colab": {
          "base_uri": "https://localhost:8080/"
        },
        "id": "YcLzpeiAdVR2",
        "outputId": "f8981088-fab3-47f9-b147-d3dd96629d11"
      },
      "execution_count": 30,
      "outputs": [
        {
          "output_type": "stream",
          "name": "stdout",
          "text": [
            "0 tic\n",
            "1 tac\n",
            "2 toe\n",
            "[(0, 'a'), (1, 'b'), (2, 'c'), (3, 'd')]\n"
          ]
        },
        {
          "output_type": "execute_result",
          "data": {
            "text/plain": [
              "{0: 'Artificial',\n",
              " 1: 'intelligence',\n",
              " 2: '(AI),',\n",
              " 3: 'is',\n",
              " 4: 'intelligence',\n",
              " 5: 'demonstrated',\n",
              " 6: 'by',\n",
              " 7: 'machines,',\n",
              " 8: 'unlike',\n",
              " 9: 'the',\n",
              " 10: 'natural',\n",
              " 11: 'intelligence',\n",
              " 12: 'displayed',\n",
              " 13: 'by',\n",
              " 14: 'humans',\n",
              " 15: 'and',\n",
              " 16: 'animals.'}"
            ]
          },
          "metadata": {},
          "execution_count": 30
        }
      ]
    },
    {
      "cell_type": "code",
      "source": [
        "alist = ['a1', 'a2', 'a3']\n",
        "blist = ['b1', 'b2', 'b3']\n",
        "\n",
        "for a, b in zip(alist, blist):      # 병렬적으로 값을 추출\n",
        "    print(a, b)\n",
        "\n",
        "a, b, c = zip((1,2,3),(10,20,30),(100,200,300)) #각tuple의같은index 끼리묶음\n",
        "\n",
        "print(a)\n",
        "print(b)\n",
        "print(c)\n",
        "\n",
        "[sum(x) for x in zip((1,2,3),(10,20,30),(100,200,300))]"
      ],
      "metadata": {
        "colab": {
          "base_uri": "https://localhost:8080/"
        },
        "id": "TKxo7xY3lhsR",
        "outputId": "e5055710-52de-4e86-a3b2-e068086b8dd6"
      },
      "execution_count": 34,
      "outputs": [
        {
          "output_type": "stream",
          "name": "stdout",
          "text": [
            "a1 b1\n",
            "a2 b2\n",
            "a3 b3\n",
            "(1, 10, 100)\n",
            "(2, 20, 200)\n",
            "(3, 30, 300)\n"
          ]
        },
        {
          "output_type": "execute_result",
          "data": {
            "text/plain": [
              "[111, 222, 333]"
            ]
          },
          "metadata": {},
          "execution_count": 34
        }
      ]
    },
    {
      "cell_type": "markdown",
      "source": [
        "#####enumerate & zip 동시 사용"
      ],
      "metadata": {
        "id": "jZUzUxMVnZQJ"
      }
    },
    {
      "cell_type": "code",
      "source": [
        "alist = ['a1', 'a2', 'a3']\n",
        "blist = ['b1', 'b2', 'b3']\n",
        "\n",
        "for i, (a, b) in enumerate(zip(alist, blist)):\n",
        "    print(i, a, b)      # index alist[index] blist[index] 표시"
      ],
      "metadata": {
        "colab": {
          "base_uri": "https://localhost:8080/"
        },
        "id": "ezlGylUxnYoU",
        "outputId": "347ab972-0169-4339-b6ff-fa0693a9c972"
      },
      "execution_count": 35,
      "outputs": [
        {
          "output_type": "stream",
          "name": "stdout",
          "text": [
            "0 a1 b1\n",
            "1 a2 b2\n",
            "2 a3 b3\n"
          ]
        }
      ]
    },
    {
      "cell_type": "markdown",
      "source": [
        "##**lambda & map & reduce**"
      ],
      "metadata": {
        "id": "FG2gtgVHoWPp"
      }
    },
    {
      "cell_type": "code",
      "source": [
        "# General function\n",
        "\n",
        "def f(x, y):\n",
        "    return x + y\n",
        "\n",
        "print(f(1, 4))"
      ],
      "metadata": {
        "colab": {
          "base_uri": "https://localhost:8080/"
        },
        "id": "ZB9o-HZYoZxq",
        "outputId": "1bf3f443-f0fc-4cad-fbcb-ca032fa8b293"
      },
      "execution_count": 37,
      "outputs": [
        {
          "output_type": "stream",
          "name": "stdout",
          "text": [
            "5\n"
          ]
        }
      ]
    },
    {
      "cell_type": "code",
      "source": [
        "f = lambda x, y: x + y\n",
        "\n",
        "print(f(1, 4))"
      ],
      "metadata": {
        "colab": {
          "base_uri": "https://localhost:8080/"
        },
        "id": "amIY9nHkojsQ",
        "outputId": "5d8e1a77-a4fc-4848-ba92-d46e5617975f"
      },
      "execution_count": 38,
      "outputs": [
        {
          "output_type": "stream",
          "name": "stdout",
          "text": [
            "5\n"
          ]
        }
      ]
    },
    {
      "cell_type": "markdown",
      "source": [
        "#####Overview"
      ],
      "metadata": {
        "id": "cU_KcbxPouL5"
      }
    },
    {
      "cell_type": "code",
      "source": [
        "f = lambda x, y: x + y\n",
        "\n",
        "print(f(1,4))\n",
        "\n",
        "f = lambda x: x ** 2\n",
        "print(f(3))\n",
        "\n",
        "f = lambda x: x / 2\n",
        "print(f(3))\n",
        "\n",
        "print((lambda x: x + 1)(5))"
      ],
      "metadata": {
        "colab": {
          "base_uri": "https://localhost:8080/"
        },
        "id": "zACJMcq8otoE",
        "outputId": "6133b20d-97e6-4f0f-e712-40a155799bb6"
      },
      "execution_count": 39,
      "outputs": [
        {
          "output_type": "stream",
          "name": "stdout",
          "text": [
            "5\n",
            "9\n",
            "1.5\n",
            "6\n"
          ]
        }
      ]
    },
    {
      "cell_type": "markdown",
      "source": [
        "#####map function overview"
      ],
      "metadata": {
        "id": "vAwTXu0epdJ4"
      }
    },
    {
      "cell_type": "code",
      "source": [
        "ex = [1, 2, 3, 4, 5]\n",
        "f = lambda x, y: x + y\n",
        "\n",
        "print(list(map(f, ex, ex)))\n",
        "\n",
        "list(map(lambda x: x ** 2 if x % 2 == 0 else x, ex))"
      ],
      "metadata": {
        "colab": {
          "base_uri": "https://localhost:8080/"
        },
        "id": "dzJWdXJ9pfP6",
        "outputId": "0fbf8d6d-743f-4548-97eb-a884f01b1606"
      },
      "execution_count": 42,
      "outputs": [
        {
          "output_type": "stream",
          "name": "stdout",
          "text": [
            "[2, 4, 6, 8, 10]\n"
          ]
        },
        {
          "output_type": "execute_result",
          "data": {
            "text/plain": [
              "[1, 4, 3, 16, 5]"
            ]
          },
          "metadata": {},
          "execution_count": 42
        }
      ]
    },
    {
      "cell_type": "code",
      "source": [
        "ex = [1, 2, 3, 4, 5]\n",
        "\n",
        "print(list(map(lambda x: x+x, ex)))\n",
        "print(map(lambda x: x+x, ex))\n",
        "\n",
        "f = lambda x: x ** 2\n",
        "\n",
        "print(map(f, ex))\n",
        "\n",
        "for i in map(f, ex):\n",
        "    print(i)\n",
        "\n",
        "result = map(f, ex)\n",
        "\n",
        "print(next(result))"
      ],
      "metadata": {
        "colab": {
          "base_uri": "https://localhost:8080/"
        },
        "id": "gVvh1RonqD3N",
        "outputId": "9ff6346f-ebcf-49d8-b085-37e3362c5ac8"
      },
      "execution_count": 45,
      "outputs": [
        {
          "output_type": "stream",
          "name": "stdout",
          "text": [
            "[2, 4, 6, 8, 10]\n",
            "<map object at 0x7fc4f3726210>\n",
            "<map object at 0x7fc4f3726e50>\n",
            "1\n",
            "4\n",
            "9\n",
            "16\n",
            "25\n",
            "1\n"
          ]
        }
      ]
    },
    {
      "cell_type": "markdown",
      "source": [
        "#####reduce function overview"
      ],
      "metadata": {
        "id": "fIgEcknHrevR"
      }
    },
    {
      "cell_type": "code",
      "source": [
        "from functools import reduce\n",
        "\n",
        "print(reduce(lambda x, y: x+y, [1, 2, 3, 4, 5]))"
      ],
      "metadata": {
        "colab": {
          "base_uri": "https://localhost:8080/"
        },
        "id": "Eaf8rOKYreAM",
        "outputId": "7a246bf7-6fec-467e-9300-eee7368f3fb8"
      },
      "execution_count": 46,
      "outputs": [
        {
          "output_type": "stream",
          "name": "stdout",
          "text": [
            "15\n"
          ]
        }
      ]
    },
    {
      "cell_type": "markdown",
      "source": [
        "##**iterable object**"
      ],
      "metadata": {
        "id": "Nxpunnc-xhsb"
      }
    },
    {
      "cell_type": "code",
      "source": [
        "for city in [\"Seoul\", \"Busan\", \"Pohang\"]:\n",
        "    print(city, end=\"\\t\")\n",
        "print()\n",
        "\n",
        "for language in(\"Python\", \"C\", \"Java\"):\n",
        "    print(language, end=\"\\t\")\n",
        "print()\n",
        "\n",
        "for char in \"Python is easy\":\n",
        "    print(char, end= \" \")"
      ],
      "metadata": {
        "colab": {
          "base_uri": "https://localhost:8080/"
        },
        "id": "IIEzq2swxlRe",
        "outputId": "e5f42fc2-bc70-4b08-c637-e8c27530d45a"
      },
      "execution_count": 48,
      "outputs": [
        {
          "output_type": "stream",
          "name": "stdout",
          "text": [
            "Seoul\tBusan\tPohang\t\n",
            "Python\tC\tJava\t\n",
            "P y t h o n   i s   e a s y "
          ]
        }
      ]
    },
    {
      "cell_type": "markdown",
      "source": [
        "#####Characteristics"
      ],
      "metadata": {
        "id": "1Um8iYsMyQfv"
      }
    },
    {
      "cell_type": "code",
      "source": [
        "cities = [\"Seoul\", \"Busan\", \"Jeju\"]\n",
        "\n",
        "iter_obj = iter(cities)\n",
        "\n",
        "print(next(iter_obj))\n",
        "print(next(iter_obj))\n",
        "print(next(iter_obj))"
      ],
      "metadata": {
        "colab": {
          "base_uri": "https://localhost:8080/"
        },
        "id": "oFqxvy9cyPrS",
        "outputId": "1ab718e5-0937-4a1d-f1ba-c45bb4f77ca1"
      },
      "execution_count": 51,
      "outputs": [
        {
          "output_type": "stream",
          "name": "stdout",
          "text": [
            "Seoul\n",
            "Busan\n",
            "Jeju\n"
          ]
        }
      ]
    },
    {
      "cell_type": "markdown",
      "source": [
        "##**generator**"
      ],
      "metadata": {
        "id": "wkUM_N_byneg"
      }
    },
    {
      "cell_type": "code",
      "source": [
        "def general_list(value):\n",
        "    result = []\n",
        "\n",
        "    for i in range(value):\n",
        "        result.append(i)\n",
        "\n",
        "    return result\n",
        "\n",
        "def generator_list(value):\n",
        "    result = []\n",
        "\n",
        "    for i in range(value):\n",
        "        yield i\n",
        "\n",
        "print(general_list(10))\n",
        "print(generator_list(10))"
      ],
      "metadata": {
        "colab": {
          "base_uri": "https://localhost:8080/"
        },
        "id": "Q2LJvn8Nyqch",
        "outputId": "1bccd0e1-455b-4cf7-c9fb-5ceab255af42"
      },
      "execution_count": 52,
      "outputs": [
        {
          "output_type": "stream",
          "name": "stdout",
          "text": [
            "[0, 1, 2, 3, 4, 5, 6, 7, 8, 9]\n",
            "<generator object generator_list at 0x7fc4f36fa250>\n"
          ]
        }
      ]
    },
    {
      "cell_type": "markdown",
      "source": [
        "#####generator comprehension\n",
        "- list comprehension과유사한형태로generator형태의list 생성\n",
        "- generator expression 이라는이름으로도부름\n",
        "- \\[ \\] 대신( ) 를사용하여표현"
      ],
      "metadata": {
        "id": "GCAh7Umpzf8H"
      }
    },
    {
      "cell_type": "code",
      "source": [
        "'''\n",
        "- list comprehension과유사한형태로generator형태의list 생성\n",
        "- generator expression 이라는이름으로도부름\n",
        "- [ ] 대신( ) 를사용하여표현\n",
        "'''\n",
        "\n",
        "gen_ex = (n * n for n in range(500))\n",
        "\n",
        "print(type(gen_ex))"
      ],
      "metadata": {
        "colab": {
          "base_uri": "https://localhost:8080/"
        },
        "id": "Xio-zzSRzisN",
        "outputId": "b5048518-3653-4988-bad8-e00a417e7c94"
      },
      "execution_count": 54,
      "outputs": [
        {
          "output_type": "stream",
          "name": "stdout",
          "text": [
            "<class 'generator'>\n"
          ]
        }
      ]
    },
    {
      "cell_type": "markdown",
      "source": [
        "#####Why generator"
      ],
      "metadata": {
        "id": "rCzO3BFk0Ctn"
      }
    },
    {
      "cell_type": "code",
      "source": [
        "from sys import getsizeof\n",
        "\n",
        "# 일반적인 iterator는 generator에 비해 훨씬 큰 메모리 용량 사용\n",
        "\n",
        "gen_ex = (n * n for n in range(500))\n",
        "print(getsizeof(gen_ex))\n",
        "print(getsizeof(list(gen_ex)))\n",
        "\n",
        "list_ex = [n * n for n in range(500)]\n",
        "print(getsizeof(list_ex))"
      ],
      "metadata": {
        "colab": {
          "base_uri": "https://localhost:8080/"
        },
        "id": "-R6Xh_U80FOd",
        "outputId": "e4adad6e-f22b-4a0c-b6ed-8043f589fcaa"
      },
      "execution_count": 55,
      "outputs": [
        {
          "output_type": "stream",
          "name": "stdout",
          "text": [
            "128\n",
            "4584\n",
            "4280\n"
          ]
        }
      ]
    },
    {
      "cell_type": "markdown",
      "source": [
        "#####When generator\n",
        "- list 타입의데이터를반환해주는함수는generator로만들어라!  \n",
        ": 읽기쉬운장점, 중간과정에서loop 이중단될수있을때!  \n",
        "- 큰데이터를처리할때는generator expression을고려하라!:   데이터가커도처리의어려움이없음  \n",
        "- 파일데이터를처리할때도generator를쓰자  "
      ],
      "metadata": {
        "id": "AtMsNd2W1qym"
      }
    },
    {
      "cell_type": "markdown",
      "source": [
        "##**function passing arguments**"
      ],
      "metadata": {
        "id": "d0d8dyqh1yUH"
      }
    },
    {
      "cell_type": "markdown",
      "source": [
        "#####Keyword arguments"
      ],
      "metadata": {
        "id": "t1Uace0y2QJw"
      }
    },
    {
      "cell_type": "code",
      "source": [
        "def print_somthing(my_name, your_name):\n",
        "    print(\"Hello {0}, My name is {1}\".format(your_name, my_name))\n",
        "\n",
        "print_somthing(\"Jeongwook\", \"TEAMLAB\")\n",
        "print_somthing(your_name=\"TEAMLAB\", my_name=\"Jeongwook\")"
      ],
      "metadata": {
        "colab": {
          "base_uri": "https://localhost:8080/"
        },
        "id": "eq3sulrb1LRK",
        "outputId": "c15f62c8-4e03-41b4-8252-5de36bfcaff3"
      },
      "execution_count": 56,
      "outputs": [
        {
          "output_type": "stream",
          "name": "stdout",
          "text": [
            "Hello TEAMLAB, My name is Jeongwook\n",
            "Hello TEAMLAB, My name is Jeongwook\n"
          ]
        }
      ]
    },
    {
      "cell_type": "markdown",
      "source": [
        "#####Default arguments\n",
        "- parameter의 기본 값을 사용, 입력하지 않을 경우 기본값 출력"
      ],
      "metadata": {
        "id": "qHt_dizE2Yyn"
      }
    },
    {
      "cell_type": "code",
      "source": [
        "def print_somthing_2(my_name, your_name=\"TEAMLAB\"):\n",
        "    print(\"Hello {0}, My name is {1}\".format(your_name, my_name))\n",
        "\n",
        "print_somthing_2(\"Jeongwook\",\"TEAMLAB\")\n",
        "print_somthing_2(\"Jeongwook\")"
      ],
      "metadata": {
        "colab": {
          "base_uri": "https://localhost:8080/"
        },
        "id": "-ZlNGKSk2gVx",
        "outputId": "61a49533-3a94-4ddd-f680-1079f1a8f1cc"
      },
      "execution_count": 57,
      "outputs": [
        {
          "output_type": "stream",
          "name": "stdout",
          "text": [
            "Hello TEAMLAB, My name is Jeongwook\n",
            "Hello TEAMLAB, My name is Jeongwook\n"
          ]
        }
      ]
    },
    {
      "cell_type": "markdown",
      "source": [
        "#####variable-length asterisk\n",
        "  \n",
        "  가변인자(variable-length)  \n",
        "- 개수가 정해지지않은 변수를 함수의parameter로 사용 하는법\n",
        "- Keyword arguments와 함께, argument추가 가능\n",
        "- Asterisk(*) 기호를 사용하여 함수의 parameter를 표시함\n",
        "- 입력 된 값은 tuple type으로 사용할 수 있음\n",
        "- 가변인자는 오직 한 개만 맨 마지막 parameter 위치에 사용가능"
      ],
      "metadata": {
        "id": "_e3ZfQJ32wze"
      }
    },
    {
      "cell_type": "code",
      "source": [
        "def asterisk_test(a, b, *args):\n",
        "    return a+b+sum(args)\n",
        "\n",
        "print(asterisk_test(1, 2, 3, 4, 5, 6))"
      ],
      "metadata": {
        "colab": {
          "base_uri": "https://localhost:8080/"
        },
        "id": "V5GxrXTP3DGl",
        "outputId": "0b028410-54f2-4842-891b-594d595fc5e8"
      },
      "execution_count": 59,
      "outputs": [
        {
          "output_type": "stream",
          "name": "stdout",
          "text": [
            "21\n"
          ]
        }
      ]
    },
    {
      "cell_type": "code",
      "source": [
        "def asterisk_test_2(*args):\n",
        "    x, y, z = args\n",
        "    return x, y, z\n",
        "\n",
        "print(asterisk_test_2(3, 4, 5))"
      ],
      "metadata": {
        "colab": {
          "base_uri": "https://localhost:8080/"
        },
        "id": "tZUbVGsH3nEj",
        "outputId": "eda3d9d9-b9da-461a-afaa-3edc296a7993"
      },
      "execution_count": 60,
      "outputs": [
        {
          "output_type": "stream",
          "name": "stdout",
          "text": [
            "(3, 4, 5)\n"
          ]
        }
      ]
    },
    {
      "cell_type": "markdown",
      "source": [
        "키워드 가변인자 (Keyword variable-length)\n",
        "- Parameter 이름을따로지정하지않고입력하는방법\n",
        "- asterisk(*) 두개를사용하여함수의parameter를표시함\n",
        "- 입력된값은dicttype으로사용할수있음\n",
        "- 가변인자는오직한개만기존가변인자다음에사용"
      ],
      "metadata": {
        "id": "K0RCGWYD31qO"
      }
    },
    {
      "cell_type": "code",
      "source": [
        "def kwargs_test_1(**kwargs):\n",
        "    print(kwargs)\n",
        "\n",
        "def kwargs_test_2(**kwargs):\n",
        "    print(kwargs)\n",
        "    print(\"First value is {first}\".format(**kwargs))\n",
        "    print(\"Second value is {second}\".format(**kwargs))\n",
        "    print(\"Third value is {third}\".format(**kwargs))\n",
        "\n",
        "def kwargs_test_3(one,two,*args,**kwargs):\n",
        "    print(one+two+sum(args))\n",
        "    print(kwargs)\n",
        "\n",
        "print(kwargs_test_1(first=3,second=4,third=5))\n",
        "print(kwargs_test_2(first=3,second=4,third=5))\n",
        "print(kwargs_test_3(3,4,5,6,7,8,9,first=3,second=4,third=5))"
      ],
      "metadata": {
        "colab": {
          "base_uri": "https://localhost:8080/"
        },
        "id": "J2TULqwV3-2b",
        "outputId": "a70a5585-65ed-43a6-b2a3-3c5a8ad35b54"
      },
      "execution_count": 65,
      "outputs": [
        {
          "output_type": "stream",
          "name": "stdout",
          "text": [
            "{'first': 3, 'second': 4, 'third': 5}\n",
            "None\n",
            "{'first': 3, 'second': 4, 'third': 5}\n",
            "First value is 3\n",
            "Second value is 4\n",
            "Third value is 5\n",
            "None\n",
            "42\n",
            "{'first': 3, 'second': 4, 'third': 5}\n",
            "None\n"
          ]
        }
      ]
    },
    {
      "cell_type": "markdown",
      "source": [
        "#####asterisk"
      ],
      "metadata": {
        "id": "3NbvFeAK4sHp"
      }
    },
    {
      "cell_type": "code",
      "source": [
        "# *args\n",
        "\n",
        "def asterisk_test(a, *args):\n",
        "    print(a, args)\n",
        "    print(type(args))\n",
        "\n",
        "print(asterisk_test(1,2,3,4,5,6))\n",
        "\n",
        "print(asterisk_test(1, *(2,3,4,5,6)))\n",
        "print(asterisk_test(1, (2,3,4,5,6)))"
      ],
      "metadata": {
        "colab": {
          "base_uri": "https://localhost:8080/"
        },
        "id": "Y8KGe1Oc4rTK",
        "outputId": "2ece52ab-6ccf-4917-c132-77937f363d38"
      },
      "execution_count": 71,
      "outputs": [
        {
          "output_type": "stream",
          "name": "stdout",
          "text": [
            "1 (2, 3, 4, 5, 6)\n",
            "<class 'tuple'>\n",
            "None\n",
            "1 (2, 3, 4, 5, 6)\n",
            "<class 'tuple'>\n",
            "None\n",
            "1 ((2, 3, 4, 5, 6),)\n",
            "<class 'tuple'>\n",
            "None\n"
          ]
        }
      ]
    },
    {
      "cell_type": "code",
      "source": [
        "# **kargs\n",
        "\n",
        "def asterisk_test(a, **kargs):\n",
        "    print(a, kargs)\n",
        "    print(type(kargs))\n",
        "\n",
        "print(asterisk_test(1, b=2, c=3, d=4, e=5, f=6))"
      ],
      "metadata": {
        "colab": {
          "base_uri": "https://localhost:8080/"
        },
        "id": "jEyVj79Y40AS",
        "outputId": "b9ecf9a6-106e-45b8-c9d1-82ccc84af529"
      },
      "execution_count": 72,
      "outputs": [
        {
          "output_type": "stream",
          "name": "stdout",
          "text": [
            "1 {'b': 2, 'c': 3, 'd': 4, 'e': 5, 'f': 6}\n",
            "<class 'dict'>\n",
            "None\n"
          ]
        }
      ]
    },
    {
      "cell_type": "code",
      "source": [
        "a, b, c=([1, 2], [3, 4], [5, 6])\n",
        "print(a, b, c)\n",
        "\n",
        "data=([1, 2], [3, 4], [5, 6])\n",
        "print(*data)"
      ],
      "metadata": {
        "colab": {
          "base_uri": "https://localhost:8080/"
        },
        "id": "_DzfCyBI5ZuQ",
        "outputId": "ec03b382-a921-42de-dbfa-b0e34876e774"
      },
      "execution_count": 73,
      "outputs": [
        {
          "output_type": "stream",
          "name": "stdout",
          "text": [
            "[1, 2] [3, 4] [5, 6]\n",
            "[1, 2] [3, 4] [5, 6]\n"
          ]
        }
      ]
    },
    {
      "cell_type": "code",
      "source": [
        "def asterisk_test(a, b, c, d,):\n",
        "    print(a, b, c, d)\n",
        "    data={\"b\":1, \"c\":2, \"d\":3}\n",
        "\n",
        "asterisk_test(10, *data)"
      ],
      "metadata": {
        "colab": {
          "base_uri": "https://localhost:8080/"
        },
        "id": "zl20Rr3t5cti",
        "outputId": "22ca59eb-0ff2-4300-9f6c-5576f200cfa3"
      },
      "execution_count": 76,
      "outputs": [
        {
          "output_type": "stream",
          "name": "stdout",
          "text": [
            "10 [1, 2] [3, 4] [5, 6]\n"
          ]
        }
      ]
    },
    {
      "cell_type": "code",
      "source": [
        "for data in zip(*([1, 2], [3, 4], [5, 6])):\n",
        "    print(data)"
      ],
      "metadata": {
        "colab": {
          "base_uri": "https://localhost:8080/"
        },
        "id": "QgIUSPy45dNj",
        "outputId": "3b9e90db-325d-4e03-af83-5d00d0452d67"
      },
      "execution_count": 77,
      "outputs": [
        {
          "output_type": "stream",
          "name": "stdout",
          "text": [
            "(1, 3, 5)\n",
            "(2, 4, 6)\n"
          ]
        }
      ]
    }
  ]
}