{
  "nbformat": 4,
  "nbformat_minor": 0,
  "metadata": {
    "colab": {
      "name": "07_Conditionals_and_Loops.ipynb",
      "provenance": []
    },
    "kernelspec": {
      "name": "python3",
      "display_name": "Python 3"
    },
    "language_info": {
      "name": "python"
    }
  },
  "cells": [
    {
      "cell_type": "markdown",
      "source": [
        "##**Condition**"
      ],
      "metadata": {
        "id": "8Yxn-un-K59E"
      }
    },
    {
      "cell_type": "markdown",
      "source": [
        "#####if-else문"
      ],
      "metadata": {
        "id": "j-HtWTHmLBGL"
      }
    },
    {
      "cell_type": "code",
      "execution_count": 1,
      "metadata": {
        "colab": {
          "base_uri": "https://localhost:8080/"
        },
        "id": "bxhe1ymfKk8k",
        "outputId": "561e8379-31ac-4db4-8a55-df94521648fb"
      },
      "outputs": [
        {
          "output_type": "stream",
          "name": "stdout",
          "text": [
            "Tell me your age?\n",
            "30\n",
            "Welcome to the club\n"
          ]
        }
      ],
      "source": [
        "print(\"Tell me your age?\")\n",
        "myage = int(input())    # 나이를 입력 받아 myage 변수에 할당\n",
        "\n",
        "if myage < 30:      # myage가 30 미만일 때\n",
        "    print(\"Oh! No. You are not accepted\")\n",
        "else:               # myage가 30 이상일 때\n",
        "    print(\"Welcome to the club\")"
      ]
    },
    {
      "cell_type": "markdown",
      "source": [
        "#####삼항 연산자(Ternary operators)"
      ],
      "metadata": {
        "id": "ummNKyoGNJ3X"
      }
    },
    {
      "cell_type": "code",
      "source": [
        "value = 12\n",
        "is_even = True if value % 2 == 0 else False\n",
        "print(is_even)"
      ],
      "metadata": {
        "colab": {
          "base_uri": "https://localhost:8080/"
        },
        "id": "SQvIVvDwNPRv",
        "outputId": "d561aac3-ab1f-4bf0-a41c-d1666f47ab93"
      },
      "execution_count": 2,
      "outputs": [
        {
          "output_type": "stream",
          "name": "stdout",
          "text": [
            "True\n"
          ]
        }
      ]
    },
    {
      "cell_type": "markdown",
      "source": [
        "#####[연습] 무슨 학교 다니세요?"
      ],
      "metadata": {
        "id": "34TdohJ8NgiR"
      }
    },
    {
      "cell_type": "code",
      "source": [
        "birth_year = int(input(\"당신이 태어난 년도를 입력하세요\"))\n",
        "now_year = 2022\n",
        "age = now_year - birth_year + 1\n",
        "if 20 <= age <= 26:\n",
        "    print(\"대학생\")\n",
        "elif 17 <= age < 20:\n",
        "    print(\"고등학생\")\n",
        "elif 14 <= age < 17:\n",
        "    print(\"중학생\")\n",
        "elif 8 <= age <14:\n",
        "    print(\"초등학생\")\n",
        "else:\n",
        "    print(\"학생이 아닙니다\")"
      ],
      "metadata": {
        "colab": {
          "base_uri": "https://localhost:8080/"
        },
        "id": "RreFgtTUNdHy",
        "outputId": "eea2ae3b-2c42-4f7b-ac7b-b3c3573f007f"
      },
      "execution_count": 5,
      "outputs": [
        {
          "output_type": "stream",
          "name": "stdout",
          "text": [
            "당신이 태어난 년도를 입력하세요1997\n",
            "대학생\n"
          ]
        }
      ]
    },
    {
      "cell_type": "markdown",
      "source": [
        "##**Loop**"
      ],
      "metadata": {
        "id": "ZhMPXQg3OsEJ"
      }
    },
    {
      "cell_type": "code",
      "source": [
        "for looper in [1, 2, 3, 4, 5]:\n",
        "    print(\"hello\")"
      ],
      "metadata": {
        "colab": {
          "base_uri": "https://localhost:8080/"
        },
        "id": "eCmHO2MkOtwH",
        "outputId": "255216cc-5a58-4068-e321-8fcf088d0a5f"
      },
      "execution_count": 6,
      "outputs": [
        {
          "output_type": "stream",
          "name": "stdout",
          "text": [
            "hello\n",
            "hello\n",
            "hello\n",
            "hello\n",
            "hello\n"
          ]
        }
      ]
    },
    {
      "cell_type": "code",
      "source": [
        "for looper in range(0,5):\n",
        "    print(\"hello\")"
      ],
      "metadata": {
        "colab": {
          "base_uri": "https://localhost:8080/"
        },
        "id": "g4zV_qXwODHI",
        "outputId": "0705957d-d626-4b8d-9af4-863110469135"
      },
      "execution_count": 7,
      "outputs": [
        {
          "output_type": "stream",
          "name": "stdout",
          "text": [
            "hello\n",
            "hello\n",
            "hello\n",
            "hello\n",
            "hello\n"
          ]
        }
      ]
    },
    {
      "cell_type": "code",
      "source": [
        "for i in \"abcdefg\":\n",
        "    print(i)"
      ],
      "metadata": {
        "colab": {
          "base_uri": "https://localhost:8080/"
        },
        "id": "PJ6_zo5gO-HN",
        "outputId": "97ee12e9-afd3-4d98-e25d-bf7ef4f049cd"
      },
      "execution_count": 8,
      "outputs": [
        {
          "output_type": "stream",
          "name": "stdout",
          "text": [
            "a\n",
            "b\n",
            "c\n",
            "d\n",
            "e\n",
            "f\n",
            "g\n"
          ]
        }
      ]
    },
    {
      "cell_type": "code",
      "source": [
        "for i in [\"americano\", \"latte\", \"frafuchino\"]:\n",
        "    print(i)"
      ],
      "metadata": {
        "colab": {
          "base_uri": "https://localhost:8080/"
        },
        "id": "kcmotrL0PBWa",
        "outputId": "0b75d94d-519b-45f7-ca6b-015ac681f74f"
      },
      "execution_count": 9,
      "outputs": [
        {
          "output_type": "stream",
          "name": "stdout",
          "text": [
            "americano\n",
            "latte\n",
            "frafuchino\n"
          ]
        }
      ]
    },
    {
      "cell_type": "code",
      "source": [
        "for i in range(1, 10, 2):\n",
        "    # 1부터 10까지 2씩 증가시키면서 반복문 수행\n",
        "    print(i)"
      ],
      "metadata": {
        "colab": {
          "base_uri": "https://localhost:8080/"
        },
        "id": "VFr1qAjGPN-k",
        "outputId": "05050b42-837f-48f2-c4ec-c02bee68bf3d"
      },
      "execution_count": 10,
      "outputs": [
        {
          "output_type": "stream",
          "name": "stdout",
          "text": [
            "1\n",
            "3\n",
            "5\n",
            "7\n",
            "9\n"
          ]
        }
      ]
    },
    {
      "cell_type": "code",
      "source": [
        "for i in range(10, 1, -1):\n",
        "    # 10부터 1까지 -1씩 감소시키면서 반복문 수행\n",
        "    print(i)"
      ],
      "metadata": {
        "colab": {
          "base_uri": "https://localhost:8080/"
        },
        "id": "3EhP0nQJPU9w",
        "outputId": "f891ab55-be3b-4945-c849-81cca3397a49"
      },
      "execution_count": 11,
      "outputs": [
        {
          "output_type": "stream",
          "name": "stdout",
          "text": [
            "10\n",
            "9\n",
            "8\n",
            "7\n",
            "6\n",
            "5\n",
            "4\n",
            "3\n",
            "2\n"
          ]
        }
      ]
    },
    {
      "cell_type": "code",
      "source": [
        "i = 1\n",
        "while i < 10:\n",
        "    print(i)\n",
        "    i += 1"
      ],
      "metadata": {
        "colab": {
          "base_uri": "https://localhost:8080/"
        },
        "id": "ZjYMIPYSPnMl",
        "outputId": "5a35aef7-6f73-49f8-9f49-2b93d79073b0"
      },
      "execution_count": 13,
      "outputs": [
        {
          "output_type": "stream",
          "name": "stdout",
          "text": [
            "1\n",
            "2\n",
            "3\n",
            "4\n",
            "5\n",
            "6\n",
            "7\n",
            "8\n",
            "9\n"
          ]
        }
      ]
    },
    {
      "cell_type": "code",
      "source": [
        "for i in range(0,5):\n",
        "    print(i)"
      ],
      "metadata": {
        "colab": {
          "base_uri": "https://localhost:8080/"
        },
        "id": "AmH3PtJHPxYT",
        "outputId": "4ec6b55a-8c07-4a24-b474-d880839262e1"
      },
      "execution_count": 14,
      "outputs": [
        {
          "output_type": "stream",
          "name": "stdout",
          "text": [
            "0\n",
            "1\n",
            "2\n",
            "3\n",
            "4\n"
          ]
        }
      ]
    },
    {
      "cell_type": "code",
      "source": [
        "i = 0\n",
        "while i < 5:\n",
        "    print(i)\n",
        "    i = i + 1"
      ],
      "metadata": {
        "colab": {
          "base_uri": "https://localhost:8080/"
        },
        "id": "z60Xx1FyP0yL",
        "outputId": "b0e2bd34-6b3a-49f0-d8b5-ee47060d143b"
      },
      "execution_count": 15,
      "outputs": [
        {
          "output_type": "stream",
          "name": "stdout",
          "text": [
            "0\n",
            "1\n",
            "2\n",
            "3\n",
            "4\n"
          ]
        }
      ]
    },
    {
      "cell_type": "code",
      "source": [
        "for i in range(10):\n",
        "    if i == 5: break    # i가 5가 되면 반복 종료\n",
        "    print(i)\n",
        "print(\"EOP\")            # 반복 종료 후 \"EOP\" 출력"
      ],
      "metadata": {
        "colab": {
          "base_uri": "https://localhost:8080/"
        },
        "id": "3o9eh576P5zm",
        "outputId": "cdcafa93-8d63-46c8-9ebc-680d4e8d03c2"
      },
      "execution_count": 16,
      "outputs": [
        {
          "output_type": "stream",
          "name": "stdout",
          "text": [
            "0\n",
            "1\n",
            "2\n",
            "3\n",
            "4\n",
            "EOP\n"
          ]
        }
      ]
    },
    {
      "cell_type": "code",
      "source": [
        "for i in range(10):\n",
        "    if i == 5: continue # i가 5가 되면 i를 출력하지 않음\n",
        "    print(i)\n",
        "print(\"EOP\")            # 반복 종료 후 \"EOP\" 출력"
      ],
      "metadata": {
        "colab": {
          "base_uri": "https://localhost:8080/"
        },
        "id": "DeuqLZGgQAPM",
        "outputId": "9d1cf567-c448-43c5-d95c-0251bb772b47"
      },
      "execution_count": 17,
      "outputs": [
        {
          "output_type": "stream",
          "name": "stdout",
          "text": [
            "0\n",
            "1\n",
            "2\n",
            "3\n",
            "4\n",
            "6\n",
            "7\n",
            "8\n",
            "9\n",
            "EOP\n"
          ]
        }
      ]
    },
    {
      "cell_type": "code",
      "source": [
        "for i in range(10):\n",
        "    print(i,)\n",
        "else:\n",
        "    print(\"EOP\")"
      ],
      "metadata": {
        "colab": {
          "base_uri": "https://localhost:8080/"
        },
        "id": "tARxCxxjQS6b",
        "outputId": "fdabc729-43a5-4ab0-de85-5d224a7b2a5d"
      },
      "execution_count": 18,
      "outputs": [
        {
          "output_type": "stream",
          "name": "stdout",
          "text": [
            "0\n",
            "1\n",
            "2\n",
            "3\n",
            "4\n",
            "5\n",
            "6\n",
            "7\n",
            "8\n",
            "9\n",
            "EOP\n"
          ]
        }
      ]
    },
    {
      "cell_type": "code",
      "source": [
        "i = 0\n",
        "while i < 10:\n",
        "    print(i,)\n",
        "    i += 1\n",
        "else:\n",
        "    print(\"EOP\")"
      ],
      "metadata": {
        "colab": {
          "base_uri": "https://localhost:8080/"
        },
        "id": "9jGAazEGRAM8",
        "outputId": "72d2ebb0-60a8-417d-c8a2-4f57ab1ce1bc"
      },
      "execution_count": 19,
      "outputs": [
        {
          "output_type": "stream",
          "name": "stdout",
          "text": [
            "0\n",
            "1\n",
            "2\n",
            "3\n",
            "4\n",
            "5\n",
            "6\n",
            "7\n",
            "8\n",
            "9\n",
            "EOP\n"
          ]
        }
      ]
    },
    {
      "cell_type": "markdown",
      "source": [
        "#####[연습] 구구단 계산기"
      ],
      "metadata": {
        "id": "IazXChNDO9Nf"
      }
    },
    {
      "cell_type": "code",
      "source": [
        "num = int(input(\"구구단 몇단을 계산할까요?\"))\n",
        "print(\"구구단 {}단을 계산합니다.\".format(num))\n",
        "\n",
        "for i in range(1,10):\n",
        "    print(\"{} X {} = {}\".format(num, i, num * i))"
      ],
      "metadata": {
        "colab": {
          "base_uri": "https://localhost:8080/"
        },
        "id": "cS77w9ErRVMi",
        "outputId": "124e0bde-abdd-406a-d837-3e1b8d539a7c"
      },
      "execution_count": 20,
      "outputs": [
        {
          "output_type": "stream",
          "name": "stdout",
          "text": [
            "구구단 몇단을 계산할까요?5\n",
            "구구단 5단을 계산합니다.\n",
            "5 X 1 = 5\n",
            "5 X 2 = 10\n",
            "5 X 3 = 15\n",
            "5 X 4 = 20\n",
            "5 X 5 = 25\n",
            "5 X 6 = 30\n",
            "5 X 7 = 35\n",
            "5 X 8 = 40\n",
            "5 X 9 = 45\n"
          ]
        }
      ]
    },
    {
      "cell_type": "markdown",
      "source": [
        "#####Loop Review"
      ],
      "metadata": {
        "id": "vjwZ-XlXO6fD"
      }
    },
    {
      "cell_type": "code",
      "source": [
        "sentence = \"I love you\"\n",
        "reverse_sentence = ''\n",
        "\n",
        "for char in sentence:\n",
        "    reverse_sentence = char + reverse_sentence\n",
        "print(reverse_sentence)"
      ],
      "metadata": {
        "colab": {
          "base_uri": "https://localhost:8080/"
        },
        "id": "1EE3noXmSUf6",
        "outputId": "e219fa9e-e43f-4dd6-b2d4-81b29d1c5f32"
      },
      "execution_count": 21,
      "outputs": [
        {
          "output_type": "stream",
          "name": "stdout",
          "text": [
            "uoy evol I\n"
          ]
        }
      ]
    },
    {
      "cell_type": "markdown",
      "source": [
        "#####Debugging Loop"
      ],
      "metadata": {
        "id": "Ll4Gwbrshs1Z"
      }
    },
    {
      "cell_type": "code",
      "source": [
        "print(\"input decimal number: \",)\n",
        "decimal = int(input())\n",
        "result = \"\"\n",
        "loop_counter = 0\n",
        "\n",
        "while(decimal > 0):\n",
        "    temp_decimal_input = decimal\n",
        "    temp_result_input = result\n",
        "\n",
        "    remainder = decimal % 2\n",
        "    decimal = decimal // 2\n",
        "    result = str(remainder) + result\n",
        "\n",
        "    print(\"-----------\",loop_counter,\"loop value check --------\")\n",
        "    print(\"Initial decimal:\", temp_decimal_input, \", Remainder:\", remainder, \", Initial result\", temp_result_input)\n",
        "    print(\"Output decimal:\", decimal)\n",
        "    print(\"Output result:\", result)\n",
        "    print(\"------------------------------------------------------\")\n",
        "\n",
        "    loop_counter += 1\n",
        "\n",
        "print(\"Binary number is\", result)"
      ],
      "metadata": {
        "colab": {
          "base_uri": "https://localhost:8080/"
        },
        "id": "DWmIG8IIhvIS",
        "outputId": "1cba3381-1644-4b78-aa0c-f6dc75a93d91"
      },
      "execution_count": null,
      "outputs": [
        {
          "output_type": "stream",
          "name": "stdout",
          "text": [
            "input decimal number: \n",
            "155\n",
            "----------- 0 loop value check --------\n",
            "Initial decimal: 155 , Remainder: 1 , Initial result \n",
            "Output decimal: 77\n",
            "Output result: 1\n",
            "------------------------------------------------------\n",
            "----------- 1 loop value check --------\n",
            "Initial decimal: 77 , Remainder: 1 , Initial result 1\n",
            "Output decimal: 38\n",
            "Output result: 11\n",
            "------------------------------------------------------\n",
            "----------- 2 loop value check --------\n",
            "Initial decimal: 38 , Remainder: 0 , Initial result 11\n",
            "Output decimal: 19\n",
            "Output result: 011\n",
            "------------------------------------------------------\n",
            "----------- 3 loop value check --------\n",
            "Initial decimal: 19 , Remainder: 1 , Initial result 011\n",
            "Output decimal: 9\n",
            "Output result: 1011\n",
            "------------------------------------------------------\n",
            "----------- 4 loop value check --------\n",
            "Initial decimal: 9 , Remainder: 1 , Initial result 1011\n",
            "Output decimal: 4\n",
            "Output result: 11011\n",
            "------------------------------------------------------\n",
            "----------- 5 loop value check --------\n",
            "Initial decimal: 4 , Remainder: 0 , Initial result 11011\n",
            "Output decimal: 2\n",
            "Output result: 011011\n",
            "------------------------------------------------------\n",
            "----------- 6 loop value check --------\n",
            "Initial decimal: 2 , Remainder: 0 , Initial result 011011\n",
            "Output decimal: 1\n",
            "Output result: 0011011\n",
            "------------------------------------------------------\n",
            "----------- 7 loop value check --------\n",
            "Initial decimal: 1 , Remainder: 1 , Initial result 0011011\n",
            "Output decimal: 0\n",
            "Output result: 10011011\n",
            "------------------------------------------------------\n",
            "Binary number is 10011011\n"
          ]
        }
      ]
    },
    {
      "cell_type": "markdown",
      "source": [
        "#####Loop & Control lab"
      ],
      "metadata": {
        "id": "4n2ksLbXlV-R"
      }
    },
    {
      "cell_type": "markdown",
      "source": [
        "#####[연습] 숫자 찾기 게임"
      ],
      "metadata": {
        "id": "3HzOuMccmAPP"
      }
    },
    {
      "cell_type": "code",
      "source": [
        "# -*- coding: utf-8 -*-\n",
        "import random\n",
        "guess_number = random.randint(1, 100)\n",
        "users_input = int(input(\"숫자를 맞춰보세요 (1 ~ 100)\"))\n",
        "try_count = 1\n",
        "\n",
        "while(users_input is not guess_number):\n",
        "    try_count += 1\n",
        "    if users_input > guess_number:\n",
        "        print(\"숫자가 너무 큽니다\")\n",
        "    else:\n",
        "        print(\"숫자가 너무 작습니다\")\n",
        "    users_input = int(input(\"{}번째 시도: \".format(try_count)))\n",
        "else: print(\"정답입니다.\", \"입력한 숫자는 \", users_input, \"입니다\")"
      ],
      "metadata": {
        "colab": {
          "base_uri": "https://localhost:8080/"
        },
        "id": "y8E87Zn5lwDh",
        "outputId": "0dd75ef1-10a8-43ae-dfb8-0c91b856417e"
      },
      "execution_count": null,
      "outputs": [
        {
          "output_type": "stream",
          "name": "stdout",
          "text": [
            "숫자를 맞춰보세요 (1 ~ 100)50\n",
            "숫자가 너무 작습니다\n",
            "2번째 시도: 75\n",
            "숫자가 너무 작습니다\n",
            "3번째 시도: 87\n",
            "숫자가 너무 큽니다\n",
            "4번째 시도: 83\n",
            "숫자가 너무 큽니다\n",
            "5번째 시도: 80\n",
            "숫자가 너무 작습니다\n",
            "6번째 시도: 82\n",
            "숫자가 너무 큽니다\n",
            "7번째 시도: 81\n",
            "정답입니다. 입력한 숫자는  81 입니다\n"
          ]
        }
      ]
    },
    {
      "cell_type": "markdown",
      "source": [
        "#####[연습] 이차원 리스트처리하기"
      ],
      "metadata": {
        "id": "2Qz2Q0hV966R"
      }
    },
    {
      "cell_type": "code",
      "source": [
        "while(1):\n",
        "    num = int(input(\"구구단 계산기 (1 ~ 9)\"))\n",
        "    if num == 0: break\n",
        "\n",
        "    if not(1 <= num <= 9):\n",
        "        print(\"잘못 입력하셨습니다, 1부터 9사이 숫자를 입력해주세요\")\n",
        "        continue\n",
        "    else:\n",
        "        print(\"{}단을 계산합니다\".format(num))\n",
        "\n",
        "        for i in range(1,10):\n",
        "            print(\"{} X {} = {}\".format(num, i, num * i))\n",
        "\n",
        "print(\"구구단 계산기를 종료합니다\")\n",
        "\n"
      ],
      "metadata": {
        "colab": {
          "base_uri": "https://localhost:8080/"
        },
        "id": "E-HizID381S6",
        "outputId": "5fa5da42-afff-4bb5-d864-af530b669d35"
      },
      "execution_count": 22,
      "outputs": [
        {
          "output_type": "stream",
          "name": "stdout",
          "text": [
            "구구단 계산기 (1 ~ 9)1\n",
            "1단을 계산합니다\n",
            "1 X 1 = 1\n",
            "1 X 2 = 2\n",
            "1 X 3 = 3\n",
            "1 X 4 = 4\n",
            "1 X 5 = 5\n",
            "1 X 6 = 6\n",
            "1 X 7 = 7\n",
            "1 X 8 = 8\n",
            "1 X 9 = 9\n",
            "구구단 계산기 (1 ~ 9)2\n",
            "2단을 계산합니다\n",
            "2 X 1 = 2\n",
            "2 X 2 = 4\n",
            "2 X 3 = 6\n",
            "2 X 4 = 8\n",
            "2 X 5 = 10\n",
            "2 X 6 = 12\n",
            "2 X 7 = 14\n",
            "2 X 8 = 16\n",
            "2 X 9 = 18\n",
            "구구단 계산기 (1 ~ 9)6\n",
            "6단을 계산합니다\n",
            "6 X 1 = 6\n",
            "6 X 2 = 12\n",
            "6 X 3 = 18\n",
            "6 X 4 = 24\n",
            "6 X 5 = 30\n",
            "6 X 6 = 36\n",
            "6 X 7 = 42\n",
            "6 X 8 = 48\n",
            "6 X 9 = 54\n",
            "구구단 계산기 (1 ~ 9)0\n",
            "구구단 계산기를 종료합니다\n"
          ]
        }
      ]
    },
    {
      "cell_type": "markdown",
      "source": [
        "#####[연습] 이차원 리스트처리하기"
      ],
      "metadata": {
        "id": "7Vd6h8dvqRhT"
      }
    },
    {
      "cell_type": "code",
      "source": [
        "kor_score=[49,79,20,100,80]\n",
        "math_score=[43,59,85,30,90]\n",
        "eng_score=[49,79,48,60,100]\n",
        "midterm_score=[kor_score,math_score,eng_score]\n",
        "\n",
        "print(midterm_score)"
      ],
      "metadata": {
        "colab": {
          "base_uri": "https://localhost:8080/"
        },
        "id": "1kNjwDcI-E1G",
        "outputId": "3145ffa6-3168-4cdb-f6e4-fbd162226af1"
      },
      "execution_count": 23,
      "outputs": [
        {
          "output_type": "stream",
          "name": "stdout",
          "text": [
            "[[49, 79, 20, 100, 80], [43, 59, 85, 30, 90], [49, 79, 48, 60, 100]]\n"
          ]
        }
      ]
    },
    {
      "cell_type": "code",
      "source": [
        "student_score = [0 for i in range(5)]\n",
        "\n",
        "for subject in midterm_score:\n",
        "    idx = 0\n",
        "    for score in subject:\n",
        "        student_score[idx] += score\n",
        "        idx += 1\n",
        "\n",
        "for i in range(5):\n",
        "    print(\"{:.1f}\".format(student_score[i] / len(midterm_score)), end=', ')\n",
        "\n",
        "# print([student_score[i] / len(midterm_score) for i in range(5)])"
      ],
      "metadata": {
        "colab": {
          "base_uri": "https://localhost:8080/"
        },
        "id": "DZfSXCrx-MaB",
        "outputId": "2a512107-819c-4f72-e82a-f5d1f75eb644"
      },
      "execution_count": 61,
      "outputs": [
        {
          "output_type": "stream",
          "name": "stdout",
          "text": [
            "47.0, 72.3, 51.0, 63.3, 90.0, "
          ]
        }
      ]
    },
    {
      "cell_type": "markdown",
      "source": [
        "#####Debugging"
      ],
      "metadata": {
        "id": "8sSLupkBCl1w"
      }
    },
    {
      "cell_type": "code",
      "source": [
        "def addition(x, y):\n",
        "    return x + y\n",
        "\n",
        "def multiplication(x, y):\n",
        "    return x * y\n",
        "\n",
        "def divided_by_2(x):\n",
        "    return x / 2"
      ],
      "metadata": {
        "id": "kJLwoAEJBp8n"
      },
      "execution_count": 62,
      "outputs": []
    },
    {
      "cell_type": "code",
      "source": [
        "print(addition(10, 5))\n",
        "print(multiplication(10, 5))\n",
        "print(divided_by_2(50))"
      ],
      "metadata": {
        "id": "Ipy_GVX7DVuj",
        "outputId": "b8a4c1f6-3c9d-4967-c524-572dd508480a",
        "colab": {
          "base_uri": "https://localhost:8080/"
        }
      },
      "execution_count": 64,
      "outputs": [
        {
          "output_type": "stream",
          "name": "stdout",
          "text": [
            "15\n",
            "50\n",
            "25.0\n"
          ]
        }
      ]
    }
  ]
}