{
  "nbformat": 4,
  "nbformat_minor": 0,
  "metadata": {
    "colab": {
      "name": "08_String_and_Advanced_Function_Concept.ipynb",
      "provenance": [],
      "collapsed_sections": []
    },
    "kernelspec": {
      "name": "python3",
      "display_name": "Python 3"
    },
    "language_info": {
      "name": "python"
    }
  },
  "cells": [
    {
      "cell_type": "markdown",
      "source": [
        "##**String**"
      ],
      "metadata": {
        "id": "SI1NgiPtM06q"
      }
    },
    {
      "cell_type": "markdown",
      "source": [
        "#####문자열"
      ],
      "metadata": {
        "id": "STxgVxeXNUlS"
      }
    },
    {
      "cell_type": "code",
      "execution_count": 2,
      "metadata": {
        "colab": {
          "base_uri": "https://localhost:8080/"
        },
        "id": "IZ9eXN4qMs1y",
        "outputId": "8a436506-b284-4817-fc12-c0fcf06a7979"
      },
      "outputs": [
        {
          "output_type": "stream",
          "name": "stdout",
          "text": [
            "50 51 52\n"
          ]
        }
      ],
      "source": [
        "import sys      # sys 모듈을 호출\n",
        "\n",
        "print(sys.getsizeof(\"a\"), sys.getsizeof(\"ab\"), sys.getsizeof(\"abc\"))"
      ]
    },
    {
      "cell_type": "markdown",
      "source": [
        "#####문자열 특징 - 인덱싱(Indexing)"
      ],
      "metadata": {
        "id": "q7Z1iGn_Nhzt"
      }
    },
    {
      "cell_type": "code",
      "source": [
        "a = \"abcde\"\n",
        "\n",
        "print(a[0], a[4])       # a 변수의 0번째, 4번째 주소에 있는 값\n",
        "print(a[-1], a[-5])     # a 변수의 오른쪽에서 0번째, 4번째 주소에 있는 값"
      ],
      "metadata": {
        "colab": {
          "base_uri": "https://localhost:8080/"
        },
        "id": "eAnv5aIbNWS6",
        "outputId": "0a4682f1-4762-4afd-c166-59a720689bb6"
      },
      "execution_count": 3,
      "outputs": [
        {
          "output_type": "stream",
          "name": "stdout",
          "text": [
            "a e\n",
            "e a\n"
          ]
        }
      ]
    },
    {
      "cell_type": "markdown",
      "source": [
        "#####문자열 특징 - 슬라이싱(Slicing)"
      ],
      "metadata": {
        "id": "TVGYTCw9N2S7"
      }
    },
    {
      "cell_type": "code",
      "source": [
        "a = \"Artificial Intelligence and Machine Learning\"\n",
        "\n",
        "print(a[0:6], \" AND \", a[-9:])      # a 변수의 0부터 5까지, -9부터 끝까지\n",
        "print(a[:])                         # a 변수의 처음부터 끝까지\n",
        "print(a[-50:50])                    # 범위를 넘어갈 경우 자동으로 최대 범위를 지정\n",
        "print(a[::2], \" AND \", a[::-1])     # 2칸 단위로, 역으로 슬라이싱"
      ],
      "metadata": {
        "colab": {
          "base_uri": "https://localhost:8080/"
        },
        "id": "SYv1qoZrN5cg",
        "outputId": "d1068fe7-6abf-46b9-ec08-e512fd233358"
      },
      "execution_count": 5,
      "outputs": [
        {
          "output_type": "stream",
          "name": "stdout",
          "text": [
            "Artifi  AND   Learning\n",
            "Artificial Intelligence and Machine Learning\n",
            "Artificial Intelligence and Machine Learning\n",
            "Atfca nelgneadMcieLann  AND  gninraeL enihcaM dna ecnegilletnI laicifitrA\n"
          ]
        }
      ]
    },
    {
      "cell_type": "markdown",
      "source": [
        "#####문자열 연산 및 포함여부 검사"
      ],
      "metadata": {
        "id": "QQW8KN3zPO7O"
      }
    },
    {
      "cell_type": "code",
      "source": [
        "a = \"TEAM\"\n",
        "b = \"LAB\"\n",
        "print(a + \" \" + b)      # + 연산으로 a와 b 연결하기\n",
        "print(a * 2 + \" \" + b * 2)\n",
        "\n",
        "if 'A' in a:    # 'U'가 a에 포함되었는지 확인\n",
        "    print(a)\n",
        "else:\n",
        "    print(b)"
      ],
      "metadata": {
        "colab": {
          "base_uri": "https://localhost:8080/"
        },
        "id": "1MaUNejIPRtX",
        "outputId": "be9c9dad-118a-4480-8023-470874a6dfe2"
      },
      "execution_count": 7,
      "outputs": [
        {
          "output_type": "stream",
          "name": "stdout",
          "text": [
            "TEAM LAB\n",
            "TEAMTEAM LABLAB\n",
            "TEAM\n"
          ]
        }
      ]
    },
    {
      "cell_type": "markdown",
      "source": [
        "#####문자열 함수 예시"
      ],
      "metadata": {
        "id": "XFM_PP3dQpmK"
      }
    },
    {
      "cell_type": "code",
      "source": [
        "title = \"TEAMLAB X Upstage\"\n",
        "print(title.upper())\n",
        "print(title.lower())\n",
        "print(title.split(\" \"))\n",
        "print(title.isdigit())\n",
        "print(title.title())\n",
        "print(title.startswith(\"a\"))\n",
        "print(title.count(\"a\"))\n",
        "print(title.upper().count(\"a\"))\n",
        "\n",
        "print(\"12345\".isdigit())\n",
        "print(title.find(\" Naver\"))\n",
        "print(\"     Hello    \".strip())\n",
        "print(\"A-B-C-D-E-F\".split(\"-\"))"
      ],
      "metadata": {
        "colab": {
          "base_uri": "https://localhost:8080/"
        },
        "id": "1OQewPQRPnqT",
        "outputId": "de785528-1f5c-431d-d9a4-310beb089f56"
      },
      "execution_count": 9,
      "outputs": [
        {
          "output_type": "stream",
          "name": "stdout",
          "text": [
            "TEAMLAB X UPSTAGE\n",
            "teamlab x upstage\n",
            "['TEAMLAB', 'X', 'Upstage']\n",
            "False\n",
            "Teamlab X Upstage\n",
            "False\n",
            "1\n",
            "0\n",
            "True\n",
            "-1\n",
            "Hello\n",
            "['A', 'B', 'C', 'D', 'E', 'F']\n"
          ]
        }
      ]
    },
    {
      "cell_type": "markdown",
      "source": [
        "#####Raw string"
      ],
      "metadata": {
        "id": "H3Bmv2-HShhG"
      }
    },
    {
      "cell_type": "code",
      "source": [
        "raw_string = \"동해물과 백두산이 \\n 마르고 닳도록\"\n",
        "print(raw_string)"
      ],
      "metadata": {
        "colab": {
          "base_uri": "https://localhost:8080/"
        },
        "id": "KzVHQDbISjzv",
        "outputId": "ed98c764-a5ef-4820-c524-0231d8df06f1"
      },
      "execution_count": 10,
      "outputs": [
        {
          "output_type": "stream",
          "name": "stdout",
          "text": [
            "동해물과 백두산이 \n",
            " 마르고 닳도록\n"
          ]
        }
      ]
    },
    {
      "cell_type": "code",
      "source": [
        "raw_string = r\"동해물과 백두산이 \\n 마르고 닳도록\"\n",
        "print(raw_string)"
      ],
      "metadata": {
        "colab": {
          "base_uri": "https://localhost:8080/"
        },
        "id": "3k4nuINvSsMn",
        "outputId": "6b0e08c0-49ea-4b62-ae51-855c3abe3b32"
      },
      "execution_count": 11,
      "outputs": [
        {
          "output_type": "stream",
          "name": "stdout",
          "text": [
            "동해물과 백두산이 \\n 마르고 닳도록\n"
          ]
        }
      ]
    },
    {
      "cell_type": "markdown",
      "source": [
        "#####str lab - yesterday"
      ],
      "metadata": {
        "id": "nHS4P5HQSyIO"
      }
    },
    {
      "cell_type": "markdown",
      "source": [
        "Yesterday, all my troubles seemed so far away\n",
        "Now it looks as though they're here to stay\n",
        "oh, I believe in yesterday\n",
        "\n",
        "Suddenly, I'm not half the man I used to be\n",
        "There's a shadow hanging over me\n",
        "Oh, yesterday came suddenly.\n",
        "\n",
        "Why she had to go?\n",
        "I don't know, she wouldn't say\n",
        "I said something wrong\n",
        "Now I long for yesterday.\n",
        "\n",
        "Yesterday love was such an easy game to play\n",
        "Now I need a place to hide away\n",
        "Oh, I believe in yesterday.\n",
        "\n",
        "Why she had to go?\n",
        "I don't know, she wouldn't say\n",
        "I said something wrong\n",
        "Now I long for yesterday.\n",
        "\n",
        "Yesterday love was such an easy game to play\n",
        "Now I need a place to hide away\n",
        "Oh, I believe in yesterday..."
      ],
      "metadata": {
        "id": "OIQS0W_JVUMZ"
      }
    },
    {
      "cell_type": "code",
      "source": [
        "f = open(\"yesterday.txt\", 'r')\n",
        "\n",
        "yesterday_lyric = \"\"\n",
        "\n",
        "while True:\n",
        "    line = f.readline()\n",
        "    if not line:\n",
        "        break\n",
        "    yesterday_lyric = yesterday_lyric + line.strip() + \"\\n\"\n",
        "f.close()\n",
        "n_of_yesterday = yesterday_lyric.upper().count(\"YESTERDAY\")     # 대소문자 구분 제거\n",
        "print(\"Number of a Word 'Yesterday'\", n_of_yesterday)"
      ],
      "metadata": {
        "colab": {
          "base_uri": "https://localhost:8080/",
          "height": 248
        },
        "id": "m32LCnIRS09k",
        "outputId": "5c8e16b1-862c-4e0f-e33e-9c5d8602781f"
      },
      "execution_count": 12,
      "outputs": [
        {
          "output_type": "error",
          "ename": "FileNotFoundError",
          "evalue": "ignored",
          "traceback": [
            "\u001b[0;31m---------------------------------------------------------------------------\u001b[0m",
            "\u001b[0;31mFileNotFoundError\u001b[0m                         Traceback (most recent call last)",
            "\u001b[0;32m<ipython-input-12-c25b7a57debb>\u001b[0m in \u001b[0;36m<module>\u001b[0;34m()\u001b[0m\n\u001b[0;32m----> 1\u001b[0;31m \u001b[0mf\u001b[0m \u001b[0;34m=\u001b[0m \u001b[0mopen\u001b[0m\u001b[0;34m(\u001b[0m\u001b[0;34m\"yesterday.txt\"\u001b[0m\u001b[0;34m,\u001b[0m \u001b[0;34m'r'\u001b[0m\u001b[0;34m)\u001b[0m\u001b[0;34m\u001b[0m\u001b[0;34m\u001b[0m\u001b[0m\n\u001b[0m\u001b[1;32m      2\u001b[0m \u001b[0myesterday_lyric\u001b[0m \u001b[0;34m=\u001b[0m \u001b[0;34m\"\"\u001b[0m\u001b[0;34m\u001b[0m\u001b[0;34m\u001b[0m\u001b[0m\n\u001b[1;32m      3\u001b[0m \u001b[0;34m\u001b[0m\u001b[0m\n\u001b[1;32m      4\u001b[0m \u001b[0;32mwhile\u001b[0m \u001b[0;32mTrue\u001b[0m\u001b[0;34m:\u001b[0m\u001b[0;34m\u001b[0m\u001b[0;34m\u001b[0m\u001b[0m\n\u001b[1;32m      5\u001b[0m     \u001b[0mline\u001b[0m \u001b[0;34m=\u001b[0m \u001b[0mf\u001b[0m\u001b[0;34m.\u001b[0m\u001b[0mreadline\u001b[0m\u001b[0;34m(\u001b[0m\u001b[0;34m)\u001b[0m\u001b[0;34m\u001b[0m\u001b[0;34m\u001b[0m\u001b[0m\n",
            "\u001b[0;31mFileNotFoundError\u001b[0m: [Errno 2] No such file or directory: 'yesterday.txt'"
          ]
        }
      ]
    },
    {
      "cell_type": "markdown",
      "source": [
        "#####Call by object reference"
      ],
      "metadata": {
        "id": "4kHWYMQ0VaTi"
      }
    },
    {
      "cell_type": "markdown",
      "source": [
        "#####파이썬 함수 호출 방식 - Call by object Reference"
      ],
      "metadata": {
        "id": "znCbN_BKWfL3"
      }
    },
    {
      "cell_type": "code",
      "source": [
        "def spam(eggs):\n",
        "    eggs.append(1)      # 기존 객체의 주소값에 [1]추가\n",
        "    eggs = [2, 3]       # 새로운 객체 생성\n",
        "\n",
        "ham = [0]\n",
        "spam(ham)\n",
        "print(ham)"
      ],
      "metadata": {
        "colab": {
          "base_uri": "https://localhost:8080/"
        },
        "id": "q095onSEVYVL",
        "outputId": "3212831d-cc61-4f71-a34d-226bca497f7e"
      },
      "execution_count": 13,
      "outputs": [
        {
          "output_type": "stream",
          "name": "stdout",
          "text": [
            "[0, 1]\n"
          ]
        }
      ]
    },
    {
      "cell_type": "markdown",
      "source": [
        "#####swap"
      ],
      "metadata": {
        "id": "60bVt2SAZ0Aw"
      }
    },
    {
      "cell_type": "code",
      "source": [
        "a = [1, 2, 3, 4, 5]\n",
        "b = [1, 2, 3, 4, 5]\n",
        "c = [1, 2, 3, 4, 5]\n",
        "\n",
        "def swap_value(x, y):\n",
        "    temp = x\n",
        "    x = y\n",
        "    y = temp\n",
        "\n",
        "def swap_offset(offset_x, offset_y):\n",
        "    temp = b[offset_x]\n",
        "    b[offset_x] = b[offset_y]\n",
        "    b[offset_y] = temp\n",
        "\n",
        "def swap_reference(list, offset_x, offset_y):\n",
        "    temp = list[offset_x]\n",
        "    list[offset_x] = list[offset_y]\n",
        "    list[offset_y] = temp"
      ],
      "metadata": {
        "id": "tAYDGogdXHPj"
      },
      "execution_count": 22,
      "outputs": []
    },
    {
      "cell_type": "code",
      "source": [
        "swap_value(a[0], a[1])\n",
        "print(a)\n",
        "swap_offset(b[0], b[1])\n",
        "print(b)\n",
        "swap_reference(c, 0, 1)\n",
        "print(c)"
      ],
      "metadata": {
        "colab": {
          "base_uri": "https://localhost:8080/"
        },
        "id": "AkvhSlOqZNA4",
        "outputId": "0168edb0-9305-4f29-a8fc-b2d277f13de7"
      },
      "execution_count": 23,
      "outputs": [
        {
          "output_type": "stream",
          "name": "stdout",
          "text": [
            "[1, 2, 3, 4, 5]\n",
            "[1, 3, 2, 4, 5]\n",
            "[2, 1, 3, 4, 5]\n"
          ]
        }
      ]
    },
    {
      "cell_type": "markdown",
      "source": [
        "#####function - scoping rule"
      ],
      "metadata": {
        "id": "rbgrci45Z1v0"
      }
    },
    {
      "cell_type": "code",
      "source": [
        "def test(t):\n",
        "    print(x)\n",
        "    t = 20\n",
        "    print(\"In Function :\", t)\n",
        "\n",
        "x = 10\n",
        "test(x)\n",
        "print(t)"
      ],
      "metadata": {
        "colab": {
          "base_uri": "https://localhost:8080/",
          "height": 248
        },
        "id": "yUf6oOg8Z1U_",
        "outputId": "35b6eb6c-9a48-4205-c749-4cd54975d220"
      },
      "execution_count": 24,
      "outputs": [
        {
          "output_type": "stream",
          "name": "stdout",
          "text": [
            "10\n",
            "In Function : 20\n"
          ]
        },
        {
          "output_type": "error",
          "ename": "NameError",
          "evalue": "ignored",
          "traceback": [
            "\u001b[0;31m---------------------------------------------------------------------------\u001b[0m",
            "\u001b[0;31mNameError\u001b[0m                                 Traceback (most recent call last)",
            "\u001b[0;32m<ipython-input-24-438f9a2a980b>\u001b[0m in \u001b[0;36m<module>\u001b[0;34m()\u001b[0m\n\u001b[1;32m      6\u001b[0m \u001b[0mx\u001b[0m \u001b[0;34m=\u001b[0m \u001b[0;36m10\u001b[0m\u001b[0;34m\u001b[0m\u001b[0;34m\u001b[0m\u001b[0m\n\u001b[1;32m      7\u001b[0m \u001b[0mtest\u001b[0m\u001b[0;34m(\u001b[0m\u001b[0mx\u001b[0m\u001b[0;34m)\u001b[0m\u001b[0;34m\u001b[0m\u001b[0;34m\u001b[0m\u001b[0m\n\u001b[0;32m----> 8\u001b[0;31m \u001b[0mprint\u001b[0m\u001b[0;34m(\u001b[0m\u001b[0mt\u001b[0m\u001b[0;34m)\u001b[0m\u001b[0;34m\u001b[0m\u001b[0;34m\u001b[0m\u001b[0m\n\u001b[0m",
            "\u001b[0;31mNameError\u001b[0m: name 't' is not defined"
          ]
        }
      ]
    },
    {
      "cell_type": "markdown",
      "source": [
        "#####Function Call Test"
      ],
      "metadata": {
        "id": "Jvykq0CFdhKR"
      }
    },
    {
      "cell_type": "code",
      "source": [
        "def test(t):\n",
        "    t = 20\n",
        "    print(\"In Function :\", t)\n",
        "\n",
        "x = 10\n",
        "print(\"Before :\", x)    # 10\n",
        "test(x)                 # 함수 호출\n",
        "print(\"After :\", x)     # 10 - 함수 내부의 t는 새로운 주소값을 가짐"
      ],
      "metadata": {
        "colab": {
          "base_uri": "https://localhost:8080/"
        },
        "id": "lJC06E9BdLo2",
        "outputId": "39004b3a-7316-42ed-b908-4a1b089a7cca"
      },
      "execution_count": 25,
      "outputs": [
        {
          "output_type": "stream",
          "name": "stdout",
          "text": [
            "Before : 10\n",
            "In Function : 20\n",
            "After : 10\n"
          ]
        }
      ]
    },
    {
      "cell_type": "markdown",
      "source": [
        "#####변수의 범위(Scoping Rule)"
      ],
      "metadata": {
        "id": "fGbPbr3Qdkjw"
      }
    },
    {
      "cell_type": "code",
      "source": [
        "def f():\n",
        "    s = \"I love London!\"\n",
        "    print(s)\n",
        "\n",
        "s = \"I love Paris!\"\n",
        "f()\n",
        "print(s)"
      ],
      "metadata": {
        "colab": {
          "base_uri": "https://localhost:8080/"
        },
        "id": "EdQAqcoudjU0",
        "outputId": "04602669-4d37-4fcb-8b7b-549005b7989a"
      },
      "execution_count": 26,
      "outputs": [
        {
          "output_type": "stream",
          "name": "stdout",
          "text": [
            "I love London!\n",
            "I love Paris!\n"
          ]
        }
      ]
    },
    {
      "cell_type": "markdown",
      "source": [
        "#####변수의 범위(Scoping Rule) - global"
      ],
      "metadata": {
        "id": "Sk1lj61WdxyV"
      }
    },
    {
      "cell_type": "code",
      "source": [
        "def f():\n",
        "    global s\n",
        "    s = \"I love London!\"\n",
        "    print(s)\n",
        "\n",
        "s = \"I love Paris\"\n",
        "f()\n",
        "print(s)"
      ],
      "metadata": {
        "colab": {
          "base_uri": "https://localhost:8080/"
        },
        "id": "6ydSqvJ7d16J",
        "outputId": "9cf7edf4-f1a0-489d-93a4-cc826ce4b59e"
      },
      "execution_count": 27,
      "outputs": [
        {
          "output_type": "stream",
          "name": "stdout",
          "text": [
            "I love London!\n",
            "I love London!\n"
          ]
        }
      ]
    },
    {
      "cell_type": "markdown",
      "source": [
        "#####변수의 범위(Scoping Rule) - test"
      ],
      "metadata": {
        "id": "HxvwfiZneBH-"
      }
    },
    {
      "cell_type": "code",
      "source": [
        "def calculate(x, y):\n",
        "    total = x + y\n",
        "    print(\"In Function\")\n",
        "    print(\"a:\", str(a), \" b:\", str(b), \" a+b:\", str(a+b), \" total:\", str(total))\n",
        "    return total\n",
        "\n",
        "a = 5\n",
        "b = 7\n",
        "total = 0\n",
        "print(\"In Program - 1\")\n",
        "print(\"a:\", str(a), \" b:\", str(b), \" a+b\", str(a+b))\n",
        "\n",
        "sum = calculate(a, b)\n",
        "print(\"After Calculation\")\n",
        "print(\"Total:\", str(total), \" Sum:\", str(sum))"
      ],
      "metadata": {
        "colab": {
          "base_uri": "https://localhost:8080/"
        },
        "id": "wJWGTx-oeEM2",
        "outputId": "9f6125b3-5849-40ee-8365-928aadbf76ca"
      },
      "execution_count": 32,
      "outputs": [
        {
          "output_type": "stream",
          "name": "stdout",
          "text": [
            "In Program - 1\n",
            "a: 5  b: 7  a+b 12\n",
            "In Function\n",
            "a: 5  b: 7  a+b: 12  total: 12\n",
            "After Calculation\n",
            "Total: 0  Sum: 12\n"
          ]
        }
      ]
    },
    {
      "cell_type": "markdown",
      "source": [
        "##**Recursive Function**"
      ],
      "metadata": {
        "id": "U87TwoUrgww_"
      }
    },
    {
      "cell_type": "markdown",
      "source": [
        "#####재귀함수 (recursive function)"
      ],
      "metadata": {
        "id": "026U4U46g3Fj"
      }
    },
    {
      "cell_type": "code",
      "source": [
        "def factorial(n):\n",
        "    if n == 1:\n",
        "        return 1\n",
        "    else:\n",
        "        return n * factorial(n-1)\n",
        "\n",
        "print(factorial(int(input(\"Input Number for Factorial Calculation: \"))))"
      ],
      "metadata": {
        "colab": {
          "base_uri": "https://localhost:8080/"
        },
        "id": "cT_hukKPg05q",
        "outputId": "3613e2e2-e3a6-4bf4-846a-2bcf57a2c525"
      },
      "execution_count": 36,
      "outputs": [
        {
          "output_type": "stream",
          "name": "stdout",
          "text": [
            "Input Number for Factorial Calculation: 5\n",
            "120\n"
          ]
        }
      ]
    },
    {
      "cell_type": "code",
      "source": [
        "def loop_factorial(n):\n",
        "    result = 1\n",
        "    for i in range(n,1,-1):\n",
        "        result *= i\n",
        "    return result\n",
        "\n",
        "print(factorial(int(input(\"Input Number for Factorial Calculation: \"))))"
      ],
      "metadata": {
        "colab": {
          "base_uri": "https://localhost:8080/"
        },
        "id": "F_a7E6YghmPA",
        "outputId": "921242c4-e3f1-4f47-ceac-676e07a05f4b"
      },
      "execution_count": 37,
      "outputs": [
        {
          "output_type": "stream",
          "name": "stdout",
          "text": [
            "Input Number for Factorial Calculation: 5\n",
            "120\n"
          ]
        }
      ]
    },
    {
      "cell_type": "markdown",
      "source": [
        "#####Function type Hints"
      ],
      "metadata": {
        "id": "9kXVFb_piFX7"
      }
    },
    {
      "cell_type": "code",
      "source": [
        "def do_function(var_name: var_type) -> return_type:\n",
        "    pass\n",
        "\n",
        "def type_hint_example(name: str) -> str:\n",
        "    return f\"Hello, {name}\""
      ],
      "metadata": {
        "id": "XHEMVvRQiQZD"
      },
      "execution_count": null,
      "outputs": []
    }
  ]
}