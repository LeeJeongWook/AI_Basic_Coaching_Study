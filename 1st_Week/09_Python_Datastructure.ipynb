{
  "nbformat": 4,
  "nbformat_minor": 0,
  "metadata": {
    "colab": {
      "name": "09_Python_Datastructure.ipynb",
      "provenance": [],
      "collapsed_sections": []
    },
    "kernelspec": {
      "name": "python3",
      "display_name": "Python 3"
    },
    "language_info": {
      "name": "python"
    }
  },
  "cells": [
    {
      "cell_type": "markdown",
      "source": [
        "##**Stack**"
      ],
      "metadata": {
        "id": "JRCNULAFsc3V"
      }
    },
    {
      "cell_type": "code",
      "execution_count": null,
      "metadata": {
        "colab": {
          "base_uri": "https://localhost:8080/"
        },
        "id": "LdGJBQG7sB9P",
        "outputId": "9b5ca87c-847e-4f1a-bc28-b67d66fb1519"
      },
      "outputs": [
        {
          "output_type": "stream",
          "name": "stdout",
          "text": [
            "20\n",
            "10\n"
          ]
        }
      ],
      "source": [
        "a = [1, 2, 3, 4, 5]\n",
        "a.append(10)\n",
        "a.append(20)\n",
        "\n",
        "print(a.pop())\n",
        "print(a.pop())"
      ]
    },
    {
      "cell_type": "markdown",
      "source": [
        "#####Stack Example"
      ],
      "metadata": {
        "id": "KEX2XjWIs3wX"
      }
    },
    {
      "cell_type": "code",
      "source": [
        "word = input(\"Input a word : \")     # Input Word\n",
        "word_list = list(word)              # String to List\n",
        "\n",
        "for i in range(len(word_list)):\n",
        "    print(word_list.pop())          # 하나씩 빼면서 출력"
      ],
      "metadata": {
        "colab": {
          "base_uri": "https://localhost:8080/"
        },
        "id": "58ZB0o6Qs3Tl",
        "outputId": "e40553de-afbf-4731-a03f-b882bcae71f3"
      },
      "execution_count": null,
      "outputs": [
        {
          "output_type": "stream",
          "name": "stdout",
          "text": [
            "Input a word : abcdefg\n",
            "g\n",
            "f\n",
            "e\n",
            "d\n",
            "c\n",
            "b\n",
            "a\n"
          ]
        }
      ]
    },
    {
      "cell_type": "markdown",
      "source": [
        "##**Queue**"
      ],
      "metadata": {
        "id": "zddQ6sEitMDL"
      }
    },
    {
      "cell_type": "code",
      "source": [
        "a = [1, 2, 3, 4, 5]\n",
        "a.append(10)\n",
        "a.append(20)\n",
        "\n",
        "print(a.pop(0))\n",
        "print(a.pop(0))"
      ],
      "metadata": {
        "colab": {
          "base_uri": "https://localhost:8080/"
        },
        "id": "MgeKifcgtKqz",
        "outputId": "1b73f67a-d645-4fc2-c385-0ae81398a726"
      },
      "execution_count": null,
      "outputs": [
        {
          "output_type": "stream",
          "name": "stdout",
          "text": [
            "1\n",
            "2\n"
          ]
        }
      ]
    },
    {
      "cell_type": "markdown",
      "source": [
        "##**Tuple**"
      ],
      "metadata": {
        "id": "39Vz_ob0tZ7v"
      }
    },
    {
      "cell_type": "code",
      "source": [
        "t = (1, 2, 3)\n",
        "print(t + t, t * 2)         # (1, 2, 3, 1, 2, 3) (1, 2, 3, 1, 2, 3)\n",
        "\n",
        "len(t)\n",
        "t[1] = 5        # Error 발생"
      ],
      "metadata": {
        "colab": {
          "base_uri": "https://localhost:8080/",
          "height": 229
        },
        "id": "-3y_1HOetbdA",
        "outputId": "65dc6b7d-b709-4e27-b95b-fbfe69104289"
      },
      "execution_count": null,
      "outputs": [
        {
          "output_type": "stream",
          "name": "stdout",
          "text": [
            "(1, 2, 3, 1, 2, 3) (1, 2, 3, 1, 2, 3)\n"
          ]
        },
        {
          "output_type": "error",
          "ename": "TypeError",
          "evalue": "ignored",
          "traceback": [
            "\u001b[0;31m---------------------------------------------------------------------------\u001b[0m",
            "\u001b[0;31mTypeError\u001b[0m                                 Traceback (most recent call last)",
            "\u001b[0;32m<ipython-input-8-56c575d54646>\u001b[0m in \u001b[0;36m<module>\u001b[0;34m()\u001b[0m\n\u001b[1;32m      3\u001b[0m \u001b[0;34m\u001b[0m\u001b[0m\n\u001b[1;32m      4\u001b[0m \u001b[0mlen\u001b[0m\u001b[0;34m(\u001b[0m\u001b[0mt\u001b[0m\u001b[0;34m)\u001b[0m\u001b[0;34m\u001b[0m\u001b[0;34m\u001b[0m\u001b[0m\n\u001b[0;32m----> 5\u001b[0;31m \u001b[0mt\u001b[0m\u001b[0;34m[\u001b[0m\u001b[0;36m1\u001b[0m\u001b[0;34m]\u001b[0m \u001b[0;34m=\u001b[0m \u001b[0;36m5\u001b[0m        \u001b[0;31m# Error 발생\u001b[0m\u001b[0;34m\u001b[0m\u001b[0;34m\u001b[0m\u001b[0m\n\u001b[0m",
            "\u001b[0;31mTypeError\u001b[0m: 'tuple' object does not support item assignment"
          ]
        }
      ]
    },
    {
      "cell_type": "markdown",
      "source": [
        "##**Set**"
      ],
      "metadata": {
        "id": "FJgivOkst4Zb"
      }
    },
    {
      "cell_type": "code",
      "source": [
        "s = set([1, 2, 3, 1, 2, 3])     # set 함수를 사용 1, 2, 3의 집합 객체 생성, a = {1, 2, 3, 4, 5} 도 가능\n",
        "print(s)\n",
        "\n",
        "s.add(1)                        # 한 원소 1만 추가, 추가, 중복불허로 추가 되지 않음\n",
        "print(s)\n",
        "\n",
        "s.remove(1)\n",
        "print(s)\n",
        "\n",
        "s.update([1, 4, 5, 6, 7])\n",
        "print(s)\n",
        "\n",
        "s.discard(3)\n",
        "print(s)\n",
        "\n",
        "s.clear()\n",
        "print(s)"
      ],
      "metadata": {
        "colab": {
          "base_uri": "https://localhost:8080/"
        },
        "id": "7wdL40x9t20z",
        "outputId": "bbbb04e5-1e8a-4715-edd4-79a725445035"
      },
      "execution_count": null,
      "outputs": [
        {
          "output_type": "stream",
          "name": "stdout",
          "text": [
            "{1, 2, 3}\n",
            "{1, 2, 3}\n",
            "{2, 3}\n",
            "{1, 2, 3, 4, 5, 6, 7}\n",
            "{1, 2, 4, 5, 6, 7}\n",
            "set()\n"
          ]
        }
      ]
    },
    {
      "cell_type": "markdown",
      "source": [
        "#####집합의 연산"
      ],
      "metadata": {
        "id": "EH6RrldyIOnX"
      }
    },
    {
      "cell_type": "code",
      "source": [
        "s1 = set([1, 2, 3, 4, 5])\n",
        "s2 = set([3, 4, 5, 6, 7])\n",
        "\n",
        "print(s1. union(s2))    # s1과 s2의 합집합\n",
        "\n",
        "print(s1 | s2)      # set([1, 2, 3, 4, 5, 6, 7])\n",
        "\n",
        "print(s1.intersection(s2))      # s1과 s2의 교집합\n",
        "\n",
        "print(s1 & s2)      # set([3, 4, 5])\n",
        "\n",
        "print(s1.difference(s2))    # s1과 s2의 차집합\n",
        "\n",
        "print(s1 - s2)          # set([1, 2])"
      ],
      "metadata": {
        "colab": {
          "base_uri": "https://localhost:8080/"
        },
        "id": "afOs7nLIIRFK",
        "outputId": "dcf1bbd0-c70e-44ec-963b-88d4e1937efb"
      },
      "execution_count": 3,
      "outputs": [
        {
          "output_type": "stream",
          "name": "stdout",
          "text": [
            "{1, 2, 3, 4, 5, 6, 7}\n",
            "{1, 2, 3, 4, 5, 6, 7}\n",
            "{3, 4, 5}\n",
            "{3, 4, 5}\n",
            "{1, 2}\n",
            "{1, 2}\n"
          ]
        }
      ]
    },
    {
      "cell_type": "markdown",
      "source": [
        "##**Dict**"
      ],
      "metadata": {
        "id": "B7ZtBVuGJZNd"
      }
    },
    {
      "cell_type": "markdown",
      "source": [
        "#####사전(dictionary) 다루기"
      ],
      "metadata": {
        "id": "WilAeaqUKvph"
      }
    },
    {
      "cell_type": "code",
      "source": [
        "country_code = {}\n",
        "country_code = {\"America\" : 1, \"Korea\" : 82, \"china\" : 86, \"Japan\" : 81}\n",
        "print(country_code)\n",
        "\n",
        "print(country_code.items())\n",
        "\n",
        "print(country_code.keys())\n",
        "\n",
        "print(country_code.values())\n",
        "\n",
        "country_code[\"German\"] = 49\n",
        "\n",
        "print(country_code)\n",
        "\n",
        "country_code.values()"
      ],
      "metadata": {
        "colab": {
          "base_uri": "https://localhost:8080/"
        },
        "id": "u6DzmuFmJavc",
        "outputId": "99645e8f-b7d5-4533-f7f2-7c452eb0e7e1"
      },
      "execution_count": 8,
      "outputs": [
        {
          "output_type": "stream",
          "name": "stdout",
          "text": [
            "{'America': 1, 'Korea': 82, 'china': 86, 'Japan': 81}\n",
            "dict_items([('America', 1), ('Korea', 82), ('china', 86), ('Japan', 81)])\n",
            "dict_keys(['America', 'Korea', 'china', 'Japan'])\n",
            "dict_values([1, 82, 86, 81])\n",
            "{'America': 1, 'Korea': 82, 'china': 86, 'Japan': 81, 'German': 49}\n"
          ]
        },
        {
          "output_type": "execute_result",
          "data": {
            "text/plain": [
              "dict_values([1, 82, 86, 81, 49])"
            ]
          },
          "metadata": {},
          "execution_count": 8
        }
      ]
    },
    {
      "cell_type": "code",
      "source": [
        "for k, v in country_code.items():\n",
        "    print(\"Key: \", k)\n",
        "    print(\"Value: \", v)\n",
        "\n",
        "print(\"Korea\" in country_code.keys())\n",
        "print(82 in country_code.values())"
      ],
      "metadata": {
        "colab": {
          "base_uri": "https://localhost:8080/"
        },
        "id": "VPWX4zpmKuLD",
        "outputId": "6f11b81c-e633-4ad8-aa64-3f5b81929a62"
      },
      "execution_count": 10,
      "outputs": [
        {
          "output_type": "stream",
          "name": "stdout",
          "text": [
            "Key:  America\n",
            "Value:  1\n",
            "Key:  Korea\n",
            "Value:  82\n",
            "Key:  china\n",
            "Value:  86\n",
            "Key:  Japan\n",
            "Value:  81\n",
            "Key:  German\n",
            "Value:  49\n",
            "True\n",
            "True\n"
          ]
        }
      ]
    },
    {
      "cell_type": "markdown",
      "source": [
        "#####Command Analyzer"
      ],
      "metadata": {
        "id": "S-O-1m-nLyV_"
      }
    },
    {
      "cell_type": "code",
      "source": [
        "import csv\n",
        "\n",
        "def getKey(item):           # 정렬을 위한 함수\n",
        "    return item[1]          # 신경 쓸 필요 없음\n",
        "\n",
        "command_data = []\n",
        "with open(\"command_data.csv\", \"r\") as csvfile:\n",
        "    spamreader = csv.reader(csvfile, delimiter = ',', quotechar='\"')\n",
        "    for row in spamreader:\n",
        "        command_data.append(row)\n",
        "\n",
        "command_counter = {}                        # dict 생성, 아이디를 key값, 입력줄수를 value값\n",
        "\n",
        "for data in command_data:                   # list 데이터를 dict으로 변경\n",
        "    if data[1] in command_counter.keys():   # 아이디가 이미 Key값으로 변경되어씅ㄹ 때\n",
        "        command_counter[data[1]] += 1       # 기존 출현한 아이디\n",
        "    else:\n",
        "        command_counter[data[1]] = 1        # 처음 나온 아이디\n",
        "\n",
        "dictlist = []                               # dict를 list로 변경\n",
        "for key, value in command_counter.items():\n",
        "    temp = [key, value]\n",
        "    dictlist.append(temp)\n",
        "\n",
        "sorted_dict = sorted(dictlist, key = getKey, reverse = True)    # list를 입력 줄 수로 정렬\n",
        "print(sorted_dict[:100])                                        # List의 상위 100개 값만 출력"
      ],
      "metadata": {
        "colab": {
          "base_uri": "https://localhost:8080/",
          "height": 248
        },
        "id": "Nqsk86mhLx0_",
        "outputId": "9f84a34e-0ca4-4256-bd86-6b6dbc2be872"
      },
      "execution_count": 11,
      "outputs": [
        {
          "output_type": "error",
          "ename": "FileNotFoundError",
          "evalue": "ignored",
          "traceback": [
            "\u001b[0;31m---------------------------------------------------------------------------\u001b[0m",
            "\u001b[0;31mFileNotFoundError\u001b[0m                         Traceback (most recent call last)",
            "\u001b[0;32m<ipython-input-11-dfcfb10f2350>\u001b[0m in \u001b[0;36m<module>\u001b[0;34m()\u001b[0m\n\u001b[1;32m      5\u001b[0m \u001b[0;34m\u001b[0m\u001b[0m\n\u001b[1;32m      6\u001b[0m \u001b[0mcommand_data\u001b[0m \u001b[0;34m=\u001b[0m \u001b[0;34m[\u001b[0m\u001b[0;34m]\u001b[0m\u001b[0;34m\u001b[0m\u001b[0;34m\u001b[0m\u001b[0m\n\u001b[0;32m----> 7\u001b[0;31m \u001b[0;32mwith\u001b[0m \u001b[0mopen\u001b[0m\u001b[0;34m(\u001b[0m\u001b[0;34m\"command_data.csv\"\u001b[0m\u001b[0;34m,\u001b[0m \u001b[0;34m\"r\"\u001b[0m\u001b[0;34m)\u001b[0m \u001b[0;32mas\u001b[0m \u001b[0mcsvfile\u001b[0m\u001b[0;34m:\u001b[0m\u001b[0;34m\u001b[0m\u001b[0;34m\u001b[0m\u001b[0m\n\u001b[0m\u001b[1;32m      8\u001b[0m     \u001b[0mspamreader\u001b[0m \u001b[0;34m=\u001b[0m \u001b[0mcsv\u001b[0m\u001b[0;34m.\u001b[0m\u001b[0mreader\u001b[0m\u001b[0;34m(\u001b[0m\u001b[0mcsvfile\u001b[0m\u001b[0;34m,\u001b[0m \u001b[0mdelimiter\u001b[0m \u001b[0;34m=\u001b[0m \u001b[0;34m','\u001b[0m\u001b[0;34m,\u001b[0m \u001b[0mquotechar\u001b[0m\u001b[0;34m=\u001b[0m\u001b[0;34m'\"'\u001b[0m\u001b[0;34m)\u001b[0m\u001b[0;34m\u001b[0m\u001b[0;34m\u001b[0m\u001b[0m\n\u001b[1;32m      9\u001b[0m     \u001b[0;32mfor\u001b[0m \u001b[0mrow\u001b[0m \u001b[0;32min\u001b[0m \u001b[0mspamreader\u001b[0m\u001b[0;34m:\u001b[0m\u001b[0;34m\u001b[0m\u001b[0;34m\u001b[0m\u001b[0m\n",
            "\u001b[0;31mFileNotFoundError\u001b[0m: [Errno 2] No such file or directory: 'command_data.csv'"
          ]
        }
      ]
    },
    {
      "cell_type": "markdown",
      "source": [
        "#####Collections"
      ],
      "metadata": {
        "id": "aRmmkGKbe02k"
      }
    },
    {
      "cell_type": "code",
      "source": [
        "from collections import deque\n",
        "from collections import Counter\n",
        "from collections import OrderedDict\n",
        "from collections import defaultdict\n",
        "from collections import namedtuple"
      ],
      "metadata": {
        "id": "-dnYZSZAezcc"
      },
      "execution_count": 12,
      "outputs": []
    },
    {
      "cell_type": "markdown",
      "source": [
        "#####Deque"
      ],
      "metadata": {
        "id": "q_EDu5PzgcU5"
      }
    },
    {
      "cell_type": "code",
      "source": [
        "from collections import deque\n",
        "\n",
        "deque_list = deque()\n",
        "\n",
        "for i in range(5):\n",
        "    deque_list.append(i)\n",
        "\n",
        "print(deque_list)\n",
        "\n",
        "deque_list.appendleft(10)\n",
        "print(deque_list)"
      ],
      "metadata": {
        "colab": {
          "base_uri": "https://localhost:8080/"
        },
        "id": "Lfrp-nSmgJwb",
        "outputId": "5d4582c3-d738-4777-c665-dd818f9cf269"
      },
      "execution_count": 14,
      "outputs": [
        {
          "output_type": "stream",
          "name": "stdout",
          "text": [
            "deque([0, 1, 2, 3, 4])\n",
            "deque([10, 0, 1, 2, 3, 4])\n"
          ]
        }
      ]
    },
    {
      "cell_type": "code",
      "source": [
        "deque_list.rotate(2)\n",
        "print(deque_list)\n",
        "\n",
        "deque_list.rotate(2)\n",
        "print(deque_list)\n",
        "print(deque(reversed(deque_list)))\n",
        "\n",
        "deque_list.extend([5, 6, 7])\n",
        "print(deque_list)\n",
        "\n",
        "deque_list.extendleft([5, 6, 7])\n",
        "print(deque_list)"
      ],
      "metadata": {
        "colab": {
          "base_uri": "https://localhost:8080/"
        },
        "id": "hnOg3sPVgzoq",
        "outputId": "6d126121-6c5a-477c-f4d9-d81f0efdba36"
      },
      "execution_count": 15,
      "outputs": [
        {
          "output_type": "stream",
          "name": "stdout",
          "text": [
            "deque([3, 4, 10, 0, 1, 2])\n",
            "deque([1, 2, 3, 4, 10, 0])\n",
            "deque([0, 10, 4, 3, 2, 1])\n",
            "deque([1, 2, 3, 4, 10, 0, 5, 6, 7])\n",
            "deque([7, 6, 5, 1, 2, 3, 4, 10, 0, 5, 6, 7])\n"
          ]
        }
      ]
    },
    {
      "cell_type": "code",
      "source": [
        "# deque는 기존 list보다 효율적인 자료구조를 제공하여 처리 속도가 향상된다\n",
        "\n",
        "from collections import deque\n",
        "import time\n",
        "\n",
        "start_time = time.clock()\n",
        "deque_list = deque()\n",
        "just_list = []\n",
        "# Stack\n",
        "for i in range(10000):\n",
        "    for i in range(10000):\n",
        "        deque_list.append(i)\n",
        "        deque_list.pop()\n",
        "print(\"deque: \", time.clock() - start_time, \"seconds\")\n",
        "\n",
        "start_time = time.clock()\n",
        "\n",
        "for i in range(10000):\n",
        "    for i in range(10000):\n",
        "        just_list.append(i)\n",
        "        just_list.pop()\n",
        "print(\"list: \", time.clock() - start_time, \"seconds\")"
      ],
      "metadata": {
        "colab": {
          "base_uri": "https://localhost:8080/"
        },
        "id": "TkyTUwvCoCET",
        "outputId": "e0128003-7e70-4dce-dc84-e27521006d8d"
      },
      "execution_count": 18,
      "outputs": [
        {
          "output_type": "stream",
          "name": "stderr",
          "text": [
            "/usr/local/lib/python3.7/dist-packages/ipykernel_launcher.py:6: DeprecationWarning: time.clock has been deprecated in Python 3.3 and will be removed from Python 3.8: use time.perf_counter or time.process_time instead\n",
            "  \n",
            "/usr/local/lib/python3.7/dist-packages/ipykernel_launcher.py:14: DeprecationWarning: time.clock has been deprecated in Python 3.3 and will be removed from Python 3.8: use time.perf_counter or time.process_time instead\n",
            "  \n",
            "/usr/local/lib/python3.7/dist-packages/ipykernel_launcher.py:16: DeprecationWarning: time.clock has been deprecated in Python 3.3 and will be removed from Python 3.8: use time.perf_counter or time.process_time instead\n",
            "  app.launch_new_instance()\n"
          ]
        },
        {
          "output_type": "stream",
          "name": "stdout",
          "text": [
            "deque:  18.207341 seconds\n",
            "list:  25.26825699999999 seconds\n"
          ]
        },
        {
          "output_type": "stream",
          "name": "stderr",
          "text": [
            "/usr/local/lib/python3.7/dist-packages/ipykernel_launcher.py:22: DeprecationWarning: time.clock has been deprecated in Python 3.3 and will be removed from Python 3.8: use time.perf_counter or time.process_time instead\n"
          ]
        }
      ]
    },
    {
      "cell_type": "markdown",
      "source": [
        "#####OrderedDict"
      ],
      "metadata": {
        "id": "efFgz83tuAPB"
      }
    },
    {
      "cell_type": "code",
      "source": [
        "d = {}\n",
        "d['x'] = 100\n",
        "d['y'] = 200\n",
        "d['z'] = 300\n",
        "d['l'] = 500\n",
        "\n",
        "for k, v in d.items():\n",
        "    print(k, v)"
      ],
      "metadata": {
        "colab": {
          "base_uri": "https://localhost:8080/"
        },
        "id": "kEdb4CEat8ga",
        "outputId": "8ba5eb47-1994-450d-c508-5c928e90e9c8"
      },
      "execution_count": 20,
      "outputs": [
        {
          "output_type": "stream",
          "name": "stdout",
          "text": [
            "x 100\n",
            "y 200\n",
            "z 300\n",
            "l 500\n"
          ]
        }
      ]
    },
    {
      "cell_type": "code",
      "source": [
        "from collections import OrderedDict\n",
        "\n",
        "d = OrderedDict()\n",
        "d['x'] = 100\n",
        "d['y'] = 200\n",
        "d['z'] = 300\n",
        "d['l'] = 500\n",
        "\n",
        "for k, v in d.items():\n",
        "    print(k, v)"
      ],
      "metadata": {
        "colab": {
          "base_uri": "https://localhost:8080/"
        },
        "id": "6Jk-987Hwl0s",
        "outputId": "2fb17f55-4c08-42bf-8b60-bd66bf8b776d"
      },
      "execution_count": 21,
      "outputs": [
        {
          "output_type": "stream",
          "name": "stdout",
          "text": [
            "x 100\n",
            "y 200\n",
            "z 300\n",
            "l 500\n"
          ]
        }
      ]
    },
    {
      "cell_type": "code",
      "source": [
        "for k, v in OrderedDict(sorted(d.items(), key=lambda t: t[0])).items():\n",
        "    print(k, v)"
      ],
      "metadata": {
        "colab": {
          "base_uri": "https://localhost:8080/"
        },
        "id": "lY6xtWpSxFx6",
        "outputId": "a35ee125-8b76-4232-a9b6-43be1d8b2f15"
      },
      "execution_count": 22,
      "outputs": [
        {
          "output_type": "stream",
          "name": "stdout",
          "text": [
            "l 500\n",
            "x 100\n",
            "y 200\n",
            "z 300\n"
          ]
        }
      ]
    },
    {
      "cell_type": "code",
      "source": [
        "for k, v in OrderedDict(sorted(d.items(), key=lambda t: t[1])).items():\n",
        "    print(k, v)"
      ],
      "metadata": {
        "colab": {
          "base_uri": "https://localhost:8080/"
        },
        "id": "c3IkEKA-xmCK",
        "outputId": "c2722b7d-1949-4e09-94d1-4862c3e9d248"
      },
      "execution_count": 25,
      "outputs": [
        {
          "output_type": "stream",
          "name": "stdout",
          "text": [
            "x 100\n",
            "y 200\n",
            "z 300\n",
            "l 500\n"
          ]
        }
      ]
    },
    {
      "cell_type": "markdown",
      "source": [
        "#####Defaultdict"
      ],
      "metadata": {
        "id": "-gjVSycGx0aP"
      }
    },
    {
      "cell_type": "code",
      "source": [
        "# Dict type의 값에 기본 값을 지정, 신규값 생성시 사용하는 방법\n",
        "\n",
        "from collections import defaultdict\n",
        "d = defaultdict(object)     # Default dictionary를 생성\n",
        "print(d)\n",
        "d = defaultdict(lambda:0)    # Default 값을 0으로 설정함\n",
        "print(d)\n",
        "print(d[\"first\"])"
      ],
      "metadata": {
        "colab": {
          "base_uri": "https://localhost:8080/"
        },
        "id": "JpgTWlm-x2fv",
        "outputId": "515a9165-5912-4ac7-f1de-4df91de5ee05"
      },
      "execution_count": 27,
      "outputs": [
        {
          "output_type": "stream",
          "name": "stdout",
          "text": [
            "defaultdict(<class 'object'>, {})\n",
            "defaultdict(<function <lambda> at 0x7fa9a0a9acb0>, {})\n",
            "0\n"
          ]
        }
      ]
    },
    {
      "cell_type": "code",
      "source": [
        "text =\"\"\"A press release is the quickest and easiest way to get free publicity. If well written, a press release can result in multiple published articles \n",
        "about your firm and its products. And that can mean new prospects contacting you asking you to sell to them. ….\"\"\".lower().split()\n",
        "\n",
        "print(len(text))\n",
        "print(text)"
      ],
      "metadata": {
        "colab": {
          "base_uri": "https://localhost:8080/"
        },
        "id": "eBfohpMgzIHe",
        "outputId": "10514442-fd68-4ad3-9dc2-1859af1d6813"
      },
      "execution_count": 30,
      "outputs": [
        {
          "output_type": "stream",
          "name": "stdout",
          "text": [
            "46\n",
            "['a', 'press', 'release', 'is', 'the', 'quickest', 'and', 'easiest', 'way', 'to', 'get', 'free', 'publicity.', 'if', 'well', 'written,', 'a', 'press', 'release', 'can', 'result', 'in', 'multiple', 'published', 'articles', 'about', 'your', 'firm', 'and', 'its', 'products.', 'and', 'that', 'can', 'mean', 'new', 'prospects', 'contacting', 'you', 'asking', 'you', 'to', 'sell', 'to', 'them.', '….']\n"
          ]
        }
      ]
    },
    {
      "cell_type": "code",
      "source": [
        "from collections import OrderedDict\n",
        "\n",
        "word_count = defaultdict(lambda:0)  # Default 값을 0으로 설정함\n",
        "\n",
        "for word in text:\n",
        "    word_count[word] += 1\n",
        "\n",
        "for i, v in OrderedDict(sorted(word_count.items(), key=lambda t: t[1], reverse=True)).items():\n",
        "    print(i, v)"
      ],
      "metadata": {
        "colab": {
          "base_uri": "https://localhost:8080/"
        },
        "id": "XrXJjX7uzcO9",
        "outputId": "4cd10cb8-84e1-44ba-c7f9-083dae345d89"
      },
      "execution_count": 32,
      "outputs": [
        {
          "output_type": "stream",
          "name": "stdout",
          "text": [
            "and 3\n",
            "to 3\n",
            "a 2\n",
            "press 2\n",
            "release 2\n",
            "can 2\n",
            "you 2\n",
            "is 1\n",
            "the 1\n",
            "quickest 1\n",
            "easiest 1\n",
            "way 1\n",
            "get 1\n",
            "free 1\n",
            "publicity. 1\n",
            "if 1\n",
            "well 1\n",
            "written, 1\n",
            "result 1\n",
            "in 1\n",
            "multiple 1\n",
            "published 1\n",
            "articles 1\n",
            "about 1\n",
            "your 1\n",
            "firm 1\n",
            "its 1\n",
            "products. 1\n",
            "that 1\n",
            "mean 1\n",
            "new 1\n",
            "prospects 1\n",
            "contacting 1\n",
            "asking 1\n",
            "sell 1\n",
            "them. 1\n",
            "…. 1\n"
          ]
        }
      ]
    },
    {
      "cell_type": "markdown",
      "source": [
        "#####Counter"
      ],
      "metadata": {
        "id": "9A-w90RN0SYu"
      }
    },
    {
      "cell_type": "code",
      "source": [
        "from collections import Counter\n",
        "\n",
        "c = Counter()\n",
        "c = Counter('gallahad')\n",
        "print(c) \n",
        "# Counter({'a' : 3, 'l' :2, 'g' : 1, 'd' : 1, 'h' : 1})"
      ],
      "metadata": {
        "colab": {
          "base_uri": "https://localhost:8080/"
        },
        "id": "5ZfniM1v0TdW",
        "outputId": "ab6c05fb-5398-483a-dae0-bb467c9e29be"
      },
      "execution_count": 35,
      "outputs": [
        {
          "output_type": "stream",
          "name": "stdout",
          "text": [
            "Counter({'a': 3, 'l': 2, 'g': 1, 'h': 1, 'd': 1})\n"
          ]
        }
      ]
    },
    {
      "cell_type": "code",
      "source": [
        "c = Counter({'red': 4, 'blue': 2})\n",
        "print(c)\n",
        "print(list(c.elements()))"
      ],
      "metadata": {
        "colab": {
          "base_uri": "https://localhost:8080/"
        },
        "id": "h9MWgXKrJByq",
        "outputId": "d763478d-77e2-4a50-83e9-ce75d43c696c"
      },
      "execution_count": 37,
      "outputs": [
        {
          "output_type": "stream",
          "name": "stdout",
          "text": [
            "Counter({'red': 4, 'blue': 2})\n",
            "['red', 'red', 'red', 'red', 'blue', 'blue']\n"
          ]
        }
      ]
    },
    {
      "cell_type": "code",
      "source": [
        "c = Counter(cats=4, dogs=8)\n",
        "print(c)\n",
        "print(list(c.elements()))"
      ],
      "metadata": {
        "colab": {
          "base_uri": "https://localhost:8080/"
        },
        "id": "IqT0Uh7jJTV_",
        "outputId": "35637eb3-e9b6-4c5d-f6a5-07155af2db3f"
      },
      "execution_count": 38,
      "outputs": [
        {
          "output_type": "stream",
          "name": "stdout",
          "text": [
            "Counter({'dogs': 8, 'cats': 4})\n",
            "['cats', 'cats', 'cats', 'cats', 'dogs', 'dogs', 'dogs', 'dogs', 'dogs', 'dogs', 'dogs', 'dogs']\n"
          ]
        }
      ]
    },
    {
      "cell_type": "code",
      "source": [
        "c = Counter(a=4, b=2, c=0, d=-2)\n",
        "d = Counter(a=1, b=2, c=3, d=4)\n",
        "c.subtract(d)\n",
        "print(c)"
      ],
      "metadata": {
        "colab": {
          "base_uri": "https://localhost:8080/"
        },
        "id": "mYSn2YC9JdXj",
        "outputId": "c93af7f3-cb33-420c-badf-20825fd829af"
      },
      "execution_count": 39,
      "outputs": [
        {
          "output_type": "stream",
          "name": "stdout",
          "text": [
            "Counter({'a': 3, 'b': 0, 'c': -3, 'd': -6})\n"
          ]
        }
      ]
    },
    {
      "cell_type": "code",
      "source": [
        "c = Counter(a=4, b=2, c=0, d=-2)\n",
        "d = Counter(a=1, b=2, c=3, d=4)\n",
        "print(c + d)\n",
        "print(c & d)\n",
        "print(c | d)"
      ],
      "metadata": {
        "colab": {
          "base_uri": "https://localhost:8080/"
        },
        "id": "5K6hDNaPJpoE",
        "outputId": "7ac8435a-2651-41f4-9d50-efc4b472e5e9"
      },
      "execution_count": 41,
      "outputs": [
        {
          "output_type": "stream",
          "name": "stdout",
          "text": [
            "Counter({'a': 5, 'b': 4, 'c': 3, 'd': 2})\n",
            "Counter({'b': 2, 'a': 1})\n",
            "Counter({'a': 4, 'd': 4, 'c': 3, 'b': 2})\n"
          ]
        }
      ]
    },
    {
      "cell_type": "code",
      "source": [
        "text =\"\"\"A press release is the quickest and easiest way to get free publicity. If well written, a press release can result in multiple published articles about your firm and its products. And that can mean new prospects contacting you asking you to sell to them. ….\"\"\".lower().split()\n",
        "\n",
        "print(Counter(text))\n",
        "print(Counter(text)[\"a\"])"
      ],
      "metadata": {
        "colab": {
          "base_uri": "https://localhost:8080/"
        },
        "id": "d6ORyht4J_GV",
        "outputId": "c744b92a-1e17-44e1-d609-bf5eeaacf84c"
      },
      "execution_count": 42,
      "outputs": [
        {
          "output_type": "stream",
          "name": "stdout",
          "text": [
            "Counter({'and': 3, 'to': 3, 'a': 2, 'press': 2, 'release': 2, 'can': 2, 'you': 2, 'is': 1, 'the': 1, 'quickest': 1, 'easiest': 1, 'way': 1, 'get': 1, 'free': 1, 'publicity.': 1, 'if': 1, 'well': 1, 'written,': 1, 'result': 1, 'in': 1, 'multiple': 1, 'published': 1, 'articles': 1, 'about': 1, 'your': 1, 'firm': 1, 'its': 1, 'products.': 1, 'that': 1, 'mean': 1, 'new': 1, 'prospects': 1, 'contacting': 1, 'asking': 1, 'sell': 1, 'them.': 1, '….': 1})\n",
            "2\n"
          ]
        }
      ]
    },
    {
      "cell_type": "markdown",
      "source": [
        "#####Namedtuple"
      ],
      "metadata": {
        "id": "CyUEIwHkKOSk"
      }
    },
    {
      "cell_type": "code",
      "source": [
        "from collections import namedtuple\n",
        "\n",
        "Point = namedtuple('Point', ['x','y'])\n",
        "p = Point(11, y=22)\n",
        "print(p[0], + p[1])"
      ],
      "metadata": {
        "colab": {
          "base_uri": "https://localhost:8080/"
        },
        "id": "gxoy6uDwKRVF",
        "outputId": "553b72b4-6e01-423c-e74e-d2f0e62966ed"
      },
      "execution_count": 43,
      "outputs": [
        {
          "output_type": "stream",
          "name": "stdout",
          "text": [
            "11 22\n"
          ]
        }
      ]
    },
    {
      "cell_type": "code",
      "source": [
        "from collections import namedtuple\n",
        "\n",
        "import csv\n",
        "\n",
        "f = open(\"users.csv\", \"r\")\n",
        "next(f)\n",
        "reader = csv.reader(f)\n",
        "student_list = []\n",
        "for row in reader:\n",
        "    student_list.append(row)\n",
        "    print(row)\n",
        "\n",
        "coloumns =[\"user_id\", \"integration_id\", \"login_id\", \"password\", \"first_name\",\n",
        "\"last_name\", \"full_name\", \"sortable_name\", \"short_name\",\n",
        "\"email\", \"status\"]\n",
        "\n",
        "Student = namedtuple('Student', \" \".join(coloumns))\n",
        "student_namedtuple_list = []\n",
        "\n",
        "for row in student_list:\n",
        "    student = Student(*row)\n",
        "    student_namedtuple_list.append(student)\n",
        "\n",
        "print(student_namedtuple_list)\n",
        "print(student_namedtuple_list[0].full_name)"
      ],
      "metadata": {
        "id": "CpmaSbqgKjcc"
      },
      "execution_count": null,
      "outputs": []
    }
  ]
}