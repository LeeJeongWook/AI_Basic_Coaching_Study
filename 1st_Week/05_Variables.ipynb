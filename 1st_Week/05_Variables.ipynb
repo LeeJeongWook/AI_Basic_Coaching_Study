{
  "nbformat": 4,
  "nbformat_minor": 0,
  "metadata": {
    "colab": {
      "name": "05_Variables.ipynb",
      "provenance": [],
      "collapsed_sections": []
    },
    "kernelspec": {
      "name": "python3",
      "display_name": "Python 3"
    },
    "language_info": {
      "name": "python"
    }
  },
  "cells": [
    {
      "cell_type": "markdown",
      "source": [
        "##**Basic Operations**"
      ],
      "metadata": {
        "id": "0wOte5iTTKFC"
      }
    },
    {
      "cell_type": "markdown",
      "source": [
        "#####자료형 사용 예시"
      ],
      "metadata": {
        "id": "51g4J85bMKTL"
      }
    },
    {
      "cell_type": "code",
      "execution_count": 5,
      "metadata": {
        "colab": {
          "base_uri": "https://localhost:8080/"
        },
        "id": "O_7_hohOL4WD",
        "outputId": "f84051d3-a3c7-4214-c89e-6f1c1979117c"
      },
      "outputs": [
        {
          "output_type": "stream",
          "name": "stdout",
          "text": [
            "1 1\n"
          ]
        }
      ],
      "source": [
        "a = 1 # Integer\n",
        "b = 1 # Integer\n",
        "print(a, b)"
      ]
    },
    {
      "cell_type": "code",
      "source": [
        "a = 1.5  # Float\n",
        "b = 3.5  # Float\n",
        "print(a, b)"
      ],
      "metadata": {
        "colab": {
          "base_uri": "https://localhost:8080/"
        },
        "id": "zx-PJHflMIQO",
        "outputId": "957a25d0-f72f-462d-d62b-85a5384194b3"
      },
      "execution_count": 6,
      "outputs": [
        {
          "output_type": "stream",
          "name": "stdout",
          "text": [
            "1.5 3.5\n"
          ]
        }
      ]
    },
    {
      "cell_type": "code",
      "source": [
        "a = \"ABC\"       # String\n",
        "b = \"101010\"    # String\n",
        "print(a, b)"
      ],
      "metadata": {
        "colab": {
          "base_uri": "https://localhost:8080/"
        },
        "id": "Y7ilc89gMfbf",
        "outputId": "9ccbaab2-55cd-48de-91d9-98b4807e22e4"
      },
      "execution_count": 7,
      "outputs": [
        {
          "output_type": "stream",
          "name": "stdout",
          "text": [
            "ABC 101010\n"
          ]
        }
      ]
    },
    {
      "cell_type": "code",
      "source": [
        "a = True    # Boolean 대소문자 구분\n",
        "b = False   # Boolean 대소문자 구분\n",
        "print(a, b)"
      ],
      "metadata": {
        "colab": {
          "base_uri": "https://localhost:8080/"
        },
        "id": "2g5E1UACOhVq",
        "outputId": "a04e46c3-82e4-4847-84b4-bc316353997c"
      },
      "execution_count": 8,
      "outputs": [
        {
          "output_type": "stream",
          "name": "stdout",
          "text": [
            "True False\n"
          ]
        }
      ]
    },
    {
      "cell_type": "markdown",
      "source": [
        "#####제곱승과 나머지 구하기"
      ],
      "metadata": {
        "id": "Eh02-772O4xV"
      }
    },
    {
      "cell_type": "code",
      "source": [
        "print(3 * 3 * 3 * 3 * 3)    # 3을 다섯 번 곱합\n",
        "print(3 ** 5)               # 3의 5승"
      ],
      "metadata": {
        "colab": {
          "base_uri": "https://localhost:8080/"
        },
        "id": "HczKScARO6_V",
        "outputId": "3a60de5f-a4e9-46ce-8ddd-137999688b18"
      },
      "execution_count": 9,
      "outputs": [
        {
          "output_type": "stream",
          "name": "stdout",
          "text": [
            "243\n",
            "243\n"
          ]
        }
      ]
    },
    {
      "cell_type": "code",
      "source": [
        "print(7 / 2)    # 7 나누기 2 (정수형 계산)\n",
        "print(7 % 2)    # 7 나누기 2의 나머지"
      ],
      "metadata": {
        "colab": {
          "base_uri": "https://localhost:8080/"
        },
        "id": "tl0Q135pPBBL",
        "outputId": "70ec3500-079d-4b2f-ef41-e498e7614b0d"
      },
      "execution_count": 10,
      "outputs": [
        {
          "output_type": "stream",
          "name": "stdout",
          "text": [
            "3.5\n",
            "1\n"
          ]
        }
      ]
    },
    {
      "cell_type": "markdown",
      "source": [
        "#####증가 또는 감소 연산"
      ],
      "metadata": {
        "id": "fY3ntBSDPbK0"
      }
    },
    {
      "cell_type": "code",
      "source": [
        "a = 1       # 변수 a에 1을 할당\n",
        "a = a + 1   # a에 1을 더한 후 그 값을 a에 할당\n",
        "print(a)    # a 출력"
      ],
      "metadata": {
        "colab": {
          "base_uri": "https://localhost:8080/"
        },
        "id": "0x6IHP8pPZw2",
        "outputId": "2e45acec-9173-47c3-e6f9-12f808b08f9e"
      },
      "execution_count": 11,
      "outputs": [
        {
          "output_type": "stream",
          "name": "stdout",
          "text": [
            "2\n"
          ]
        }
      ]
    },
    {
      "cell_type": "code",
      "source": [
        "a += 1      # a 증가 연산\n",
        "print(a)    # a 출력"
      ],
      "metadata": {
        "colab": {
          "base_uri": "https://localhost:8080/"
        },
        "id": "nUgKIABtPf1_",
        "outputId": "9ab05eee-261e-4bd4-9ebb-b8ba6a212764"
      },
      "execution_count": 12,
      "outputs": [
        {
          "output_type": "stream",
          "name": "stdout",
          "text": [
            "3\n"
          ]
        }
      ]
    },
    {
      "cell_type": "code",
      "source": [
        "a = a - 1   # a에 1을 뺀 후 그 값을 a에 할당\n",
        "a -= 1      # a 감소 연산\n",
        "print(a)    # a 출력"
      ],
      "metadata": {
        "colab": {
          "base_uri": "https://localhost:8080/"
        },
        "id": "444tlldWPiIV",
        "outputId": "cf67dabe-6747-4f19-c2d9-1e3b1685414c"
      },
      "execution_count": 13,
      "outputs": [
        {
          "output_type": "stream",
          "name": "stdout",
          "text": [
            "1\n"
          ]
        }
      ]
    },
    {
      "cell_type": "markdown",
      "source": [
        "##**Dynamic Typing**"
      ],
      "metadata": {
        "id": "oR30CVs3Tof7"
      }
    },
    {
      "cell_type": "markdown",
      "source": [
        "#####데이터 형 변환: 정수형 <-> 실수형"
      ],
      "metadata": {
        "id": "AEk43ZqSP5mr"
      }
    },
    {
      "cell_type": "code",
      "source": [
        "a = 10      # a 변수에 정수 데이터 10을 할당\n",
        "print(a)    # a가 정수형으로 출력"
      ],
      "metadata": {
        "colab": {
          "base_uri": "https://localhost:8080/"
        },
        "id": "qsrYms5CPzs-",
        "outputId": "9c6cc794-ce75-4ef0-d8f3-c6bce71a2501"
      },
      "execution_count": 34,
      "outputs": [
        {
          "output_type": "stream",
          "name": "stdout",
          "text": [
            "10\n"
          ]
        }
      ]
    },
    {
      "cell_type": "code",
      "source": [
        "a = float(10)   # a를 실수형으로 변환 / 정수형은 int()\n",
        "print(a)        # a가 실수형으로 출력"
      ],
      "metadata": {
        "colab": {
          "base_uri": "https://localhost:8080/"
        },
        "id": "guRVcbQFP8KI",
        "outputId": "36e976fc-bcd1-469a-dd74-750f38f5a2d6"
      },
      "execution_count": 16,
      "outputs": [
        {
          "output_type": "stream",
          "name": "stdout",
          "text": [
            "10.0\n"
          ]
        }
      ]
    },
    {
      "cell_type": "code",
      "source": [
        "b = 3           # b에 정수 데이터 3할당\n",
        "print(a / b)    # 실수형으로 a/b를 출력"
      ],
      "metadata": {
        "colab": {
          "base_uri": "https://localhost:8080/"
        },
        "id": "zsTIlrfhP-OB",
        "outputId": "f21277f2-369d-4320-e3c6-b63000b24332"
      },
      "execution_count": 17,
      "outputs": [
        {
          "output_type": "stream",
          "name": "stdout",
          "text": [
            "3.3333333333333335\n"
          ]
        }
      ]
    },
    {
      "cell_type": "code",
      "source": [
        "a = 10.7\n",
        "b = 10.3\n",
        "\n",
        "a = int(a)  # a를 정수형으로 형변환후 a에 할당\n",
        "b = int(b)  # b를 정수형으로 형변환후 b에 할당\n",
        "\n",
        "print(a + b)    # 정수형 a와 b의 합을 출력\n",
        "print(a)\n",
        "print(b)"
      ],
      "metadata": {
        "colab": {
          "base_uri": "https://localhost:8080/"
        },
        "id": "DphYkkFtQXfN",
        "outputId": "5a7f3092-9413-4271-915e-3747de733199"
      },
      "execution_count": 20,
      "outputs": [
        {
          "output_type": "stream",
          "name": "stdout",
          "text": [
            "20\n",
            "10\n",
            "10\n"
          ]
        }
      ]
    },
    {
      "cell_type": "markdown",
      "source": [
        "#####데이터 형 변환: 숫자 <-> 문자열"
      ],
      "metadata": {
        "id": "GC0kw0a1QzVQ"
      }
    },
    {
      "cell_type": "code",
      "source": [
        "a = '76.3'      # a에 문자열 76.3을 할당, ''은 문자열을 의미\n",
        "b = float(a)    # a를 실수형으로 형 변환 후 b에 할당\n",
        "\n",
        "print(a)        # a값 출력"
      ],
      "metadata": {
        "colab": {
          "base_uri": "https://localhost:8080/"
        },
        "id": "ndpksUaTQ3Gl",
        "outputId": "08782dda-feb1-4ef1-f50e-e950a0f2e97b"
      },
      "execution_count": 22,
      "outputs": [
        {
          "output_type": "stream",
          "name": "stdout",
          "text": [
            "76.3\n"
          ]
        }
      ]
    },
    {
      "cell_type": "code",
      "source": [
        "print(b)        # b값 출력"
      ],
      "metadata": {
        "colab": {
          "base_uri": "https://localhost:8080/"
        },
        "id": "RPz-KxS1RESz",
        "outputId": "3e848ace-36a2-4673-e5a3-65073483cc34"
      },
      "execution_count": 23,
      "outputs": [
        {
          "output_type": "stream",
          "name": "stdout",
          "text": [
            "76.3\n"
          ]
        }
      ]
    },
    {
      "cell_type": "code",
      "source": [
        "print(a + b)    # a와 b는 각 문자형, 실수형으로 자료형이 달라 연산이 불가능함"
      ],
      "metadata": {
        "colab": {
          "base_uri": "https://localhost:8080/",
          "height": 174
        },
        "id": "ttfb2G99RJBs",
        "outputId": "4dd4a28b-1511-4e08-b9fc-670dac707d1f"
      },
      "execution_count": 24,
      "outputs": [
        {
          "output_type": "error",
          "ename": "TypeError",
          "evalue": "ignored",
          "traceback": [
            "\u001b[0;31m---------------------------------------------------------------------------\u001b[0m",
            "\u001b[0;31mTypeError\u001b[0m                                 Traceback (most recent call last)",
            "\u001b[0;32m<ipython-input-24-0ae8b1612688>\u001b[0m in \u001b[0;36m<module>\u001b[0;34m()\u001b[0m\n\u001b[0;32m----> 1\u001b[0;31m \u001b[0mprint\u001b[0m\u001b[0;34m(\u001b[0m\u001b[0ma\u001b[0m \u001b[0;34m+\u001b[0m \u001b[0mb\u001b[0m\u001b[0;34m)\u001b[0m\u001b[0;34m\u001b[0m\u001b[0;34m\u001b[0m\u001b[0m\n\u001b[0m",
            "\u001b[0;31mTypeError\u001b[0m: can only concatenate str (not \"float\") to str"
          ]
        }
      ]
    },
    {
      "cell_type": "code",
      "source": [
        "a = float(a)    # a를 실수형으로 형 변환 후 a에 할당\n",
        "b = a           # 실수형 a 값을 b에 할당\n",
        "print(a + b)    # 두 실수를 더한 후 출력"
      ],
      "metadata": {
        "colab": {
          "base_uri": "https://localhost:8080/"
        },
        "id": "QL-_B5FBRTik",
        "outputId": "62290835-1e16-4914-b8c3-5ffd3c50f44e"
      },
      "execution_count": 25,
      "outputs": [
        {
          "output_type": "stream",
          "name": "stdout",
          "text": [
            "152.6\n"
          ]
        }
      ]
    },
    {
      "cell_type": "code",
      "source": [
        "a = str(a)      # 실수형 a값 문자열로 변환 후 a 할당\n",
        "b = str(b)      # 실수형 b값을 문자열로 변환 후 b 할당\n",
        "print(a + b)    # 두 값을 더한 후 출력"
      ],
      "metadata": {
        "colab": {
          "base_uri": "https://localhost:8080/"
        },
        "id": "_I1HZYZiRhuI",
        "outputId": "61e357e0-742b-4279-9d7d-ba1768f4e1da"
      },
      "execution_count": 26,
      "outputs": [
        {
          "output_type": "stream",
          "name": "stdout",
          "text": [
            "76.376.3\n"
          ]
        }
      ]
    },
    {
      "cell_type": "code",
      "source": [
        "a = int(10.3)       # a는 정수형으로 10.3을 할당\n",
        "b = float(10.3)     # b는 실수형으로 10.3을 할당\n",
        "c = str(10.3)       # c는 문자열으로 10.3을 할당\n",
        "\n",
        "print(type(a))     # a의 타입을 출력\n",
        "print(type(b))    # b의 타입을 출력\n",
        "print(type(c))   # c의 타입을 출력"
      ],
      "metadata": {
        "colab": {
          "base_uri": "https://localhost:8080/"
        },
        "id": "mihxT2fbRy1L",
        "outputId": "3e31d538-372b-4852-f7fd-59a45ab2330a"
      },
      "execution_count": 28,
      "outputs": [
        {
          "output_type": "stream",
          "name": "stdout",
          "text": [
            "<class 'int'>\n",
            "<class 'float'>\n",
            "<class 'str'>\n"
          ]
        }
      ]
    },
    {
      "cell_type": "markdown",
      "source": [
        "#####컴퓨터의 반올림 오차"
      ],
      "metadata": {
        "id": "oBL7ccl_SO1e"
      }
    },
    {
      "cell_type": "code",
      "source": [
        "c = 38.8        # c 에 실수형 38.8 할당\n",
        "print(c)        # c 출력시 38.79999999... (Python 2.7 Only) - 단순한 실수도 이진수로 변환하면 무한 소수가 되기 때문"
      ],
      "metadata": {
        "colab": {
          "base_uri": "https://localhost:8080/"
        },
        "id": "ZUfz6RB7SR2S",
        "outputId": "f78fc042-0ee7-439d-b40e-26be6f2122a0"
      },
      "execution_count": 30,
      "outputs": [
        {
          "output_type": "stream",
          "name": "stdout",
          "text": [
            "38.8\n"
          ]
        }
      ]
    },
    {
      "cell_type": "code",
      "source": [
        "print(c)"
      ],
      "metadata": {
        "colab": {
          "base_uri": "https://localhost:8080/"
        },
        "id": "pXe7BsNSSaKe",
        "outputId": "aec67027-1b7d-44ea-cff5-3d9975fb240c"
      },
      "execution_count": 33,
      "outputs": [
        {
          "output_type": "stream",
          "name": "stdout",
          "text": [
            "38.8\n"
          ]
        }
      ]
    },
    {
      "cell_type": "markdown",
      "source": [
        "##**List**"
      ],
      "metadata": {
        "id": "zWtUA5DrT1rK"
      }
    },
    {
      "cell_type": "markdown",
      "source": [
        "#####인덱싱(Indexing)"
      ],
      "metadata": {
        "id": "qHJgrGjZT7hC"
      }
    },
    {
      "cell_type": "code",
      "source": [
        "colors = ['red', 'blue', 'green']\n",
        "print(colors[0])    # red\n",
        "print(colors[2])    # green\n",
        "print(len(colors))  # 3 (list의 길이를 반환)"
      ],
      "metadata": {
        "colab": {
          "base_uri": "https://localhost:8080/"
        },
        "id": "CNeOLSZXT4CL",
        "outputId": "6fcee331-6283-41e8-da6c-87599e40115b"
      },
      "execution_count": 35,
      "outputs": [
        {
          "output_type": "stream",
          "name": "stdout",
          "text": [
            "red\n",
            "green\n",
            "3\n"
          ]
        }
      ]
    },
    {
      "cell_type": "markdown",
      "source": [
        "#####슬라이싱(Slicing)"
      ],
      "metadata": {
        "id": "sN24SpJoUOSC"
      }
    },
    {
      "cell_type": "code",
      "source": [
        "cities =['서울','부산','인천','대구','대전','광주','울산','수원']\n",
        "print(cities[0:6],\" AND \",cities[-9:])  # 0부터5까지, -9부터끝까지\n",
        "print(cities[:])                        # 처음부터 끝까지\n",
        "print(cities[-50:50])                   # 범위를 넘어갈 경우 자동으로 최대범위를 지정\n",
        "print(cities[::2],\" AND \",cities[::-1]) # 2칸 단위로, 역으로 슬라이싱"
      ],
      "metadata": {
        "colab": {
          "base_uri": "https://localhost:8080/"
        },
        "id": "6bTGiTATVXcM",
        "outputId": "437c447f-c03e-464e-ffac-3ef559fe43f0"
      },
      "execution_count": 41,
      "outputs": [
        {
          "output_type": "stream",
          "name": "stdout",
          "text": [
            "['서울', '부산', '인천', '대구', '대전', '광주']  AND  ['서울', '부산', '인천', '대구', '대전', '광주', '울산', '수원']\n",
            "['서울', '부산', '인천', '대구', '대전', '광주', '울산', '수원']\n",
            "['서울', '부산', '인천', '대구', '대전', '광주', '울산', '수원']\n",
            "['서울', '인천', '대전', '울산']  AND  ['수원', '울산', '광주', '대전', '대구', '인천', '부산', '서울']\n"
          ]
        }
      ]
    },
    {
      "cell_type": "markdown",
      "source": [
        "#####리스트의 연산"
      ],
      "metadata": {
        "id": "qKZh9XgMVr-F"
      }
    },
    {
      "cell_type": "code",
      "source": [
        "color = ['red', 'blue', 'green']\n",
        "color2 = ['orange', 'black', 'white']\n",
        "\n",
        "print(color + color2)       # 두 리스트 합치기\n",
        "\n",
        "len(color)                  # 리스트 길이\n",
        "color[0] = 'yellow'         # 0번째 리스트의 값을 변경\n",
        "\n",
        "print(color * 2)            # color 리스트 2회 반복\n",
        "\n",
        "print('blue' in color2)     # 문자열 'blue'가 color2 존재 여부 반환\n",
        "\n",
        "total_color = color + color2\n",
        "\n",
        "print(total_color)"
      ],
      "metadata": {
        "colab": {
          "base_uri": "https://localhost:8080/"
        },
        "id": "felU_Zs3Vtu0",
        "outputId": "89b95609-be22-4f40-c9e7-f380316babc7"
      },
      "execution_count": 45,
      "outputs": [
        {
          "output_type": "stream",
          "name": "stdout",
          "text": [
            "['red', 'blue', 'green', 'orange', 'black', 'white']\n",
            "['yellow', 'blue', 'green', 'yellow', 'blue', 'green']\n",
            "False\n",
            "['yellow', 'blue', 'green', 'orange', 'black', 'white']\n"
          ]
        }
      ]
    },
    {
      "cell_type": "code",
      "source": [
        "color.append(\"white\")               # 리스트에 \"white\"추가\n",
        "color.extend([\"black\", \"purple\"])   # 리스트에 새로운 리스트 추가\n",
        "color.insert(0, \"orange\")           # 0번째 주소에 \"orange\" 추가\n",
        "\n",
        "print(color)"
      ],
      "metadata": {
        "colab": {
          "base_uri": "https://localhost:8080/"
        },
        "id": "FtXKdR7UWbfu",
        "outputId": "8ce819f8-5b10-4a4e-d7ea-ae074ee7cd9a"
      },
      "execution_count": 46,
      "outputs": [
        {
          "output_type": "stream",
          "name": "stdout",
          "text": [
            "['orange', 'yellow', 'blue', 'green', 'white', 'black', 'purple']\n"
          ]
        }
      ]
    },
    {
      "cell_type": "code",
      "source": [
        "color.remove(\"white\")\n",
        "del color[0]\n",
        "\n",
        "print(color)"
      ],
      "metadata": {
        "colab": {
          "base_uri": "https://localhost:8080/"
        },
        "id": "UN2ejMURW6Y7",
        "outputId": "e5c0e93a-a402-4c17-a1ff-6145516b31b9"
      },
      "execution_count": 47,
      "outputs": [
        {
          "output_type": "stream",
          "name": "stdout",
          "text": [
            "['yellow', 'blue', 'green', 'black', 'purple']\n"
          ]
        }
      ]
    },
    {
      "cell_type": "markdown",
      "source": [
        "#####Python 리스트만의 특징"
      ],
      "metadata": {
        "id": "hoZ-_XpOXJYT"
      }
    },
    {
      "cell_type": "markdown",
      "source": [
        "다양한 Data Type이 하나의 List에 들어감"
      ],
      "metadata": {
        "id": "HRUcpNaQXWSR"
      }
    },
    {
      "cell_type": "code",
      "source": [
        "a = [\"color\", 1, 0.2]\n",
        "color = ['yellow', 'blue', 'green', 'black', 'purple']\n",
        "a[0] = color    # 리스트 안에 리스트도 입력 가능\n",
        "\n",
        "print(a)"
      ],
      "metadata": {
        "colab": {
          "base_uri": "https://localhost:8080/"
        },
        "id": "oUPv6mvIXIvD",
        "outputId": "059b5435-66e5-4391-ec20-869db06b5cd4"
      },
      "execution_count": 48,
      "outputs": [
        {
          "output_type": "stream",
          "name": "stdout",
          "text": [
            "[['yellow', 'blue', 'green', 'black', 'purple'], 1, 0.2]\n"
          ]
        }
      ]
    },
    {
      "cell_type": "markdown",
      "source": [
        "#####리스트 메모리 저장 방식"
      ],
      "metadata": {
        "id": "c2xCzeuXXuKR"
      }
    },
    {
      "cell_type": "code",
      "source": [
        "a = [5, 4, 3, 2, 1]\n",
        "b = [1, 2, 3, 4, 5]\n",
        "b = a       # \"=\"의 의미는 같다가 아닌 메모리 주소에 해당 값을 할당(연결)한다는 의미\n",
        "\n",
        "print(b)"
      ],
      "metadata": {
        "colab": {
          "base_uri": "https://localhost:8080/"
        },
        "id": "5ERO26ENXv8n",
        "outputId": "7705c5d5-030d-45ae-d77d-49b818ec8e4c"
      },
      "execution_count": 53,
      "outputs": [
        {
          "output_type": "stream",
          "name": "stdout",
          "text": [
            "[5, 4, 3, 2, 1]\n"
          ]
        }
      ]
    },
    {
      "cell_type": "code",
      "source": [
        "a.sort()\n",
        "\n",
        "print(b)"
      ],
      "metadata": {
        "colab": {
          "base_uri": "https://localhost:8080/"
        },
        "id": "uhUy40JNX4dA",
        "outputId": "1f5bb91e-c640-46d7-8e6f-0566fc20d83f"
      },
      "execution_count": 54,
      "outputs": [
        {
          "output_type": "stream",
          "name": "stdout",
          "text": [
            "[1, 2, 3, 4, 5]\n"
          ]
        }
      ]
    },
    {
      "cell_type": "code",
      "source": [
        "b = [6, 7, 8, 9, 10]\n",
        "print(a, b)"
      ],
      "metadata": {
        "colab": {
          "base_uri": "https://localhost:8080/"
        },
        "id": "tzQNQE7JX8lM",
        "outputId": "bff1b68f-437d-4bf9-8ce0-b3ef6b3317a2"
      },
      "execution_count": 55,
      "outputs": [
        {
          "output_type": "stream",
          "name": "stdout",
          "text": [
            "[1, 2, 3, 4, 5] [6, 7, 8, 9, 10]\n"
          ]
        }
      ]
    },
    {
      "cell_type": "markdown",
      "source": [
        "#####패킹과 언패킹"
      ],
      "metadata": {
        "id": "8f5nXNq4YJ9h"
      }
    },
    {
      "cell_type": "code",
      "source": [
        "t = [1, 2, 3]       # 1, 2, 3을 변수 t에 패킹\n",
        "a, b, c = t         # t에 있는 값 1, 2, 3을 변수 a, b, c에 언패킹\n",
        "\n",
        "print(t, a, b, c)   # [1, 2, 3] 1 2 3"
      ],
      "metadata": {
        "colab": {
          "base_uri": "https://localhost:8080/"
        },
        "id": "lvC1Kp8cYLan",
        "outputId": "cddf28a5-1783-4b90-aea9-b46e6f978aec"
      },
      "execution_count": 56,
      "outputs": [
        {
          "output_type": "stream",
          "name": "stdout",
          "text": [
            "[1, 2, 3] 1 2 3\n"
          ]
        }
      ]
    },
    {
      "cell_type": "markdown",
      "source": [
        "#####이차원 리스트"
      ],
      "metadata": {
        "id": "6M8THzgFYfP5"
      }
    },
    {
      "cell_type": "code",
      "source": [
        "kor_score = [49, 79, 20, 100, 80]\n",
        "math_score = [43, 59, 85, 30, 90]\n",
        "eng_score = [49, 79, 48, 60, 100]\n",
        "midterm_score = [kor_score, math_score, eng_score]\n",
        "\n",
        "print(midterm_score)"
      ],
      "metadata": {
        "colab": {
          "base_uri": "https://localhost:8080/"
        },
        "id": "IFcSUxhDYgnC",
        "outputId": "bfbb7031-2ba5-4b0e-f2e1-896ff33cb83f"
      },
      "execution_count": 57,
      "outputs": [
        {
          "output_type": "stream",
          "name": "stdout",
          "text": [
            "[[49, 79, 20, 100, 80], [43, 59, 85, 30, 90], [49, 79, 48, 60, 100]]\n"
          ]
        }
      ]
    }
  ]
}