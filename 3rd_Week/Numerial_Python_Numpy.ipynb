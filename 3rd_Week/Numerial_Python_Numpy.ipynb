{
  "nbformat": 4,
  "nbformat_minor": 0,
  "metadata": {
    "colab": {
      "name": "Numerial_Python-Numpy.ipynb",
      "provenance": [],
      "collapsed_sections": []
    },
    "kernelspec": {
      "name": "python3",
      "display_name": "Python 3"
    },
    "language_info": {
      "name": "python"
    }
  },
  "cells": [
    {
      "cell_type": "markdown",
      "source": [
        "##**Numpy**"
      ],
      "metadata": {
        "id": "KAIxhKbFemGX"
      }
    },
    {
      "cell_type": "code",
      "execution_count": 1,
      "metadata": {
        "id": "NVlFyeg0eCgt"
      },
      "outputs": [],
      "source": [
        "coefficient_matrix = [[2, 2, 1], [2, -1, 2], [1, -1, 2]]\n",
        "constant_vector = [9, 6, 5]"
      ]
    },
    {
      "cell_type": "code",
      "source": [
        "import numpy as np\n",
        "\n",
        "test_array = np.array([1, 4, 5, 8], float)\n",
        "\n",
        "print(test_array)\n",
        "type(test_array[3])"
      ],
      "metadata": {
        "colab": {
          "base_uri": "https://localhost:8080/"
        },
        "id": "xssCrcS_exN_",
        "outputId": "e2d2b82e-ce79-4aa2-f350-10bf42afdc96"
      },
      "execution_count": 2,
      "outputs": [
        {
          "output_type": "stream",
          "name": "stdout",
          "text": [
            "[1. 4. 5. 8.]\n"
          ]
        },
        {
          "output_type": "execute_result",
          "data": {
            "text/plain": [
              "numpy.float64"
            ]
          },
          "metadata": {},
          "execution_count": 2
        }
      ]
    },
    {
      "cell_type": "code",
      "source": [
        "test_array = np.array([1, 4, 5, \"8\"], float)        # String Type의 데이터를 입력해도\n",
        "\n",
        "print(test_array)\n",
        "print(type(test_array))                             # Float Type으로 자동 형변환을 실시\n",
        "print(test_array.dtype)                             # Array(배열) 전체의 데이터 Type을 반환함\n",
        "print(test_array.shape)                             # Array(배열) 의 shape을 반환함"
      ],
      "metadata": {
        "colab": {
          "base_uri": "https://localhost:8080/"
        },
        "id": "sDuHcGyFfUdT",
        "outputId": "b1cf36eb-121a-4a7a-9a91-f92563de29cb"
      },
      "execution_count": 3,
      "outputs": [
        {
          "output_type": "stream",
          "name": "stdout",
          "text": [
            "[1. 4. 5. 8.]\n",
            "<class 'numpy.ndarray'>\n",
            "float64\n",
            "(4,)\n"
          ]
        }
      ]
    },
    {
      "cell_type": "markdown",
      "source": [
        "#####Array shape (vector)"
      ],
      "metadata": {
        "id": "T6nnpLVNg-Zc"
      }
    },
    {
      "cell_type": "code",
      "source": [
        "test_array = np.array([1, 4, 5, \"8\"], float)\n",
        "test_array"
      ],
      "metadata": {
        "colab": {
          "base_uri": "https://localhost:8080/"
        },
        "id": "D2YZeYX8gz0w",
        "outputId": "6e2ac1fd-1e97-471e-8440-664e5f01d664"
      },
      "execution_count": 4,
      "outputs": [
        {
          "output_type": "execute_result",
          "data": {
            "text/plain": [
              "array([1., 4., 5., 8.])"
            ]
          },
          "metadata": {},
          "execution_count": 4
        }
      ]
    },
    {
      "cell_type": "markdown",
      "source": [
        "#####Array shape (matrix)"
      ],
      "metadata": {
        "id": "E9ehLSbShUYr"
      }
    },
    {
      "cell_type": "code",
      "source": [
        "matrix = [[1, 2, 5, 8], [1, 2, 5, 8], [1, 2, 5, 8]]\n",
        "np.array(matrix, int).shape"
      ],
      "metadata": {
        "colab": {
          "base_uri": "https://localhost:8080/"
        },
        "id": "J_ZzdJajgjen",
        "outputId": "2195eb96-5791-4dff-f077-210e611d08e9"
      },
      "execution_count": 5,
      "outputs": [
        {
          "output_type": "execute_result",
          "data": {
            "text/plain": [
              "(3, 4)"
            ]
          },
          "metadata": {},
          "execution_count": 5
        }
      ]
    },
    {
      "cell_type": "code",
      "source": [
        "tensor = [[[1, 2, 5, 8], [1, 2, 5, 8], [1, 2, 5, 8]],\n",
        "          [[1, 2, 5, 8], [1, 2, 5, 8], [1, 2, 5, 8]],\n",
        "          [[1, 2, 5, 8], [1, 2, 5, 8], [1, 2, 5, 8]],\n",
        "          [[1, 2, 5, 8], [1, 2, 5, 8], [1, 2, 5, 8]]]\n",
        "\n",
        "np.array(tensor, int).shape"
      ],
      "metadata": {
        "colab": {
          "base_uri": "https://localhost:8080/"
        },
        "id": "9EaxkJWrhkXo",
        "outputId": "0c0605b1-bd79-488a-928b-1a4958fa6127"
      },
      "execution_count": 6,
      "outputs": [
        {
          "output_type": "execute_result",
          "data": {
            "text/plain": [
              "(4, 3, 4)"
            ]
          },
          "metadata": {},
          "execution_count": 6
        }
      ]
    },
    {
      "cell_type": "markdown",
      "source": [
        "#####Array shape - ndim & size"
      ],
      "metadata": {
        "id": "moEZ9lZ6ihiu"
      }
    },
    {
      "cell_type": "code",
      "source": [
        "np.array(tensor, int).ndim"
      ],
      "metadata": {
        "colab": {
          "base_uri": "https://localhost:8080/"
        },
        "id": "6VeYL--mifol",
        "outputId": "374c754e-36ef-4103-86eb-452a7a53144a"
      },
      "execution_count": 7,
      "outputs": [
        {
          "output_type": "execute_result",
          "data": {
            "text/plain": [
              "3"
            ]
          },
          "metadata": {},
          "execution_count": 7
        }
      ]
    },
    {
      "cell_type": "code",
      "source": [
        "np.array(tensor, int).size"
      ],
      "metadata": {
        "colab": {
          "base_uri": "https://localhost:8080/"
        },
        "id": "Yuao7G2qiq1o",
        "outputId": "ec9b600d-38f8-4644-d30b-f2ab27d45a68"
      },
      "execution_count": 8,
      "outputs": [
        {
          "output_type": "execute_result",
          "data": {
            "text/plain": [
              "48"
            ]
          },
          "metadata": {},
          "execution_count": 8
        }
      ]
    },
    {
      "cell_type": "markdown",
      "source": [
        "#####Array dtype"
      ],
      "metadata": {
        "id": "avOH-67Ti0Vt"
      }
    },
    {
      "cell_type": "code",
      "source": [
        "np.array([[1, 2, 3], [4.5, 5, 6]], dtype=int)"
      ],
      "metadata": {
        "colab": {
          "base_uri": "https://localhost:8080/"
        },
        "id": "m08DJ4Ikizzu",
        "outputId": "7e22754a-03d6-42ea-9219-2041c94123cb"
      },
      "execution_count": 9,
      "outputs": [
        {
          "output_type": "execute_result",
          "data": {
            "text/plain": [
              "array([[1, 2, 3],\n",
              "       [4, 5, 6]])"
            ]
          },
          "metadata": {},
          "execution_count": 9
        }
      ]
    },
    {
      "cell_type": "code",
      "source": [
        "np.array([[1, 2, 3],[4.5, \"5\", \"6\"]], dtype=np.float32)"
      ],
      "metadata": {
        "colab": {
          "base_uri": "https://localhost:8080/"
        },
        "id": "lbV64DMSjCfz",
        "outputId": "6dc982e3-89ab-4dff-db93-e5ff01dcd3b1"
      },
      "execution_count": 10,
      "outputs": [
        {
          "output_type": "execute_result",
          "data": {
            "text/plain": [
              "array([[1. , 2. , 3. ],\n",
              "       [4.5, 5. , 6. ]], dtype=float32)"
            ]
          },
          "metadata": {},
          "execution_count": 10
        }
      ]
    },
    {
      "cell_type": "code",
      "source": [
        "np.array([[1, 2, 3],[4.5, \"5\", \"6\"]], dtype=np.float32).nbytes"
      ],
      "metadata": {
        "colab": {
          "base_uri": "https://localhost:8080/"
        },
        "id": "vpZ6csZAjrLe",
        "outputId": "6b7e5551-191d-45f5-c5c7-051ade2f2d99"
      },
      "execution_count": 11,
      "outputs": [
        {
          "output_type": "execute_result",
          "data": {
            "text/plain": [
              "24"
            ]
          },
          "metadata": {},
          "execution_count": 11
        }
      ]
    },
    {
      "cell_type": "code",
      "source": [
        "np.array([[1, 2, 3],[4.5, \"5\", \"6\"]], dtype=np.int8).nbytes"
      ],
      "metadata": {
        "colab": {
          "base_uri": "https://localhost:8080/"
        },
        "id": "NqZH1DkmjLHr",
        "outputId": "58fc6e59-6e0e-4af9-e836-2d944d532924"
      },
      "execution_count": 12,
      "outputs": [
        {
          "output_type": "execute_result",
          "data": {
            "text/plain": [
              "6"
            ]
          },
          "metadata": {},
          "execution_count": 12
        }
      ]
    },
    {
      "cell_type": "code",
      "source": [
        "np.array([[1, 2, 3],[4.5, \"5\", \"6\"]], dtype=np.float64).nbytes"
      ],
      "metadata": {
        "colab": {
          "base_uri": "https://localhost:8080/"
        },
        "id": "AWcLUE05jmOR",
        "outputId": "2b5bc864-f039-4c10-d803-926b15322043"
      },
      "execution_count": 13,
      "outputs": [
        {
          "output_type": "execute_result",
          "data": {
            "text/plain": [
              "48"
            ]
          },
          "metadata": {},
          "execution_count": 13
        }
      ]
    },
    {
      "cell_type": "markdown",
      "source": [
        "##**Handling Shape**"
      ],
      "metadata": {
        "id": "6Th18avnjul5"
      }
    },
    {
      "cell_type": "markdown",
      "source": [
        "#####Reshape"
      ],
      "metadata": {
        "id": "0PeusJGpkITW"
      }
    },
    {
      "cell_type": "code",
      "source": [
        "test_matrix = [[1, 2, 3, 4], [1, 2, 5, 8]]\n",
        "np.array(test_matrix).shape"
      ],
      "metadata": {
        "colab": {
          "base_uri": "https://localhost:8080/"
        },
        "id": "kwbDjp4rjxZI",
        "outputId": "be5f9cf3-5153-44a3-b63f-889119ed4ce5"
      },
      "execution_count": 14,
      "outputs": [
        {
          "output_type": "execute_result",
          "data": {
            "text/plain": [
              "(2, 4)"
            ]
          },
          "metadata": {},
          "execution_count": 14
        }
      ]
    },
    {
      "cell_type": "code",
      "source": [
        "np.array(test_matrix).reshape(8,)"
      ],
      "metadata": {
        "colab": {
          "base_uri": "https://localhost:8080/"
        },
        "id": "rZXE4lF4j8R-",
        "outputId": "a6f70d25-9441-4e3e-f752-c6b5ee5da658"
      },
      "execution_count": 15,
      "outputs": [
        {
          "output_type": "execute_result",
          "data": {
            "text/plain": [
              "array([1, 2, 3, 4, 1, 2, 5, 8])"
            ]
          },
          "metadata": {},
          "execution_count": 15
        }
      ]
    },
    {
      "cell_type": "code",
      "source": [
        "np.array(test_matrix).reshape(8,).shape"
      ],
      "metadata": {
        "colab": {
          "base_uri": "https://localhost:8080/"
        },
        "id": "mMFLhdzxkCUc",
        "outputId": "dc4fad57-57b3-4941-abde-ba42d108cbc1"
      },
      "execution_count": 16,
      "outputs": [
        {
          "output_type": "execute_result",
          "data": {
            "text/plain": [
              "(8,)"
            ]
          },
          "metadata": {},
          "execution_count": 16
        }
      ]
    },
    {
      "cell_type": "code",
      "source": [
        "np.array(test_matrix).reshape(2, 4).shape"
      ],
      "metadata": {
        "colab": {
          "base_uri": "https://localhost:8080/"
        },
        "id": "nYRVDE5SkKiV",
        "outputId": "c5f9ff69-5495-476b-d488-6ac822ffd3ed"
      },
      "execution_count": 17,
      "outputs": [
        {
          "output_type": "execute_result",
          "data": {
            "text/plain": [
              "(2, 4)"
            ]
          },
          "metadata": {},
          "execution_count": 17
        }
      ]
    },
    {
      "cell_type": "code",
      "source": [
        "np.array(test_matrix).reshape(2, 2, 2)"
      ],
      "metadata": {
        "colab": {
          "base_uri": "https://localhost:8080/"
        },
        "id": "fA4LadPi0NfO",
        "outputId": "76fa1ae3-f801-4192-d54d-abc8925319dc"
      },
      "execution_count": 18,
      "outputs": [
        {
          "output_type": "execute_result",
          "data": {
            "text/plain": [
              "array([[[1, 2],\n",
              "        [3, 4]],\n",
              "\n",
              "       [[1, 2],\n",
              "        [5, 8]]])"
            ]
          },
          "metadata": {},
          "execution_count": 18
        }
      ]
    },
    {
      "cell_type": "code",
      "source": [
        "np.array(test_matrix).reshape(-1, 2)"
      ],
      "metadata": {
        "colab": {
          "base_uri": "https://localhost:8080/"
        },
        "id": "yM7zshvx0Zfa",
        "outputId": "5095b6ec-8810-4376-d858-164d562386cf"
      },
      "execution_count": 19,
      "outputs": [
        {
          "output_type": "execute_result",
          "data": {
            "text/plain": [
              "array([[1, 2],\n",
              "       [3, 4],\n",
              "       [1, 2],\n",
              "       [5, 8]])"
            ]
          },
          "metadata": {},
          "execution_count": 19
        }
      ]
    },
    {
      "cell_type": "markdown",
      "source": [
        "#####flatten"
      ],
      "metadata": {
        "id": "9a44PGzI0sAt"
      }
    },
    {
      "cell_type": "code",
      "source": [
        "test_matrix = [[[1, 2, 3, 4], [1, 2, 5, 8]], [[1, 2, 3, 4], [1, 2, 5, 8]]]\n",
        "np.array(test_matrix).flatten()"
      ],
      "metadata": {
        "colab": {
          "base_uri": "https://localhost:8080/"
        },
        "id": "mdLj12-L0rvb",
        "outputId": "0e9947de-8099-47ca-9885-6795bfc66177"
      },
      "execution_count": 20,
      "outputs": [
        {
          "output_type": "execute_result",
          "data": {
            "text/plain": [
              "array([1, 2, 3, 4, 1, 2, 5, 8, 1, 2, 3, 4, 1, 2, 5, 8])"
            ]
          },
          "metadata": {},
          "execution_count": 20
        }
      ]
    },
    {
      "cell_type": "markdown",
      "source": [
        "##**Indexing & Slicing**"
      ],
      "metadata": {
        "id": "OAA7UMpvDIkF"
      }
    },
    {
      "cell_type": "markdown",
      "source": [
        "#####indexing"
      ],
      "metadata": {
        "id": "BhOlxfjjERHN"
      }
    },
    {
      "cell_type": "code",
      "source": [
        "a = np.array([[1, 2, 3], [4.5, 5, 6]], int)\n",
        "\n",
        "# List와 달리 이차원 배열에서 [0, 0]과 같은 표기법을 제공함\n",
        "print(a)\n",
        "print(a[0, 0])\n",
        "print(a[0][0])\n",
        "\n",
        "a[0, 0] = 12\n",
        "print(a)\n",
        "\n",
        "a[0][0] = 5\n",
        "print(a)"
      ],
      "metadata": {
        "colab": {
          "base_uri": "https://localhost:8080/"
        },
        "id": "03uzQRdJDM9j",
        "outputId": "3a7edf62-2fc7-4326-fa3e-68ddf13d5c7a"
      },
      "execution_count": 21,
      "outputs": [
        {
          "output_type": "stream",
          "name": "stdout",
          "text": [
            "[[1 2 3]\n",
            " [4 5 6]]\n",
            "1\n",
            "1\n",
            "[[12  2  3]\n",
            " [ 4  5  6]]\n",
            "[[5 2 3]\n",
            " [4 5 6]]\n"
          ]
        }
      ]
    },
    {
      "cell_type": "code",
      "source": [
        "test_example = np.array([[1, 2, 3], [4.5, 5, 6]], int)\n",
        "test_example"
      ],
      "metadata": {
        "colab": {
          "base_uri": "https://localhost:8080/"
        },
        "id": "K_hojr6vDl0I",
        "outputId": "f14bc274-8650-4f38-cb66-6a1eef5aec44"
      },
      "execution_count": 22,
      "outputs": [
        {
          "output_type": "execute_result",
          "data": {
            "text/plain": [
              "array([[1, 2, 3],\n",
              "       [4, 5, 6]])"
            ]
          },
          "metadata": {},
          "execution_count": 22
        }
      ]
    },
    {
      "cell_type": "code",
      "source": [
        "test_example[0][0]"
      ],
      "metadata": {
        "colab": {
          "base_uri": "https://localhost:8080/"
        },
        "id": "V953DV-lEF0l",
        "outputId": "db1e9e39-006e-4553-9ecc-5646cffec93f"
      },
      "execution_count": 23,
      "outputs": [
        {
          "output_type": "execute_result",
          "data": {
            "text/plain": [
              "1"
            ]
          },
          "metadata": {},
          "execution_count": 23
        }
      ]
    },
    {
      "cell_type": "code",
      "source": [
        "test_example[0, 0]"
      ],
      "metadata": {
        "colab": {
          "base_uri": "https://localhost:8080/"
        },
        "id": "GQF9QNGUELcW",
        "outputId": "581734f6-a1bb-487f-a360-438d4e1fc4f3"
      },
      "execution_count": 24,
      "outputs": [
        {
          "output_type": "execute_result",
          "data": {
            "text/plain": [
              "1"
            ]
          },
          "metadata": {},
          "execution_count": 24
        }
      ]
    },
    {
      "cell_type": "code",
      "source": [
        "test_example[0, 0] = 12     # Matrix 0, 0 에 12 할당\n",
        "test_example"
      ],
      "metadata": {
        "colab": {
          "base_uri": "https://localhost:8080/"
        },
        "id": "XZhEAHLGEUAw",
        "outputId": "9813cc73-73d6-4188-bb44-6a2f6f8c9f5d"
      },
      "execution_count": 25,
      "outputs": [
        {
          "output_type": "execute_result",
          "data": {
            "text/plain": [
              "array([[12,  2,  3],\n",
              "       [ 4,  5,  6]])"
            ]
          },
          "metadata": {},
          "execution_count": 25
        }
      ]
    },
    {
      "cell_type": "code",
      "source": [
        "test_example[0][0] = 5      # Matrix 0, 0 에 12 할당\n",
        "test_example[0, 0]"
      ],
      "metadata": {
        "colab": {
          "base_uri": "https://localhost:8080/"
        },
        "id": "KnjooZPWEcC7",
        "outputId": "4efc3a38-ab7f-4cdf-f2f9-efa5545eead1"
      },
      "execution_count": 26,
      "outputs": [
        {
          "output_type": "execute_result",
          "data": {
            "text/plain": [
              "5"
            ]
          },
          "metadata": {},
          "execution_count": 26
        }
      ]
    },
    {
      "cell_type": "markdown",
      "source": [
        "#####slicing"
      ],
      "metadata": {
        "id": "4alTOW0EElzW"
      }
    },
    {
      "cell_type": "code",
      "source": [
        "# List와 달리 행과 열 부분을 나눠서 slicing이 가능함\n",
        "\n",
        "a = np.array([[1, 2, 3, 4, 5],[6, 7, 8, 9, 10]], int)\n",
        "\n",
        "print(a[:,2:])     # 전체 Row의 2열 이상\n",
        "print(a[1,1:3])    # 1 Row의 1열 ~ 2열\n",
        "print(a[1:3])      # 1 Row ~ 2Row의 전체"
      ],
      "metadata": {
        "colab": {
          "base_uri": "https://localhost:8080/"
        },
        "id": "IOBHq9TEEknS",
        "outputId": "c8bd0ca9-a3b4-4b77-80d3-562160dcfa71"
      },
      "execution_count": 27,
      "outputs": [
        {
          "output_type": "stream",
          "name": "stdout",
          "text": [
            "[[ 3  4  5]\n",
            " [ 8  9 10]]\n",
            "[7 8]\n",
            "[[ 6  7  8  9 10]]\n"
          ]
        }
      ]
    },
    {
      "cell_type": "code",
      "source": [
        "test_example = np.array([[1, 2, 5, 8], [1, 2, 5, 8], [1, 2, 5, 8], [1, 2, 5, 8]], int)\n",
        "test_example[:2,:]"
      ],
      "metadata": {
        "colab": {
          "base_uri": "https://localhost:8080/"
        },
        "id": "VCGbB8dfFdNS",
        "outputId": "e6b86cb0-373b-4be2-d626-402f007ce04b"
      },
      "execution_count": 28,
      "outputs": [
        {
          "output_type": "execute_result",
          "data": {
            "text/plain": [
              "array([[1, 2, 5, 8],\n",
              "       [1, 2, 5, 8]])"
            ]
          },
          "metadata": {},
          "execution_count": 28
        }
      ]
    },
    {
      "cell_type": "code",
      "source": [
        "test_example[:,1:3]"
      ],
      "metadata": {
        "colab": {
          "base_uri": "https://localhost:8080/"
        },
        "id": "1feCwbkFFx9Y",
        "outputId": "eafa4d9e-de99-4f34-8d9f-d184f12fe715"
      },
      "execution_count": 29,
      "outputs": [
        {
          "output_type": "execute_result",
          "data": {
            "text/plain": [
              "array([[2, 5],\n",
              "       [2, 5],\n",
              "       [2, 5],\n",
              "       [2, 5]])"
            ]
          },
          "metadata": {},
          "execution_count": 29
        }
      ]
    },
    {
      "cell_type": "code",
      "source": [
        "test_example[1,:2]"
      ],
      "metadata": {
        "colab": {
          "base_uri": "https://localhost:8080/"
        },
        "id": "AGwYF7gwF1v0",
        "outputId": "6c0ad72c-a2ea-45d6-bb52-772d9cf53447"
      },
      "execution_count": 30,
      "outputs": [
        {
          "output_type": "execute_result",
          "data": {
            "text/plain": [
              "array([1, 2])"
            ]
          },
          "metadata": {},
          "execution_count": 30
        }
      ]
    },
    {
      "cell_type": "code",
      "source": [
        "test_example = np.array([[1, 2, 3, 4, 5], [6, 7, 8, 9, 10]], int)\n",
        "test_example[:,2:]      # 전체 Row의 2열 이상"
      ],
      "metadata": {
        "colab": {
          "base_uri": "https://localhost:8080/"
        },
        "id": "QDkzyBbOF9Qp",
        "outputId": "f15b357e-a729-4dd5-e855-fe2deb7799bf"
      },
      "execution_count": 31,
      "outputs": [
        {
          "output_type": "execute_result",
          "data": {
            "text/plain": [
              "array([[ 3,  4,  5],\n",
              "       [ 8,  9, 10]])"
            ]
          },
          "metadata": {},
          "execution_count": 31
        }
      ]
    },
    {
      "cell_type": "code",
      "source": [
        "test_example[1,1:3]     # 1 Row의 1열 ~ 2열"
      ],
      "metadata": {
        "colab": {
          "base_uri": "https://localhost:8080/"
        },
        "id": "UzYBMRv9GZSi",
        "outputId": "bde66455-599e-4685-f89f-f892d8d5ed08"
      },
      "execution_count": 32,
      "outputs": [
        {
          "output_type": "execute_result",
          "data": {
            "text/plain": [
              "array([7, 8])"
            ]
          },
          "metadata": {},
          "execution_count": 32
        }
      ]
    },
    {
      "cell_type": "code",
      "source": [
        "test_example[1:3]        # 1 Row ~ 2Row의 전체"
      ],
      "metadata": {
        "colab": {
          "base_uri": "https://localhost:8080/"
        },
        "id": "fuHvDklNGhQQ",
        "outputId": "a44f27a0-d7f4-4aad-a6a1-766de5e887b3"
      },
      "execution_count": 33,
      "outputs": [
        {
          "output_type": "execute_result",
          "data": {
            "text/plain": [
              "array([[ 6,  7,  8,  9, 10]])"
            ]
          },
          "metadata": {},
          "execution_count": 33
        }
      ]
    },
    {
      "cell_type": "markdown",
      "source": [
        "##**Creation Function**"
      ],
      "metadata": {
        "id": "2b-IuwO8J00t"
      }
    },
    {
      "cell_type": "markdown",
      "source": [
        "#####arange"
      ],
      "metadata": {
        "id": "BEbdmlegLt5a"
      }
    },
    {
      "cell_type": "code",
      "source": [
        "np.arange(30)   # range: List의 range와 같은 효과, integer로 0부터 29까지 요소 추출"
      ],
      "metadata": {
        "colab": {
          "base_uri": "https://localhost:8080/"
        },
        "id": "zmn-66mXJ3_D",
        "outputId": "c12c7348-6afc-4559-8ee0-c12662302625"
      },
      "execution_count": 34,
      "outputs": [
        {
          "output_type": "execute_result",
          "data": {
            "text/plain": [
              "array([ 0,  1,  2,  3,  4,  5,  6,  7,  8,  9, 10, 11, 12, 13, 14, 15, 16,\n",
              "       17, 18, 19, 20, 21, 22, 23, 24, 25, 26, 27, 28, 29])"
            ]
          },
          "metadata": {},
          "execution_count": 34
        }
      ]
    },
    {
      "cell_type": "code",
      "source": [
        "np.arange(0, 5, 0.5)    # floating point도 표시 가능함"
      ],
      "metadata": {
        "colab": {
          "base_uri": "https://localhost:8080/"
        },
        "id": "FH6QTJ3-KOjb",
        "outputId": "b6bc8caf-22ce-40a3-f4bd-ab4e3f5fd9fb"
      },
      "execution_count": 35,
      "outputs": [
        {
          "output_type": "execute_result",
          "data": {
            "text/plain": [
              "array([0. , 0.5, 1. , 1.5, 2. , 2.5, 3. , 3.5, 4. , 4.5])"
            ]
          },
          "metadata": {},
          "execution_count": 35
        }
      ]
    },
    {
      "cell_type": "code",
      "source": [
        "np.arange(30).reshape(5, 6)"
      ],
      "metadata": {
        "colab": {
          "base_uri": "https://localhost:8080/"
        },
        "id": "qfKToHldKfau",
        "outputId": "5fa0e452-c434-44b0-d498-4d2f1e48fdab"
      },
      "execution_count": 36,
      "outputs": [
        {
          "output_type": "execute_result",
          "data": {
            "text/plain": [
              "array([[ 0,  1,  2,  3,  4,  5],\n",
              "       [ 6,  7,  8,  9, 10, 11],\n",
              "       [12, 13, 14, 15, 16, 17],\n",
              "       [18, 19, 20, 21, 22, 23],\n",
              "       [24, 25, 26, 27, 28, 29]])"
            ]
          },
          "metadata": {},
          "execution_count": 36
        }
      ]
    },
    {
      "cell_type": "markdown",
      "source": [
        "#####ones, zeros and empty"
      ],
      "metadata": {
        "id": "1HDNDd9WLvyM"
      }
    },
    {
      "cell_type": "code",
      "source": [
        "np.zeros(shape=(10,), dtype=np.int8)     # 10 - zero vector 생성"
      ],
      "metadata": {
        "colab": {
          "base_uri": "https://localhost:8080/"
        },
        "id": "v_BtUZTpMJSQ",
        "outputId": "861798d3-b5fe-4b55-8475-3084e9acd68f"
      },
      "execution_count": 37,
      "outputs": [
        {
          "output_type": "execute_result",
          "data": {
            "text/plain": [
              "array([0, 0, 0, 0, 0, 0, 0, 0, 0, 0], dtype=int8)"
            ]
          },
          "metadata": {},
          "execution_count": 37
        }
      ]
    },
    {
      "cell_type": "code",
      "source": [
        "np.zeros((2, 5))        # 2 by 5 - zero matrix 생성"
      ],
      "metadata": {
        "colab": {
          "base_uri": "https://localhost:8080/"
        },
        "id": "pROpf0CwMlyT",
        "outputId": "032a8974-8c1f-440e-c153-d0092b07b496"
      },
      "execution_count": 38,
      "outputs": [
        {
          "output_type": "execute_result",
          "data": {
            "text/plain": [
              "array([[0., 0., 0., 0., 0.],\n",
              "       [0., 0., 0., 0., 0.]])"
            ]
          },
          "metadata": {},
          "execution_count": 38
        }
      ]
    },
    {
      "cell_type": "code",
      "source": [
        "np.ones(shape=(10,), dtype=np.int8)"
      ],
      "metadata": {
        "colab": {
          "base_uri": "https://localhost:8080/"
        },
        "id": "GJiZXJIsM-d7",
        "outputId": "dd69ff9e-6de2-4220-b38d-d4830a20932b"
      },
      "execution_count": 39,
      "outputs": [
        {
          "output_type": "execute_result",
          "data": {
            "text/plain": [
              "array([1, 1, 1, 1, 1, 1, 1, 1, 1, 1], dtype=int8)"
            ]
          },
          "metadata": {},
          "execution_count": 39
        }
      ]
    },
    {
      "cell_type": "code",
      "source": [
        "np.ones((2, 5), dtype=np.int8)"
      ],
      "metadata": {
        "colab": {
          "base_uri": "https://localhost:8080/"
        },
        "id": "TI8ATtmvNG0K",
        "outputId": "71fac215-a0ff-4b84-d6c8-0ad5f204d62a"
      },
      "execution_count": 40,
      "outputs": [
        {
          "output_type": "execute_result",
          "data": {
            "text/plain": [
              "array([[1, 1, 1, 1, 1],\n",
              "       [1, 1, 1, 1, 1]], dtype=int8)"
            ]
          },
          "metadata": {},
          "execution_count": 40
        }
      ]
    },
    {
      "cell_type": "code",
      "source": [
        "np.empty(shape=(10,), dtype=np.int8)"
      ],
      "metadata": {
        "colab": {
          "base_uri": "https://localhost:8080/"
        },
        "id": "bC_plRRuNU37",
        "outputId": "00e6cd58-6360-4220-e0cf-56ec004ec3ce"
      },
      "execution_count": 41,
      "outputs": [
        {
          "output_type": "execute_result",
          "data": {
            "text/plain": [
              "array([ -32, -107,   55, -117,  -17,   85,    0,    0,    0,    0],\n",
              "      dtype=int8)"
            ]
          },
          "metadata": {},
          "execution_count": 41
        }
      ]
    },
    {
      "cell_type": "code",
      "source": [
        "np.empty((3, 5))"
      ],
      "metadata": {
        "colab": {
          "base_uri": "https://localhost:8080/"
        },
        "id": "veGinTzLNmyc",
        "outputId": "bd37703a-a22e-4758-885c-59c81cc4ae6a"
      },
      "execution_count": 42,
      "outputs": [
        {
          "output_type": "execute_result",
          "data": {
            "text/plain": [
              "array([[4.66829471e-310, 1.06099790e-312, 1.01855798e-312,\n",
              "        9.54898106e-313, 1.16709769e-312],\n",
              "       [1.01855798e-312, 1.23075756e-312, 1.03977794e-312,\n",
              "        1.01855798e-312, 9.76118064e-313],\n",
              "       [1.03977794e-312, 1.12465777e-312, 1.12465777e-312,\n",
              "        4.44659081e-322, 0.00000000e+000]])"
            ]
          },
          "metadata": {},
          "execution_count": 42
        }
      ]
    },
    {
      "cell_type": "markdown",
      "source": [
        "#####something_like"
      ],
      "metadata": {
        "id": "hCItOyOmNqAQ"
      }
    },
    {
      "cell_type": "code",
      "source": [
        "test_matrix = np.arange(30).reshape(5, 6)\n",
        "np.ones_like(test_matrix)"
      ],
      "metadata": {
        "colab": {
          "base_uri": "https://localhost:8080/"
        },
        "id": "6ijvKwnTNsr4",
        "outputId": "9dca735d-ba68-49af-9083-daf07da7c99b"
      },
      "execution_count": 43,
      "outputs": [
        {
          "output_type": "execute_result",
          "data": {
            "text/plain": [
              "array([[1, 1, 1, 1, 1, 1],\n",
              "       [1, 1, 1, 1, 1, 1],\n",
              "       [1, 1, 1, 1, 1, 1],\n",
              "       [1, 1, 1, 1, 1, 1],\n",
              "       [1, 1, 1, 1, 1, 1]])"
            ]
          },
          "metadata": {},
          "execution_count": 43
        }
      ]
    },
    {
      "cell_type": "code",
      "source": [
        "test_matrix = np.arange(30).reshape(5, 6)\n",
        "np.zeros_like(test_matrix)"
      ],
      "metadata": {
        "colab": {
          "base_uri": "https://localhost:8080/"
        },
        "id": "Nxr5ztAQN4UB",
        "outputId": "2948bbcc-c93c-413e-c26e-8ae192ea7f31"
      },
      "execution_count": 44,
      "outputs": [
        {
          "output_type": "execute_result",
          "data": {
            "text/plain": [
              "array([[0, 0, 0, 0, 0, 0],\n",
              "       [0, 0, 0, 0, 0, 0],\n",
              "       [0, 0, 0, 0, 0, 0],\n",
              "       [0, 0, 0, 0, 0, 0],\n",
              "       [0, 0, 0, 0, 0, 0]])"
            ]
          },
          "metadata": {},
          "execution_count": 44
        }
      ]
    },
    {
      "cell_type": "markdown",
      "source": [
        "#####identity"
      ],
      "metadata": {
        "id": "LQT2kOmcODpX"
      }
    },
    {
      "cell_type": "markdown",
      "source": [
        "- 단위 행렬(i 행렬)생성"
      ],
      "metadata": {
        "id": "q4IVzGB7OTCM"
      }
    },
    {
      "cell_type": "code",
      "source": [
        "np.identity(n=3, dtype=np.int8)"
      ],
      "metadata": {
        "colab": {
          "base_uri": "https://localhost:8080/"
        },
        "id": "6KtmUzUCOCrH",
        "outputId": "2ddc2179-4bf3-4d13-c5ae-c42bd916792e"
      },
      "execution_count": 45,
      "outputs": [
        {
          "output_type": "execute_result",
          "data": {
            "text/plain": [
              "array([[1, 0, 0],\n",
              "       [0, 1, 0],\n",
              "       [0, 0, 1]], dtype=int8)"
            ]
          },
          "metadata": {},
          "execution_count": 45
        }
      ]
    },
    {
      "cell_type": "code",
      "source": [
        "np.identity(5)"
      ],
      "metadata": {
        "colab": {
          "base_uri": "https://localhost:8080/"
        },
        "id": "FwCHPXBzOKQx",
        "outputId": "75e14201-607a-4b09-dff0-7619aedd2c03"
      },
      "execution_count": 46,
      "outputs": [
        {
          "output_type": "execute_result",
          "data": {
            "text/plain": [
              "array([[1., 0., 0., 0., 0.],\n",
              "       [0., 1., 0., 0., 0.],\n",
              "       [0., 0., 1., 0., 0.],\n",
              "       [0., 0., 0., 1., 0.],\n",
              "       [0., 0., 0., 0., 1.]])"
            ]
          },
          "metadata": {},
          "execution_count": 46
        }
      ]
    },
    {
      "cell_type": "markdown",
      "source": [
        "#####eye"
      ],
      "metadata": {
        "id": "hw_IH-vnOOEx"
      }
    },
    {
      "cell_type": "markdown",
      "source": [
        "- 대각선이 1인 행렬, k값의 시작 index변경이 가능"
      ],
      "metadata": {
        "id": "YC626FszOzVc"
      }
    },
    {
      "cell_type": "code",
      "source": [
        "np.eye(N=3, M=5, dtype=np.int8)"
      ],
      "metadata": {
        "colab": {
          "base_uri": "https://localhost:8080/"
        },
        "id": "wLwVruClONIC",
        "outputId": "d6d7d7b9-dd19-4f34-f663-141886b11c6c"
      },
      "execution_count": 47,
      "outputs": [
        {
          "output_type": "execute_result",
          "data": {
            "text/plain": [
              "array([[1, 0, 0, 0, 0],\n",
              "       [0, 1, 0, 0, 0],\n",
              "       [0, 0, 1, 0, 0]], dtype=int8)"
            ]
          },
          "metadata": {},
          "execution_count": 47
        }
      ]
    },
    {
      "cell_type": "code",
      "source": [
        "np.eye(3)"
      ],
      "metadata": {
        "colab": {
          "base_uri": "https://localhost:8080/"
        },
        "id": "tPIaoJGAPDSM",
        "outputId": "397769f2-059f-42d8-f6cb-ebba8d743a4c"
      },
      "execution_count": 48,
      "outputs": [
        {
          "output_type": "execute_result",
          "data": {
            "text/plain": [
              "array([[1., 0., 0.],\n",
              "       [0., 1., 0.],\n",
              "       [0., 0., 1.]])"
            ]
          },
          "metadata": {},
          "execution_count": 48
        }
      ]
    },
    {
      "cell_type": "code",
      "source": [
        "np.eye(3, 5, k=1)"
      ],
      "metadata": {
        "colab": {
          "base_uri": "https://localhost:8080/"
        },
        "id": "bpQvDznfPFUH",
        "outputId": "4be9d5d7-29a0-46c7-c0c1-5ccdeca8a3ff"
      },
      "execution_count": 49,
      "outputs": [
        {
          "output_type": "execute_result",
          "data": {
            "text/plain": [
              "array([[0., 1., 0., 0., 0.],\n",
              "       [0., 0., 1., 0., 0.],\n",
              "       [0., 0., 0., 1., 0.]])"
            ]
          },
          "metadata": {},
          "execution_count": 49
        }
      ]
    },
    {
      "cell_type": "code",
      "source": [
        "np.eye(3, 5, k=3)"
      ],
      "metadata": {
        "colab": {
          "base_uri": "https://localhost:8080/"
        },
        "id": "xfo3zrR2PKBi",
        "outputId": "16ede55f-447f-43f2-f3ae-2b51e94c4191"
      },
      "execution_count": 50,
      "outputs": [
        {
          "output_type": "execute_result",
          "data": {
            "text/plain": [
              "array([[0., 0., 0., 1., 0.],\n",
              "       [0., 0., 0., 0., 1.],\n",
              "       [0., 0., 0., 0., 0.]])"
            ]
          },
          "metadata": {},
          "execution_count": 50
        }
      ]
    },
    {
      "cell_type": "markdown",
      "source": [
        "#####diag"
      ],
      "metadata": {
        "id": "SFPuO-9ZPNB4"
      }
    },
    {
      "cell_type": "markdown",
      "source": [
        "- 대각 행렬의 값을 추출"
      ],
      "metadata": {
        "id": "R9LCkvEvPPIU"
      }
    },
    {
      "cell_type": "code",
      "source": [
        "matrix = np.arange(9).reshape(3, 3)\n",
        "np.diag(matrix)"
      ],
      "metadata": {
        "colab": {
          "base_uri": "https://localhost:8080/"
        },
        "id": "tA-u75UAPMVm",
        "outputId": "a1270ba7-9f66-41a6-f360-8a35230bacb9"
      },
      "execution_count": 51,
      "outputs": [
        {
          "output_type": "execute_result",
          "data": {
            "text/plain": [
              "array([0, 4, 8])"
            ]
          },
          "metadata": {},
          "execution_count": 51
        }
      ]
    },
    {
      "cell_type": "code",
      "source": [
        "np.diag(matrix, k=1)"
      ],
      "metadata": {
        "colab": {
          "base_uri": "https://localhost:8080/"
        },
        "id": "LkHLvkTuPWCG",
        "outputId": "d0ae4950-0b3c-4eaa-aca6-5a939049a1e6"
      },
      "execution_count": 52,
      "outputs": [
        {
          "output_type": "execute_result",
          "data": {
            "text/plain": [
              "array([1, 5])"
            ]
          },
          "metadata": {},
          "execution_count": 52
        }
      ]
    },
    {
      "cell_type": "code",
      "source": [
        "# 데이터 분포에 따른 sampling으로 array를 생성\n",
        "\n",
        "np.random.uniform(0, 1, 10).reshape(2, 5)       # 균등 분포"
      ],
      "metadata": {
        "colab": {
          "base_uri": "https://localhost:8080/"
        },
        "id": "Yfg0P0Q2S8dp",
        "outputId": "8e675cb9-7d0d-452b-a355-199df5901208"
      },
      "execution_count": 53,
      "outputs": [
        {
          "output_type": "execute_result",
          "data": {
            "text/plain": [
              "array([[0.9064801 , 0.06379094, 0.09790705, 0.08720189, 0.26196143],\n",
              "       [0.68476656, 0.89349203, 0.41051184, 0.89386669, 0.68807412]])"
            ]
          },
          "metadata": {},
          "execution_count": 53
        }
      ]
    },
    {
      "cell_type": "code",
      "source": [
        "np.random.normal(0, 1, 10).reshape(2, 5)        # 정규 분포"
      ],
      "metadata": {
        "colab": {
          "base_uri": "https://localhost:8080/"
        },
        "id": "eHOyl8OWTHzB",
        "outputId": "4014637f-b2ce-43c4-8fed-b35ebb154ef0"
      },
      "execution_count": 54,
      "outputs": [
        {
          "output_type": "execute_result",
          "data": {
            "text/plain": [
              "array([[ 0.59538992, -0.81154652,  0.03077652, -1.81944532,  1.76456948],\n",
              "       [ 0.53927957, -0.71121397, -0.41619678,  1.14643253, -1.62102172]])"
            ]
          },
          "metadata": {},
          "execution_count": 54
        }
      ]
    },
    {
      "cell_type": "markdown",
      "source": [
        "##**Operation functions**"
      ],
      "metadata": {
        "id": "EUXGrPhQTbXi"
      }
    },
    {
      "cell_type": "markdown",
      "source": [
        "#####sum"
      ],
      "metadata": {
        "id": "bHYlYx3lTgKG"
      }
    },
    {
      "cell_type": "code",
      "source": [
        "test_array = np.arange(1, 11)\n",
        "test_array"
      ],
      "metadata": {
        "colab": {
          "base_uri": "https://localhost:8080/"
        },
        "id": "eXeju3wWTeoz",
        "outputId": "a2296d8a-9b1a-4741-a9db-3e420e32ce71"
      },
      "execution_count": 55,
      "outputs": [
        {
          "output_type": "execute_result",
          "data": {
            "text/plain": [
              "array([ 1,  2,  3,  4,  5,  6,  7,  8,  9, 10])"
            ]
          },
          "metadata": {},
          "execution_count": 55
        }
      ]
    },
    {
      "cell_type": "code",
      "source": [
        "# ndarray의 elemet들 간의 합을 수함, list의 sum 기능과 동일\n",
        "\n",
        "test_array.sum(dtype=np.float16)"
      ],
      "metadata": {
        "colab": {
          "base_uri": "https://localhost:8080/"
        },
        "id": "HsnUAsFQTuYq",
        "outputId": "69b4c874-989d-44cb-ad25-1181edc39f57"
      },
      "execution_count": 56,
      "outputs": [
        {
          "output_type": "execute_result",
          "data": {
            "text/plain": [
              "55.0"
            ]
          },
          "metadata": {},
          "execution_count": 56
        }
      ]
    },
    {
      "cell_type": "markdown",
      "source": [
        "#####axis"
      ],
      "metadata": {
        "id": "Mz1LaDwRT8-T"
      }
    },
    {
      "cell_type": "code",
      "source": [
        "test_array = np.arange(1, 13).reshape(3, 4)\n",
        "test_array"
      ],
      "metadata": {
        "colab": {
          "base_uri": "https://localhost:8080/"
        },
        "id": "Z1p3qF0IT8Aj",
        "outputId": "d84fcc31-ac8c-4a6a-f8d7-dd967466dfe4"
      },
      "execution_count": 57,
      "outputs": [
        {
          "output_type": "execute_result",
          "data": {
            "text/plain": [
              "array([[ 1,  2,  3,  4],\n",
              "       [ 5,  6,  7,  8],\n",
              "       [ 9, 10, 11, 12]])"
            ]
          },
          "metadata": {},
          "execution_count": 57
        }
      ]
    },
    {
      "cell_type": "code",
      "source": [
        "test_array.sum(axis=1), test_array.sum(axis=0)"
      ],
      "metadata": {
        "colab": {
          "base_uri": "https://localhost:8080/"
        },
        "id": "nxRoJKa2UCwm",
        "outputId": "95b8c642-6343-41ec-aaea-06d09680e265"
      },
      "execution_count": 58,
      "outputs": [
        {
          "output_type": "execute_result",
          "data": {
            "text/plain": [
              "(array([10, 26, 42]), array([15, 18, 21, 24]))"
            ]
          },
          "metadata": {},
          "execution_count": 58
        }
      ]
    },
    {
      "cell_type": "code",
      "source": [
        "third_order_tensor = np.array([test_array, test_array, test_array])\n",
        "third_order_tensor"
      ],
      "metadata": {
        "colab": {
          "base_uri": "https://localhost:8080/"
        },
        "id": "OHtnvKplUK91",
        "outputId": "7ae7a545-c2f6-4b49-b0e5-e9d7410d9924"
      },
      "execution_count": 59,
      "outputs": [
        {
          "output_type": "execute_result",
          "data": {
            "text/plain": [
              "array([[[ 1,  2,  3,  4],\n",
              "        [ 5,  6,  7,  8],\n",
              "        [ 9, 10, 11, 12]],\n",
              "\n",
              "       [[ 1,  2,  3,  4],\n",
              "        [ 5,  6,  7,  8],\n",
              "        [ 9, 10, 11, 12]],\n",
              "\n",
              "       [[ 1,  2,  3,  4],\n",
              "        [ 5,  6,  7,  8],\n",
              "        [ 9, 10, 11, 12]]])"
            ]
          },
          "metadata": {},
          "execution_count": 59
        }
      ]
    },
    {
      "cell_type": "code",
      "source": [
        "print(third_order_tensor.sum(axis=0))"
      ],
      "metadata": {
        "colab": {
          "base_uri": "https://localhost:8080/"
        },
        "id": "sBtZLNJlUpzL",
        "outputId": "6b4dd8c8-ee6e-4d00-fb27-f769def808a1"
      },
      "execution_count": 60,
      "outputs": [
        {
          "output_type": "stream",
          "name": "stdout",
          "text": [
            "[[ 3  6  9 12]\n",
            " [15 18 21 24]\n",
            " [27 30 33 36]]\n"
          ]
        }
      ]
    },
    {
      "cell_type": "code",
      "source": [
        "print(third_order_tensor.sum(axis=1))"
      ],
      "metadata": {
        "colab": {
          "base_uri": "https://localhost:8080/"
        },
        "id": "ZyWo-Pd6VCP1",
        "outputId": "dcaf425d-4661-45d0-e2cc-6654d3cbac77"
      },
      "execution_count": 61,
      "outputs": [
        {
          "output_type": "stream",
          "name": "stdout",
          "text": [
            "[[15 18 21 24]\n",
            " [15 18 21 24]\n",
            " [15 18 21 24]]\n"
          ]
        }
      ]
    },
    {
      "cell_type": "code",
      "source": [
        "print(third_order_tensor.sum(axis=2))"
      ],
      "metadata": {
        "colab": {
          "base_uri": "https://localhost:8080/"
        },
        "id": "YT_vU7f5Ut-0",
        "outputId": "e4969fef-1615-472e-9bd3-4a4e71d86cdf"
      },
      "execution_count": 62,
      "outputs": [
        {
          "output_type": "stream",
          "name": "stdout",
          "text": [
            "[[10 26 42]\n",
            " [10 26 42]\n",
            " [10 26 42]]\n"
          ]
        }
      ]
    },
    {
      "cell_type": "markdown",
      "source": [
        "#####mean & std"
      ],
      "metadata": {
        "id": "qVrl45cfVGdT"
      }
    },
    {
      "cell_type": "code",
      "source": [
        "# ndarray의 element들 간의 평균 또는 표준 편차를 반환\n",
        "\n",
        "test_array = np.arange(1, 13).reshape(3, 4)\n",
        "test_array"
      ],
      "metadata": {
        "colab": {
          "base_uri": "https://localhost:8080/"
        },
        "id": "F0HH7GD_VFge",
        "outputId": "8590410c-4bcf-466b-fed1-3cfb8a151816"
      },
      "execution_count": 63,
      "outputs": [
        {
          "output_type": "execute_result",
          "data": {
            "text/plain": [
              "array([[ 1,  2,  3,  4],\n",
              "       [ 5,  6,  7,  8],\n",
              "       [ 9, 10, 11, 12]])"
            ]
          },
          "metadata": {},
          "execution_count": 63
        }
      ]
    },
    {
      "cell_type": "code",
      "source": [
        "test_array.mean(), test_array.mean(axis=0)"
      ],
      "metadata": {
        "colab": {
          "base_uri": "https://localhost:8080/"
        },
        "id": "thxriGCyVRDo",
        "outputId": "826424d9-fc48-4a76-cccc-63ceec7e8f5b"
      },
      "execution_count": 64,
      "outputs": [
        {
          "output_type": "execute_result",
          "data": {
            "text/plain": [
              "(6.5, array([5., 6., 7., 8.]))"
            ]
          },
          "metadata": {},
          "execution_count": 64
        }
      ]
    },
    {
      "cell_type": "code",
      "source": [
        "test_array.std(), test_array.std(axis=0)"
      ],
      "metadata": {
        "colab": {
          "base_uri": "https://localhost:8080/"
        },
        "id": "oK1hbuVIVnUU",
        "outputId": "d94df784-f930-44ab-d8e1-2d88390bde5d"
      },
      "execution_count": 65,
      "outputs": [
        {
          "output_type": "execute_result",
          "data": {
            "text/plain": [
              "(3.452052529534663, array([3.26598632, 3.26598632, 3.26598632, 3.26598632]))"
            ]
          },
          "metadata": {},
          "execution_count": 65
        }
      ]
    },
    {
      "cell_type": "markdown",
      "source": [
        "#####Mathmatical functions"
      ],
      "metadata": {
        "id": "HaZJMsk6Vw9J"
      }
    },
    {
      "cell_type": "code",
      "source": [
        "np.exp(test_array), np.sqrt(test_array)"
      ],
      "metadata": {
        "colab": {
          "base_uri": "https://localhost:8080/"
        },
        "id": "dVBH0NOWVzib",
        "outputId": "3d8e926f-4809-4830-e34d-5e1da5e96b40"
      },
      "execution_count": 66,
      "outputs": [
        {
          "output_type": "execute_result",
          "data": {
            "text/plain": [
              "(array([[2.71828183e+00, 7.38905610e+00, 2.00855369e+01, 5.45981500e+01],\n",
              "        [1.48413159e+02, 4.03428793e+02, 1.09663316e+03, 2.98095799e+03],\n",
              "        [8.10308393e+03, 2.20264658e+04, 5.98741417e+04, 1.62754791e+05]]),\n",
              " array([[1.        , 1.41421356, 1.73205081, 2.        ],\n",
              "        [2.23606798, 2.44948974, 2.64575131, 2.82842712],\n",
              "        [3.        , 3.16227766, 3.31662479, 3.46410162]]))"
            ]
          },
          "metadata": {},
          "execution_count": 66
        }
      ]
    },
    {
      "cell_type": "markdown",
      "source": [
        "#####concatenate"
      ],
      "metadata": {
        "id": "BHEvlIE6V51K"
      }
    },
    {
      "cell_type": "markdown",
      "source": [
        "- Numpy array를 합치는 함수"
      ],
      "metadata": {
        "id": "dX0qIyhSV-h-"
      }
    },
    {
      "cell_type": "code",
      "source": [
        "a = np.array([1, 2, 3])\n",
        "b = np.array([2, 3, 4])\n",
        "np.vstack((a, b))"
      ],
      "metadata": {
        "colab": {
          "base_uri": "https://localhost:8080/"
        },
        "id": "mVOL_8tBV9Ly",
        "outputId": "d0456f53-2cea-4c78-837d-9e2ff82712c0"
      },
      "execution_count": 67,
      "outputs": [
        {
          "output_type": "execute_result",
          "data": {
            "text/plain": [
              "array([[1, 2, 3],\n",
              "       [2, 3, 4]])"
            ]
          },
          "metadata": {},
          "execution_count": 67
        }
      ]
    },
    {
      "cell_type": "code",
      "source": [
        "a = np.array([1, 2, 3])\n",
        "b = np.array([2, 3, 4])\n",
        "np.hstack((a, b))"
      ],
      "metadata": {
        "colab": {
          "base_uri": "https://localhost:8080/"
        },
        "id": "SEApohkMWWrM",
        "outputId": "8ae6ba5d-9acf-457a-f519-1b881abf32d7"
      },
      "execution_count": 68,
      "outputs": [
        {
          "output_type": "execute_result",
          "data": {
            "text/plain": [
              "array([1, 2, 3, 2, 3, 4])"
            ]
          },
          "metadata": {},
          "execution_count": 68
        }
      ]
    },
    {
      "cell_type": "code",
      "source": [
        "a = np.array([[1, 2, 3]])\n",
        "b = np.array([[2, 3, 4]])\n",
        "np.concatenate((a,b), axis=0)"
      ],
      "metadata": {
        "colab": {
          "base_uri": "https://localhost:8080/"
        },
        "id": "v0s0cNGbWbhM",
        "outputId": "f885fa0a-088f-4f19-9b86-cfb733fcf348"
      },
      "execution_count": 69,
      "outputs": [
        {
          "output_type": "execute_result",
          "data": {
            "text/plain": [
              "array([[1, 2, 3],\n",
              "       [2, 3, 4]])"
            ]
          },
          "metadata": {},
          "execution_count": 69
        }
      ]
    },
    {
      "cell_type": "code",
      "source": [
        "a = np.array([[1, 2], [3, 4]])\n",
        "b = np.array([[5, 6]])\n",
        "np.concatenate((a,b.T), axis=1)"
      ],
      "metadata": {
        "colab": {
          "base_uri": "https://localhost:8080/"
        },
        "id": "UWzaQjBsWvOd",
        "outputId": "44a01a2f-3b38-43f4-fd0b-fa4966bf21e3"
      },
      "execution_count": 70,
      "outputs": [
        {
          "output_type": "execute_result",
          "data": {
            "text/plain": [
              "array([[1, 2, 5],\n",
              "       [3, 4, 6]])"
            ]
          },
          "metadata": {},
          "execution_count": 70
        }
      ]
    },
    {
      "cell_type": "markdown",
      "source": [
        "##**Array Operation**"
      ],
      "metadata": {
        "id": "9igMhQAsXEGQ"
      }
    },
    {
      "cell_type": "markdown",
      "source": [
        "- Opertaion b/t arrays"
      ],
      "metadata": {
        "id": "NrwUTzsCXKpx"
      }
    },
    {
      "cell_type": "code",
      "source": [
        "test_a = np.array([[1, 2, 3], [4, 5, 6]], float)\n",
        "test_a"
      ],
      "metadata": {
        "colab": {
          "base_uri": "https://localhost:8080/"
        },
        "id": "QxGf7obBXI_R",
        "outputId": "85d8bc1b-1868-4c25-a3d5-bec78414387a"
      },
      "execution_count": 71,
      "outputs": [
        {
          "output_type": "execute_result",
          "data": {
            "text/plain": [
              "array([[1., 2., 3.],\n",
              "       [4., 5., 6.]])"
            ]
          },
          "metadata": {},
          "execution_count": 71
        }
      ]
    },
    {
      "cell_type": "code",
      "source": [
        "test_a + test_a     # Matrix + Matrix 연산"
      ],
      "metadata": {
        "colab": {
          "base_uri": "https://localhost:8080/"
        },
        "id": "QII8CAAiXZJR",
        "outputId": "f4ec3397-5dac-41ed-9ec3-76d74dcf4538"
      },
      "execution_count": 72,
      "outputs": [
        {
          "output_type": "execute_result",
          "data": {
            "text/plain": [
              "array([[ 2.,  4.,  6.],\n",
              "       [ 8., 10., 12.]])"
            ]
          },
          "metadata": {},
          "execution_count": 72
        }
      ]
    },
    {
      "cell_type": "code",
      "source": [
        "test_a - test_a     # Matrix - Matrix 연산"
      ],
      "metadata": {
        "colab": {
          "base_uri": "https://localhost:8080/"
        },
        "id": "1zQAEJlNXiTd",
        "outputId": "77e44ea8-1a4a-4f40-81d0-aebebbe213f0"
      },
      "execution_count": 73,
      "outputs": [
        {
          "output_type": "execute_result",
          "data": {
            "text/plain": [
              "array([[0., 0., 0.],\n",
              "       [0., 0., 0.]])"
            ]
          },
          "metadata": {},
          "execution_count": 73
        }
      ]
    },
    {
      "cell_type": "code",
      "source": [
        "test_a * test_a     # Matrix내 element들 간 같은 위치에 있는 값들끼리 연산"
      ],
      "metadata": {
        "colab": {
          "base_uri": "https://localhost:8080/"
        },
        "id": "CYWruEc9Xm8m",
        "outputId": "1ecee4e0-a5ee-468b-f7c4-9938553517c3"
      },
      "execution_count": 74,
      "outputs": [
        {
          "output_type": "execute_result",
          "data": {
            "text/plain": [
              "array([[ 1.,  4.,  9.],\n",
              "       [16., 25., 36.]])"
            ]
          },
          "metadata": {},
          "execution_count": 74
        }
      ]
    },
    {
      "cell_type": "markdown",
      "source": [
        "#####Element-wise operations"
      ],
      "metadata": {
        "id": "t1KO_tYjYI-r"
      }
    },
    {
      "cell_type": "markdown",
      "source": [
        "- Array간 shape이 같을 떄 일어나는 연산"
      ],
      "metadata": {
        "id": "raLvpPlDYZ9k"
      }
    },
    {
      "cell_type": "code",
      "source": [
        "matrix_a = np.arange(1, 13).reshape(3, 4)\n",
        "matrix_a * matrix_a"
      ],
      "metadata": {
        "colab": {
          "base_uri": "https://localhost:8080/"
        },
        "id": "gne_gtLQYMaH",
        "outputId": "5f1dd793-87f4-4544-c861-8feb7d314389"
      },
      "execution_count": 75,
      "outputs": [
        {
          "output_type": "execute_result",
          "data": {
            "text/plain": [
              "array([[  1,   4,   9,  16],\n",
              "       [ 25,  36,  49,  64],\n",
              "       [ 81, 100, 121, 144]])"
            ]
          },
          "metadata": {},
          "execution_count": 75
        }
      ]
    },
    {
      "cell_type": "markdown",
      "source": [
        "#####Dot product"
      ],
      "metadata": {
        "id": "uic2t7HqYf6T"
      }
    },
    {
      "cell_type": "code",
      "source": [
        "test_a = np.arange(1, 7).reshape(2, 3)\n",
        "test_b = np.arange(7, 13).reshape(3, 2)\n",
        "print(test_a, '\\n\\n', test_b)"
      ],
      "metadata": {
        "colab": {
          "base_uri": "https://localhost:8080/"
        },
        "id": "9KVAV42YYdY6",
        "outputId": "31b5d4e5-0236-44da-ff02-d5ca0a4e19ee"
      },
      "execution_count": 76,
      "outputs": [
        {
          "output_type": "stream",
          "name": "stdout",
          "text": [
            "[[1 2 3]\n",
            " [4 5 6]] \n",
            "\n",
            " [[ 7  8]\n",
            " [ 9 10]\n",
            " [11 12]]\n"
          ]
        }
      ]
    },
    {
      "cell_type": "code",
      "source": [
        "# 행렬의 기본 연산 (행렬곱)\n",
        "test_a.dot(test_b)"
      ],
      "metadata": {
        "colab": {
          "base_uri": "https://localhost:8080/"
        },
        "id": "V0EbvyUVYsZC",
        "outputId": "c0af92c4-8159-4dbf-e73c-e9dca4a65b3b"
      },
      "execution_count": 77,
      "outputs": [
        {
          "output_type": "execute_result",
          "data": {
            "text/plain": [
              "array([[ 58,  64],\n",
              "       [139, 154]])"
            ]
          },
          "metadata": {},
          "execution_count": 77
        }
      ]
    },
    {
      "cell_type": "markdown",
      "source": [
        "#####transpose"
      ],
      "metadata": {
        "id": "SWrxt6FVZvUd"
      }
    },
    {
      "cell_type": "code",
      "source": [
        "test_a = np.arange(1, 7).reshape(2, 3)\n",
        "test_a"
      ],
      "metadata": {
        "colab": {
          "base_uri": "https://localhost:8080/"
        },
        "id": "dFABoIyVZuer",
        "outputId": "57534d4e-6c5e-4145-c4ea-5cfd2df6d5eb"
      },
      "execution_count": 78,
      "outputs": [
        {
          "output_type": "execute_result",
          "data": {
            "text/plain": [
              "array([[1, 2, 3],\n",
              "       [4, 5, 6]])"
            ]
          },
          "metadata": {},
          "execution_count": 78
        }
      ]
    },
    {
      "cell_type": "code",
      "source": [
        "test_a.transpose()"
      ],
      "metadata": {
        "colab": {
          "base_uri": "https://localhost:8080/"
        },
        "id": "StyGLIUaZ2Tv",
        "outputId": "240ca038-054e-4d64-96b1-667dcf3b1cef"
      },
      "execution_count": 79,
      "outputs": [
        {
          "output_type": "execute_result",
          "data": {
            "text/plain": [
              "array([[1, 4],\n",
              "       [2, 5],\n",
              "       [3, 6]])"
            ]
          },
          "metadata": {},
          "execution_count": 79
        }
      ]
    },
    {
      "cell_type": "code",
      "source": [
        "test_a.T.dot(test_a)"
      ],
      "metadata": {
        "colab": {
          "base_uri": "https://localhost:8080/"
        },
        "id": "tNV2RD4caTcs",
        "outputId": "71c96c3d-da9e-46ae-d980-7b9acf7f5f2f"
      },
      "execution_count": 80,
      "outputs": [
        {
          "output_type": "execute_result",
          "data": {
            "text/plain": [
              "array([[17, 22, 27],\n",
              "       [22, 29, 36],\n",
              "       [27, 36, 45]])"
            ]
          },
          "metadata": {},
          "execution_count": 80
        }
      ]
    },
    {
      "cell_type": "code",
      "source": [
        "test_a.T"
      ],
      "metadata": {
        "colab": {
          "base_uri": "https://localhost:8080/"
        },
        "id": "T1Fhv4ZIaZi0",
        "outputId": "4355224b-860e-439e-aff6-e99bd2017693"
      },
      "execution_count": 81,
      "outputs": [
        {
          "output_type": "execute_result",
          "data": {
            "text/plain": [
              "array([[1, 4],\n",
              "       [2, 5],\n",
              "       [3, 6]])"
            ]
          },
          "metadata": {},
          "execution_count": 81
        }
      ]
    },
    {
      "cell_type": "markdown",
      "source": [
        "#####broadcasting"
      ],
      "metadata": {
        "id": "4SSurfmtamB3"
      }
    },
    {
      "cell_type": "markdown",
      "source": [
        "- shape이 다른 배열 간 연산을 지원하는 기능"
      ],
      "metadata": {
        "id": "a1HGSnYHapMw"
      }
    },
    {
      "cell_type": "code",
      "source": [
        "test_matrix = np.array([[1,2,3],[4,5,6]],float)\n",
        "scalar = 3"
      ],
      "metadata": {
        "id": "8cE3s7U1arvN"
      },
      "execution_count": 82,
      "outputs": []
    },
    {
      "cell_type": "code",
      "source": [
        "test_matrix + scalar"
      ],
      "metadata": {
        "colab": {
          "base_uri": "https://localhost:8080/"
        },
        "id": "-7r2B-rjabjh",
        "outputId": "7c12ce23-cd93-4608-d979-32c60cead528"
      },
      "execution_count": 83,
      "outputs": [
        {
          "output_type": "execute_result",
          "data": {
            "text/plain": [
              "array([[4., 5., 6.],\n",
              "       [7., 8., 9.]])"
            ]
          },
          "metadata": {},
          "execution_count": 83
        }
      ]
    },
    {
      "cell_type": "code",
      "source": [
        "test_matrix - scalar"
      ],
      "metadata": {
        "colab": {
          "base_uri": "https://localhost:8080/"
        },
        "id": "ulekiVOdbTxS",
        "outputId": "f0288fe7-6146-4e3a-c6b2-8cbe46c06255"
      },
      "execution_count": 84,
      "outputs": [
        {
          "output_type": "execute_result",
          "data": {
            "text/plain": [
              "array([[-2., -1.,  0.],\n",
              "       [ 1.,  2.,  3.]])"
            ]
          },
          "metadata": {},
          "execution_count": 84
        }
      ]
    },
    {
      "cell_type": "code",
      "source": [
        "test_matrix // 0.2"
      ],
      "metadata": {
        "colab": {
          "base_uri": "https://localhost:8080/"
        },
        "id": "VK5BiNxKbhp5",
        "outputId": "37d14161-a44b-4bf8-ac83-b5a3de7b91af"
      },
      "execution_count": 85,
      "outputs": [
        {
          "output_type": "execute_result",
          "data": {
            "text/plain": [
              "array([[ 4.,  9., 14.],\n",
              "       [19., 24., 29.]])"
            ]
          },
          "metadata": {},
          "execution_count": 85
        }
      ]
    },
    {
      "cell_type": "code",
      "source": [
        "test_matrix * 5"
      ],
      "metadata": {
        "colab": {
          "base_uri": "https://localhost:8080/"
        },
        "id": "jZTE0F2ebxmD",
        "outputId": "169333a5-1b4a-43c3-aac5-baa157d6c545"
      },
      "execution_count": 86,
      "outputs": [
        {
          "output_type": "execute_result",
          "data": {
            "text/plain": [
              "array([[ 5., 10., 15.],\n",
              "       [20., 25., 30.]])"
            ]
          },
          "metadata": {},
          "execution_count": 86
        }
      ]
    },
    {
      "cell_type": "code",
      "source": [
        "test_matrix ** 2"
      ],
      "metadata": {
        "colab": {
          "base_uri": "https://localhost:8080/"
        },
        "id": "4qtJfQydbzHO",
        "outputId": "bc949ef5-d290-413a-f27d-daab0d17a5f8"
      },
      "execution_count": 87,
      "outputs": [
        {
          "output_type": "execute_result",
          "data": {
            "text/plain": [
              "array([[ 1.,  4.,  9.],\n",
              "       [16., 25., 36.]])"
            ]
          },
          "metadata": {},
          "execution_count": 87
        }
      ]
    },
    {
      "cell_type": "code",
      "source": [
        "test_matrix / 5"
      ],
      "metadata": {
        "colab": {
          "base_uri": "https://localhost:8080/"
        },
        "id": "dxemhiSnb02H",
        "outputId": "9dd7732b-e4d9-445f-be34-8ca870cd450d"
      },
      "execution_count": 88,
      "outputs": [
        {
          "output_type": "execute_result",
          "data": {
            "text/plain": [
              "array([[0.2, 0.4, 0.6],\n",
              "       [0.8, 1. , 1.2]])"
            ]
          },
          "metadata": {},
          "execution_count": 88
        }
      ]
    },
    {
      "cell_type": "markdown",
      "source": [
        "- broadcasting : vector-matrix 연산"
      ],
      "metadata": {
        "id": "r-sZLy5bb6a2"
      }
    },
    {
      "cell_type": "code",
      "source": [
        "test_matrix = np.arange(1, 13). reshape(4, 3)\n",
        "print(test_matrix)"
      ],
      "metadata": {
        "colab": {
          "base_uri": "https://localhost:8080/"
        },
        "id": "U2JtR8h4b_dJ",
        "outputId": "09b373df-4db5-4ba7-a872-973916a2d84d"
      },
      "execution_count": 89,
      "outputs": [
        {
          "output_type": "stream",
          "name": "stdout",
          "text": [
            "[[ 1  2  3]\n",
            " [ 4  5  6]\n",
            " [ 7  8  9]\n",
            " [10 11 12]]\n"
          ]
        }
      ]
    },
    {
      "cell_type": "code",
      "source": [
        "test_vector = np.arange(10, 40, 10)\n",
        "print(test_vector)"
      ],
      "metadata": {
        "colab": {
          "base_uri": "https://localhost:8080/"
        },
        "id": "6KYcb73lcPi3",
        "outputId": "bb9571c2-cc40-46bb-bf3b-0c12231d2ca0"
      },
      "execution_count": 90,
      "outputs": [
        {
          "output_type": "stream",
          "name": "stdout",
          "text": [
            "[10 20 30]\n"
          ]
        }
      ]
    },
    {
      "cell_type": "code",
      "source": [
        "test_matrix + test_vector"
      ],
      "metadata": {
        "colab": {
          "base_uri": "https://localhost:8080/"
        },
        "id": "jTPlgt11cRb7",
        "outputId": "4fe4604e-b531-4e60-8faa-4de4b94b034f"
      },
      "execution_count": 91,
      "outputs": [
        {
          "output_type": "execute_result",
          "data": {
            "text/plain": [
              "array([[11, 22, 33],\n",
              "       [14, 25, 36],\n",
              "       [17, 28, 39],\n",
              "       [20, 31, 42]])"
            ]
          },
          "metadata": {},
          "execution_count": 91
        }
      ]
    },
    {
      "cell_type": "markdown",
      "source": [
        "#####Numpy performance #1"
      ],
      "metadata": {
        "id": "YY9VWeeXcblE"
      }
    },
    {
      "cell_type": "code",
      "source": [
        "def scalar_vector_product(scalar, vector):\n",
        "    result = []\n",
        "    for value in vector:\n",
        "        result.append(scalar*value)\n",
        "    return result\n",
        "\n",
        "iternation_max = 100000000\n",
        "\n",
        "vector = list(range(iternation_max))\n",
        "scalar = 2\n",
        "\n",
        "# timeit : jupyter 환경에서 코드의 퍼포먼스를 체크하는 함수\n",
        "%timeit scalar_vector_product(scalar, vector)   # for loop를 이용한 성능\n",
        "%timeit [scalar * value for value in range(iternation_max)]     # list comprehension을 이용한 성능\n",
        "%timeit np.arange(iternation_max) * scalar      # numpy를 이용한 성능"
      ],
      "metadata": {
        "colab": {
          "base_uri": "https://localhost:8080/"
        },
        "id": "YBEpLIKccfqG",
        "outputId": "5d4af379-99b1-4ed4-d478-42498dad0dcd"
      },
      "execution_count": 92,
      "outputs": [
        {
          "output_type": "stream",
          "name": "stdout",
          "text": [
            "1 loop, best of 5: 14.3 s per loop\n",
            "1 loop, best of 5: 12.4 s per loop\n",
            "1 loop, best of 5: 261 ms per loop\n"
          ]
        }
      ]
    },
    {
      "cell_type": "markdown",
      "source": [
        "**for loop < list cimprehension < numpy**"
      ],
      "metadata": {
        "id": "gbTteHamicOJ"
      }
    },
    {
      "cell_type": "markdown",
      "source": [
        "##**Comparisons**"
      ],
      "metadata": {
        "id": "pve-q-W9ioIH"
      }
    },
    {
      "cell_type": "markdown",
      "source": [
        "- All & Any"
      ],
      "metadata": {
        "id": "qBcZCCWejLDL"
      }
    },
    {
      "cell_type": "code",
      "source": [
        "a = np.arange(10)\n",
        "a"
      ],
      "metadata": {
        "colab": {
          "base_uri": "https://localhost:8080/"
        },
        "id": "nM2FdGE4isRc",
        "outputId": "23056245-a149-4aaa-c7ea-283ecd27a216"
      },
      "execution_count": 93,
      "outputs": [
        {
          "output_type": "execute_result",
          "data": {
            "text/plain": [
              "array([0, 1, 2, 3, 4, 5, 6, 7, 8, 9])"
            ]
          },
          "metadata": {},
          "execution_count": 93
        }
      ]
    },
    {
      "cell_type": "code",
      "source": [
        "np.any(a>5), np.any(a<0)    # any : 하나라도 조건에 만족한다면 true"
      ],
      "metadata": {
        "colab": {
          "base_uri": "https://localhost:8080/"
        },
        "id": "bwzKHDfai2le",
        "outputId": "847cdb8b-96f3-4667-8bbf-760089ae1eb4"
      },
      "execution_count": 94,
      "outputs": [
        {
          "output_type": "execute_result",
          "data": {
            "text/plain": [
              "(True, False)"
            ]
          },
          "metadata": {},
          "execution_count": 94
        }
      ]
    },
    {
      "cell_type": "code",
      "source": [
        "np.all(a>5), np.all(a<10)   # all : 모두가 조건에 만족한다면 true"
      ],
      "metadata": {
        "colab": {
          "base_uri": "https://localhost:8080/"
        },
        "id": "sAvDegjQjCp7",
        "outputId": "be437a4b-952b-47e4-9eb7-31f92e3743b8"
      },
      "execution_count": 95,
      "outputs": [
        {
          "output_type": "execute_result",
          "data": {
            "text/plain": [
              "(False, True)"
            ]
          },
          "metadata": {},
          "execution_count": 95
        }
      ]
    },
    {
      "cell_type": "markdown",
      "source": [
        "#####Comparison Operation #1"
      ],
      "metadata": {
        "id": "OwYEDeK8jN4I"
      }
    },
    {
      "cell_type": "code",
      "source": [
        "test_a = np.array([1, 3, 0], float)\n",
        "test_b = np.array([5, 2, 1], float)\n",
        "test_a > test_b"
      ],
      "metadata": {
        "colab": {
          "base_uri": "https://localhost:8080/"
        },
        "id": "jb0epiWkjI1u",
        "outputId": "a519dfa1-50a0-4a04-d272-9ee6a199dd8f"
      },
      "execution_count": 96,
      "outputs": [
        {
          "output_type": "execute_result",
          "data": {
            "text/plain": [
              "array([False,  True, False])"
            ]
          },
          "metadata": {},
          "execution_count": 96
        }
      ]
    },
    {
      "cell_type": "code",
      "source": [
        "test_a == test_b"
      ],
      "metadata": {
        "colab": {
          "base_uri": "https://localhost:8080/"
        },
        "id": "oCgBQXXDjc1V",
        "outputId": "24dc0a43-f79b-4678-9de2-e737fa279203"
      },
      "execution_count": 97,
      "outputs": [
        {
          "output_type": "execute_result",
          "data": {
            "text/plain": [
              "array([False, False, False])"
            ]
          },
          "metadata": {},
          "execution_count": 97
        }
      ]
    },
    {
      "cell_type": "code",
      "source": [
        "(test_a > test_b).any()     # any: 하나라도 True라면 Ture"
      ],
      "metadata": {
        "colab": {
          "base_uri": "https://localhost:8080/"
        },
        "id": "aWvqRlDajf_I",
        "outputId": "a02848d7-f67c-4796-b9c3-f427bcb85d30"
      },
      "execution_count": 98,
      "outputs": [
        {
          "output_type": "execute_result",
          "data": {
            "text/plain": [
              "True"
            ]
          },
          "metadata": {},
          "execution_count": 98
        }
      ]
    },
    {
      "cell_type": "markdown",
      "source": [
        "#####Comparison Operation #2"
      ],
      "metadata": {
        "id": "LIv4y2m6jpBJ"
      }
    },
    {
      "cell_type": "code",
      "source": [
        "a = np.array([1, 3, 0], float)\n",
        "np.logical_and(a>0, a<3)"
      ],
      "metadata": {
        "colab": {
          "base_uri": "https://localhost:8080/"
        },
        "id": "egK2sfwAjsxr",
        "outputId": "9a95e878-4ffe-484e-bad9-2869dac28eac"
      },
      "execution_count": 99,
      "outputs": [
        {
          "output_type": "execute_result",
          "data": {
            "text/plain": [
              "array([ True, False, False])"
            ]
          },
          "metadata": {},
          "execution_count": 99
        }
      ]
    },
    {
      "cell_type": "code",
      "source": [
        "b = np.array([True, False, True], bool)\n",
        "np.logical_not(b)"
      ],
      "metadata": {
        "colab": {
          "base_uri": "https://localhost:8080/"
        },
        "id": "DBAH9bt3j4cy",
        "outputId": "00b5e350-c6ad-4a9c-98f3-6e1c32e13b55"
      },
      "execution_count": 100,
      "outputs": [
        {
          "output_type": "execute_result",
          "data": {
            "text/plain": [
              "array([False,  True, False])"
            ]
          },
          "metadata": {},
          "execution_count": 100
        }
      ]
    },
    {
      "cell_type": "code",
      "source": [
        "c = np.array([False, True, False], bool)\n",
        "np.logical_or(b, c)"
      ],
      "metadata": {
        "colab": {
          "base_uri": "https://localhost:8080/"
        },
        "id": "VD31mrWPkEJ7",
        "outputId": "cff1b399-3998-4ae4-c4fb-39ff34f886c3"
      },
      "execution_count": 101,
      "outputs": [
        {
          "output_type": "execute_result",
          "data": {
            "text/plain": [
              "array([ True,  True,  True])"
            ]
          },
          "metadata": {},
          "execution_count": 101
        }
      ]
    },
    {
      "cell_type": "markdown",
      "source": [
        "#####np.where"
      ],
      "metadata": {
        "id": "FCakMHr6kOsK"
      }
    },
    {
      "cell_type": "code",
      "source": [
        "np.where(a > 0,3,2)"
      ],
      "metadata": {
        "colab": {
          "base_uri": "https://localhost:8080/"
        },
        "id": "EP5AhKp1kWtP",
        "outputId": "36899a0e-16b0-48c8-ed25-82dd0532600d"
      },
      "execution_count": 102,
      "outputs": [
        {
          "output_type": "execute_result",
          "data": {
            "text/plain": [
              "array([3, 3, 2])"
            ]
          },
          "metadata": {},
          "execution_count": 102
        }
      ]
    },
    {
      "cell_type": "code",
      "source": [
        "a = np.arange(10)\n",
        "np.where(a>5)"
      ],
      "metadata": {
        "colab": {
          "base_uri": "https://localhost:8080/"
        },
        "id": "W0r6Q19xkiqU",
        "outputId": "95fe882f-2d62-4001-95a2-d0be4a4ed6f7"
      },
      "execution_count": 103,
      "outputs": [
        {
          "output_type": "execute_result",
          "data": {
            "text/plain": [
              "(array([6, 7, 8, 9]),)"
            ]
          },
          "metadata": {},
          "execution_count": 103
        }
      ]
    },
    {
      "cell_type": "code",
      "source": [
        "a = np.array([1, np.NaN, np.Inf], float)\n",
        "np.isnan(a)     # Not a Number"
      ],
      "metadata": {
        "colab": {
          "base_uri": "https://localhost:8080/"
        },
        "id": "HDeQU70M_wE4",
        "outputId": "e25f1c59-3ed3-4fc1-a395-01e384937e27"
      },
      "execution_count": 107,
      "outputs": [
        {
          "output_type": "execute_result",
          "data": {
            "text/plain": [
              "array([False,  True, False])"
            ]
          },
          "metadata": {},
          "execution_count": 107
        }
      ]
    },
    {
      "cell_type": "code",
      "source": [
        "np.isfinite(a)      # 유한수 판단"
      ],
      "metadata": {
        "colab": {
          "base_uri": "https://localhost:8080/"
        },
        "id": "3--lFQzuDpqa",
        "outputId": "9f2893eb-697b-4ab0-8d7e-edef4b080cae"
      },
      "execution_count": 108,
      "outputs": [
        {
          "output_type": "execute_result",
          "data": {
            "text/plain": [
              "array([ True, False, False])"
            ]
          },
          "metadata": {},
          "execution_count": 108
        }
      ]
    },
    {
      "cell_type": "markdown",
      "source": [
        "#####argmax & argmin"
      ],
      "metadata": {
        "id": "X5eBvMexD9w4"
      }
    },
    {
      "cell_type": "code",
      "source": [
        "# array내 최대값 또는 최소값의 index를 반환함\n",
        "a = np.array([1, 2, 4, 5, 8, 78, 23, 3])\n",
        "np.argmax(a), np.argmin(a)"
      ],
      "metadata": {
        "colab": {
          "base_uri": "https://localhost:8080/"
        },
        "id": "8fGb9P84EAU4",
        "outputId": "ac4490a2-e639-44c1-ad2a-b1d5339d02eb"
      },
      "execution_count": 110,
      "outputs": [
        {
          "output_type": "execute_result",
          "data": {
            "text/plain": [
              "(5, 0)"
            ]
          },
          "metadata": {},
          "execution_count": 110
        }
      ]
    },
    {
      "cell_type": "code",
      "source": [
        "a = np.array([[1,2,4,7],[9,88,6,45],[9,76,3,4]])\n",
        "np.argmax(a, axis=1), np.argmin(a, axis=0)"
      ],
      "metadata": {
        "colab": {
          "base_uri": "https://localhost:8080/"
        },
        "id": "YSg7YkFqD8tZ",
        "outputId": "27c8de1a-c953-437b-a5da-d56d4e67ab30"
      },
      "execution_count": 111,
      "outputs": [
        {
          "output_type": "execute_result",
          "data": {
            "text/plain": [
              "(array([3, 1, 1]), array([0, 0, 2, 2]))"
            ]
          },
          "metadata": {},
          "execution_count": 111
        }
      ]
    },
    {
      "cell_type": "markdown",
      "source": [
        "##**boolean & fancy index**"
      ],
      "metadata": {
        "id": "WkkqIDvsFrEU"
      }
    },
    {
      "cell_type": "code",
      "source": [
        "test_array = np.array([1, 4, 0, 2, 3, 8, 9, 7], float)\n",
        "test_array > 3"
      ],
      "metadata": {
        "colab": {
          "base_uri": "https://localhost:8080/"
        },
        "id": "FmlqINqEFubS",
        "outputId": "103985f1-5990-4f72-a2eb-9254e2d9c006"
      },
      "execution_count": 113,
      "outputs": [
        {
          "output_type": "execute_result",
          "data": {
            "text/plain": [
              "array([False,  True, False, False, False,  True,  True,  True])"
            ]
          },
          "metadata": {},
          "execution_count": 113
        }
      ]
    },
    {
      "cell_type": "code",
      "source": [
        "test_array[test_array > 3]      # 조건이 True인 index의 element만 추출"
      ],
      "metadata": {
        "colab": {
          "base_uri": "https://localhost:8080/"
        },
        "id": "uVvyGmYYN88w",
        "outputId": "a9d6220c-cf29-408a-e3e8-ed5fb7a7882f"
      },
      "execution_count": 114,
      "outputs": [
        {
          "output_type": "execute_result",
          "data": {
            "text/plain": [
              "array([4., 8., 9., 7.])"
            ]
          },
          "metadata": {},
          "execution_count": 114
        }
      ]
    },
    {
      "cell_type": "code",
      "source": [
        "condition = test_array < 3\n",
        "test_array[condition]"
      ],
      "metadata": {
        "colab": {
          "base_uri": "https://localhost:8080/"
        },
        "id": "qWDu2vOAOFtP",
        "outputId": "98124cda-40bc-42a4-d931-df00a0890113"
      },
      "execution_count": 115,
      "outputs": [
        {
          "output_type": "execute_result",
          "data": {
            "text/plain": [
              "array([1., 0., 2.])"
            ]
          },
          "metadata": {},
          "execution_count": 115
        }
      ]
    },
    {
      "cell_type": "markdown",
      "source": [
        "#####boolean index"
      ],
      "metadata": {
        "id": "a7LXxK8YO74m"
      }
    },
    {
      "cell_type": "code",
      "source": [
        "A = np.array([[12, 13, 14, 12, 16, 14, 11, 10, 9],\n",
        "              [11, 14, 12, 15, 15, 16, 10, 12, 11],\n",
        "              [10, 12, 12, 15, 14, 16, 10, 12, 12]])\n",
        "\n",
        "B = A < 15\n",
        "B.astype(np.int)"
      ],
      "metadata": {
        "colab": {
          "base_uri": "https://localhost:8080/"
        },
        "id": "Xn45GNMAOAq-",
        "outputId": "92233923-fab2-4360-96d0-a2dcf2b9613c"
      },
      "execution_count": 117,
      "outputs": [
        {
          "output_type": "stream",
          "name": "stderr",
          "text": [
            "/usr/local/lib/python3.7/dist-packages/ipykernel_launcher.py:6: DeprecationWarning: `np.int` is a deprecated alias for the builtin `int`. To silence this warning, use `int` by itself. Doing this will not modify any behavior and is safe. When replacing `np.int`, you may wish to use e.g. `np.int64` or `np.int32` to specify the precision. If you wish to review your current use, check the release note link for additional information.\n",
            "Deprecated in NumPy 1.20; for more details and guidance: https://numpy.org/devdocs/release/1.20.0-notes.html#deprecations\n",
            "  \n"
          ]
        },
        {
          "output_type": "execute_result",
          "data": {
            "text/plain": [
              "array([[1, 1, 1, 1, 0, 1, 1, 1, 1],\n",
              "       [1, 1, 1, 0, 0, 0, 1, 1, 1],\n",
              "       [1, 1, 1, 0, 1, 0, 1, 1, 1]])"
            ]
          },
          "metadata": {},
          "execution_count": 117
        }
      ]
    },
    {
      "cell_type": "markdown",
      "source": [
        "#####fancy index"
      ],
      "metadata": {
        "id": "K1r1_tIdPZSD"
      }
    },
    {
      "cell_type": "code",
      "source": [
        "a = np.array([2, 4, 6, 8], float)\n",
        "b = np.array([0, 0, 1, 3, 2, 1], int)       # 반드시 integer로 선언\n",
        "a[b]        # bracket index, b 배열의 값을 index로 하여 a의 값들을 추출함"
      ],
      "metadata": {
        "colab": {
          "base_uri": "https://localhost:8080/"
        },
        "id": "pK2p9VZlPbAG",
        "outputId": "7b3525f3-14f4-4346-ff56-8cd75fcb2e3d"
      },
      "execution_count": 118,
      "outputs": [
        {
          "output_type": "execute_result",
          "data": {
            "text/plain": [
              "array([2., 2., 4., 8., 6., 4.])"
            ]
          },
          "metadata": {},
          "execution_count": 118
        }
      ]
    },
    {
      "cell_type": "code",
      "source": [
        "a.take(b)       # take 함수: bracket index와 같은 효과"
      ],
      "metadata": {
        "colab": {
          "base_uri": "https://localhost:8080/"
        },
        "id": "z9nbucNnPv6m",
        "outputId": "2f8752f9-15b3-42b1-aa94-3ed32069bb59"
      },
      "execution_count": 119,
      "outputs": [
        {
          "output_type": "execute_result",
          "data": {
            "text/plain": [
              "array([2., 2., 4., 8., 6., 4.])"
            ]
          },
          "metadata": {},
          "execution_count": 119
        }
      ]
    },
    {
      "cell_type": "code",
      "source": [
        "a = np.array([[1, 4], [9, 16]], float)\n",
        "b = np.array([0, 0, 1, 1, 0], int)\n",
        "c = np.array([0, 1, 1, 1, 1], int)\n",
        "a[b,c]      # b를 row index, c를 column index로 변환하여 표시함"
      ],
      "metadata": {
        "colab": {
          "base_uri": "https://localhost:8080/"
        },
        "id": "akTfR-4sQAcF",
        "outputId": "6e69b236-cedb-4058-d527-55dada5aea6d"
      },
      "execution_count": 120,
      "outputs": [
        {
          "output_type": "execute_result",
          "data": {
            "text/plain": [
              "array([ 1.,  4., 16., 16.,  4.])"
            ]
          },
          "metadata": {},
          "execution_count": 120
        }
      ]
    },
    {
      "cell_type": "markdown",
      "source": [
        "##**numpy data i/o**"
      ],
      "metadata": {
        "id": "uq8N5p33Qa0P"
      }
    },
    {
      "cell_type": "markdown",
      "source": [
        "#####loadtxt & savetxt"
      ],
      "metadata": {
        "id": "VyjiPSU7QpDa"
      }
    },
    {
      "cell_type": "code",
      "source": [
        "from google.colab import drive\n",
        "drive.mount('/content/gdrive')\n",
        "\n",
        "file_path = \"/content/gdrive/MyDrive/Colab Notebooks/Reference/populations.txt\""
      ],
      "metadata": {
        "colab": {
          "base_uri": "https://localhost:8080/"
        },
        "id": "EZuWLEgWQz3Z",
        "outputId": "25cd9106-c58c-4802-dfdc-31127b1922c6"
      },
      "execution_count": 122,
      "outputs": [
        {
          "output_type": "stream",
          "name": "stdout",
          "text": [
            "Drive already mounted at /content/gdrive; to attempt to forcibly remount, call drive.mount(\"/content/gdrive\", force_remount=True).\n"
          ]
        }
      ]
    },
    {
      "cell_type": "code",
      "source": [
        "a = np.loadtxt(file_path)     # 파일 호출\n",
        "a[:10]"
      ],
      "metadata": {
        "colab": {
          "base_uri": "https://localhost:8080/"
        },
        "id": "XjwKH67lQlTo",
        "outputId": "c94148e0-da6e-4d5b-c8f0-9d2445cf4478"
      },
      "execution_count": 123,
      "outputs": [
        {
          "output_type": "execute_result",
          "data": {
            "text/plain": [
              "array([[ 19000., 320000.,   4000.,  48300.],\n",
              "       [  1901.,  47200.,   6100.,  48200.],\n",
              "       [  1902.,   7020.,   9800.,  41500.],\n",
              "       [  1903.,  77400.,  35200.,  38200.]])"
            ]
          },
          "metadata": {},
          "execution_count": 123
        }
      ]
    },
    {
      "cell_type": "code",
      "source": [
        "a_int = a.astype(int)\n",
        "a_int[:3]"
      ],
      "metadata": {
        "colab": {
          "base_uri": "https://localhost:8080/"
        },
        "id": "7NdRseyiSK0_",
        "outputId": "d7d04dca-b31c-4792-fae4-c92140a707e8"
      },
      "execution_count": 124,
      "outputs": [
        {
          "output_type": "execute_result",
          "data": {
            "text/plain": [
              "array([[ 19000, 320000,   4000,  48300],\n",
              "       [  1901,  47200,   6100,  48200],\n",
              "       [  1902,   7020,   9800,  41500]])"
            ]
          },
          "metadata": {},
          "execution_count": 124
        }
      ]
    },
    {
      "cell_type": "code",
      "source": [
        "np.savetxt('int_data.csv', a_int, delimiter=\",\")        # int_data.csv로 저장"
      ],
      "metadata": {
        "id": "D1zPAk19SOiy"
      },
      "execution_count": 125,
      "outputs": []
    },
    {
      "cell_type": "markdown",
      "source": [
        "#####numpy object - npy"
      ],
      "metadata": {
        "id": "LLwYz7alSlPF"
      }
    },
    {
      "cell_type": "code",
      "source": [
        "np.save(\"npy_test\", arr=a_int)"
      ],
      "metadata": {
        "id": "tIuFYrcESji-"
      },
      "execution_count": 128,
      "outputs": []
    },
    {
      "cell_type": "code",
      "source": [
        "npy_array = np.load(file=\"npy_test.npy\")\n",
        "npy_array[:3]"
      ],
      "metadata": {
        "colab": {
          "base_uri": "https://localhost:8080/"
        },
        "id": "gK6dwwzeSzAs",
        "outputId": "9b31aa11-1f9f-4c6e-f6f4-aac2b751b1d6"
      },
      "execution_count": 129,
      "outputs": [
        {
          "output_type": "execute_result",
          "data": {
            "text/plain": [
              "array([[ 19000, 320000,   4000,  48300],\n",
              "       [  1901,  47200,   6100,  48200],\n",
              "       [  1902,   7020,   9800,  41500]])"
            ]
          },
          "metadata": {},
          "execution_count": 129
        }
      ]
    }
  ]
}