{
  "nbformat": 4,
  "nbformat_minor": 0,
  "metadata": {
    "colab": {
      "name": "Matrix.ipynb",
      "provenance": [],
      "collapsed_sections": []
    },
    "kernelspec": {
      "name": "python3",
      "display_name": "Python 3"
    },
    "language_info": {
      "name": "python"
    }
  },
  "cells": [
    {
      "cell_type": "markdown",
      "source": [
        "##**Matrix**"
      ],
      "metadata": {
        "id": "UOZBjzTtfoVq"
      }
    },
    {
      "cell_type": "code",
      "source": [
        "import numpy as np"
      ],
      "metadata": {
        "id": "p6Z7tKdYfqq8"
      },
      "execution_count": 3,
      "outputs": []
    },
    {
      "cell_type": "code",
      "execution_count": 5,
      "metadata": {
        "id": "kJiDAQ-mfZkn"
      },
      "outputs": [],
      "source": [
        "x = np.array([[1, -2, 3],\n",
        "              [7, 5, 0],\n",
        "              [-2, -1, 2]])\n",
        "\n",
        "y = np.array([[0, 1],\n",
        "              [1, -1],\n",
        "              [-2, 1]])"
      ]
    },
    {
      "cell_type": "code",
      "source": [
        "x @ y       # 행렬 곱셈"
      ],
      "metadata": {
        "colab": {
          "base_uri": "https://localhost:8080/"
        },
        "id": "9q_s7MEwkWez",
        "outputId": "0401ed3d-e055-4577-bdb0-c894cdc6350d"
      },
      "execution_count": 6,
      "outputs": [
        {
          "output_type": "execute_result",
          "data": {
            "text/plain": [
              "array([[-8,  6],\n",
              "       [ 5,  2],\n",
              "       [-5,  1]])"
            ]
          },
          "metadata": {},
          "execution_count": 6
        }
      ]
    },
    {
      "cell_type": "code",
      "source": [
        "x = np.array([[1, -2, 3],\n",
        "              [7, 5, 0],\n",
        "              [-2, -1, 2]])\n",
        "\n",
        "y = np.array([[0, 1, -1], [1, -1, 0]])"
      ],
      "metadata": {
        "id": "LFGMmOenkoNu"
      },
      "execution_count": 8,
      "outputs": []
    },
    {
      "cell_type": "code",
      "source": [
        "np.inner(x, y)      # 내적 계산"
      ],
      "metadata": {
        "colab": {
          "base_uri": "https://localhost:8080/"
        },
        "id": "iDpV6kJ5kivu",
        "outputId": "b45e0d14-d2ff-4682-b539-6ffae622a11b"
      },
      "execution_count": 9,
      "outputs": [
        {
          "output_type": "execute_result",
          "data": {
            "text/plain": [
              "array([[-5,  3],\n",
              "       [ 5,  2],\n",
              "       [-3, -1]])"
            ]
          },
          "metadata": {},
          "execution_count": 9
        }
      ]
    },
    {
      "cell_type": "code",
      "source": [
        "x = np.array([[1, -2, 3],\n",
        "              [7, 5, 0],\n",
        "              [-2, -1, 2]])"
      ],
      "metadata": {
        "id": "-RcT118lnWUx"
      },
      "execution_count": null,
      "outputs": []
    },
    {
      "cell_type": "code",
      "source": [
        "np.linalg.inv(x)"
      ],
      "metadata": {
        "colab": {
          "base_uri": "https://localhost:8080/"
        },
        "id": "M0pbicOKnZZg",
        "outputId": "8234b83c-6a33-4bbe-ca9f-2b6e383eca93"
      },
      "execution_count": 10,
      "outputs": [
        {
          "output_type": "execute_result",
          "data": {
            "text/plain": [
              "array([[ 0.21276596,  0.0212766 , -0.31914894],\n",
              "       [-0.29787234,  0.17021277,  0.44680851],\n",
              "       [ 0.06382979,  0.10638298,  0.40425532]])"
            ]
          },
          "metadata": {},
          "execution_count": 10
        }
      ]
    },
    {
      "cell_type": "code",
      "source": [
        "x @ np.linalg.inv(x)    # 역행렬"
      ],
      "metadata": {
        "colab": {
          "base_uri": "https://localhost:8080/"
        },
        "id": "QNZce3VWnmdW",
        "outputId": "276d5c9f-4fb8-433c-f5b1-3ff3fb5d0e78"
      },
      "execution_count": 11,
      "outputs": [
        {
          "output_type": "execute_result",
          "data": {
            "text/plain": [
              "array([[ 1.00000000e+00, -1.38777878e-17,  0.00000000e+00],\n",
              "       [-2.22044605e-16,  1.00000000e+00, -5.55111512e-17],\n",
              "       [-2.77555756e-17,  0.00000000e+00,  1.00000000e+00]])"
            ]
          },
          "metadata": {},
          "execution_count": 11
        }
      ]
    },
    {
      "cell_type": "code",
      "source": [
        "y = np.array([[0, 1],\n",
        "              [1, -1],\n",
        "              [-2, 1]])"
      ],
      "metadata": {
        "id": "RyLf534lnxGX"
      },
      "execution_count": 12,
      "outputs": []
    },
    {
      "cell_type": "code",
      "source": [
        "np.linalg.pinv(y)"
      ],
      "metadata": {
        "colab": {
          "base_uri": "https://localhost:8080/"
        },
        "id": "C7YUEJLfn1dP",
        "outputId": "7b17ad5c-996f-433f-df2a-9a9e3f868107"
      },
      "execution_count": 13,
      "outputs": [
        {
          "output_type": "execute_result",
          "data": {
            "text/plain": [
              "array([[ 5.00000000e-01,  4.09730229e-17, -5.00000000e-01],\n",
              "       [ 8.33333333e-01, -3.33333333e-01, -1.66666667e-01]])"
            ]
          },
          "metadata": {},
          "execution_count": 13
        }
      ]
    },
    {
      "cell_type": "code",
      "source": [
        "np.linalg.pinv(y) @ y       # 유사 역행렬"
      ],
      "metadata": {
        "colab": {
          "base_uri": "https://localhost:8080/"
        },
        "id": "mvm4VIlbn5OU",
        "outputId": "906fd3dd-98f7-4c65-cc65-d05ea284c280"
      },
      "execution_count": 14,
      "outputs": [
        {
          "output_type": "execute_result",
          "data": {
            "text/plain": [
              "array([[ 1.00000000e+00, -2.22044605e-16],\n",
              "       [ 0.00000000e+00,  1.00000000e+00]])"
            ]
          },
          "metadata": {},
          "execution_count": 14
        }
      ]
    }
  ]
}