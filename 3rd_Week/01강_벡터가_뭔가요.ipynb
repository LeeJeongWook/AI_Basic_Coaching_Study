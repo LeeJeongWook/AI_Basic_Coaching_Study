{
  "nbformat": 4,
  "nbformat_minor": 0,
  "metadata": {
    "colab": {
      "name": "Vector.ipynb",
      "provenance": [],
      "collapsed_sections": []
    },
    "kernelspec": {
      "name": "python3",
      "display_name": "Python 3"
    },
    "language_info": {
      "name": "python"
    }
  },
  "cells": [
    {
      "cell_type": "markdown",
      "source": [
        "##**Vector**"
      ],
      "metadata": {
        "id": "QI00kKASX5HR"
      }
    },
    {
      "cell_type": "code",
      "source": [
        "import numpy as np"
      ],
      "metadata": {
        "id": "Rxo1XYNbYKLn"
      },
      "execution_count": 2,
      "outputs": []
    },
    {
      "cell_type": "code",
      "execution_count": 5,
      "metadata": {
        "id": "hcdo84s-dfrn",
        "colab": {
          "base_uri": "https://localhost:8080/"
        },
        "outputId": "578af2c6-f671-49d1-932b-35a4fa955aa6"
      },
      "outputs": [
        {
          "output_type": "stream",
          "name": "stdout",
          "text": [
            "[1, 7, 2]\n",
            "[1 7 2]\n"
          ]
        }
      ],
      "source": [
        "x = [1, 7, 2]\n",
        "print(x)\n",
        "x = np.array([1, 7, 2])\n",
        "print(x)"
      ]
    },
    {
      "cell_type": "code",
      "source": [
        "x = np.array([1, 7, 2])\n",
        "y = np.array([5, 2, 1])"
      ],
      "metadata": {
        "id": "ejG-X2-MYqoH"
      },
      "execution_count": 7,
      "outputs": []
    },
    {
      "cell_type": "code",
      "source": [
        "x + y"
      ],
      "metadata": {
        "colab": {
          "base_uri": "https://localhost:8080/"
        },
        "id": "7iw5bgdFY0fB",
        "outputId": "60aacb11-f535-4b9c-c7d3-56d52c40d407"
      },
      "execution_count": 8,
      "outputs": [
        {
          "output_type": "execute_result",
          "data": {
            "text/plain": [
              "array([6, 9, 3])"
            ]
          },
          "metadata": {},
          "execution_count": 8
        }
      ]
    },
    {
      "cell_type": "code",
      "source": [
        "x - y"
      ],
      "metadata": {
        "colab": {
          "base_uri": "https://localhost:8080/"
        },
        "id": "_pqK4-thY3Y_",
        "outputId": "9e69d819-0ba7-49d4-a592-390a767231ad"
      },
      "execution_count": 9,
      "outputs": [
        {
          "output_type": "execute_result",
          "data": {
            "text/plain": [
              "array([-4,  5,  1])"
            ]
          },
          "metadata": {},
          "execution_count": 9
        }
      ]
    },
    {
      "cell_type": "code",
      "source": [
        "x * y"
      ],
      "metadata": {
        "colab": {
          "base_uri": "https://localhost:8080/"
        },
        "id": "xhJB7aq9Y4cB",
        "outputId": "0b9e035b-ef5f-4b42-f184-32145e57468f"
      },
      "execution_count": 10,
      "outputs": [
        {
          "output_type": "execute_result",
          "data": {
            "text/plain": [
              "array([ 5, 14,  2])"
            ]
          },
          "metadata": {},
          "execution_count": 10
        }
      ]
    },
    {
      "cell_type": "code",
      "source": [
        "def l1_norm(x):\n",
        "    x_norm = np.abs(x)\n",
        "    x_norm = np.sum(x_norm)\n",
        "    return x_norm\n",
        "\n",
        "def l2_norm(x):     # = np.linalg.norm\n",
        "    x_norm = x * x\n",
        "    x_norm = np.sum(x_norm)\n",
        "    x_norm = np.sqrt(x_norm)\n",
        "    return x_norm"
      ],
      "metadata": {
        "id": "g4u_59g-Z_rR"
      },
      "execution_count": 13,
      "outputs": []
    },
    {
      "cell_type": "code",
      "source": [
        "x = np.array([-1, 2, -3])\n",
        "\n",
        "l1_norm(x)"
      ],
      "metadata": {
        "colab": {
          "base_uri": "https://localhost:8080/"
        },
        "id": "5NA8U3K5b1Gu",
        "outputId": "213d03c8-b798-41b1-df8f-d00b510aa018"
      },
      "execution_count": 17,
      "outputs": [
        {
          "output_type": "execute_result",
          "data": {
            "text/plain": [
              "6"
            ]
          },
          "metadata": {},
          "execution_count": 17
        }
      ]
    },
    {
      "cell_type": "code",
      "source": [
        "x = np.array([-6, -8])\n",
        "\n",
        "l2_norm(x)"
      ],
      "metadata": {
        "colab": {
          "base_uri": "https://localhost:8080/"
        },
        "id": "wk6aOtQ4b6y9",
        "outputId": "4c49d70a-27fe-4ddb-d1c9-6411677ecefb"
      },
      "execution_count": 18,
      "outputs": [
        {
          "output_type": "execute_result",
          "data": {
            "text/plain": [
              "10.0"
            ]
          },
          "metadata": {},
          "execution_count": 18
        }
      ]
    },
    {
      "cell_type": "code",
      "source": [
        "x = np.array([-3, 0])\n",
        "y = np.array([0, 4])\n",
        "\n",
        "print(l2_norm(x-y))"
      ],
      "metadata": {
        "colab": {
          "base_uri": "https://localhost:8080/"
        },
        "id": "b7T_tAmOcYR9",
        "outputId": "0da66b51-8114-43ec-ba35-4ecb57cedae9"
      },
      "execution_count": 23,
      "outputs": [
        {
          "output_type": "stream",
          "name": "stdout",
          "text": [
            "5.0\n"
          ]
        }
      ]
    },
    {
      "cell_type": "code",
      "source": [
        "x = np.array([0, 1])\n",
        "y = np.array([0, 2])\n",
        "\n",
        "print(l2_norm(x-y))"
      ],
      "metadata": {
        "colab": {
          "base_uri": "https://localhost:8080/"
        },
        "id": "3uU5_B8Dcw1a",
        "outputId": "fe237490-6392-4cdb-ddb0-ecad090bb624"
      },
      "execution_count": 26,
      "outputs": [
        {
          "output_type": "stream",
          "name": "stdout",
          "text": [
            "1.0\n"
          ]
        }
      ]
    },
    {
      "cell_type": "code",
      "source": [
        "def angle(x, y):\n",
        "    v = np.inner(x,y) / (l2_norm(x) * l2_norm(y))\n",
        "    theta = np.arccos(v)\n",
        "    return theta"
      ],
      "metadata": {
        "id": "Z2Xv4S43deR9"
      },
      "execution_count": 27,
      "outputs": []
    },
    {
      "cell_type": "code",
      "source": [
        "x = np.array([0, 1])\n",
        "y = np.array([0, 2])\n",
        "\n",
        "angle(x, y)"
      ],
      "metadata": {
        "colab": {
          "base_uri": "https://localhost:8080/"
        },
        "id": "pdJAo2SIdqgs",
        "outputId": "6b3c7eec-f81c-4c22-d3d8-4edfc1d6b097"
      },
      "execution_count": 28,
      "outputs": [
        {
          "output_type": "execute_result",
          "data": {
            "text/plain": [
              "0.0"
            ]
          },
          "metadata": {},
          "execution_count": 28
        }
      ]
    }
  ]
}