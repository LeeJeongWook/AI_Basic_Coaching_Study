{
  "nbformat": 4,
  "nbformat_minor": 0,
  "metadata": {
    "colab": {
      "name": "Gradient_Descent_02.ipynb",
      "provenance": [],
      "collapsed_sections": []
    },
    "kernelspec": {
      "name": "python3",
      "display_name": "Python 3"
    },
    "language_info": {
      "name": "python"
    }
  },
  "cells": [
    {
      "cell_type": "markdown",
      "source": [
        "##**경사 하강법**"
      ],
      "metadata": {
        "id": "gGR9qDKi6hEz"
      }
    },
    {
      "cell_type": "markdown",
      "source": [
        "#####경사하강법 기반 선형회귀 알고리즘"
      ],
      "metadata": {
        "id": "Rl9nsoHY6jxC"
      }
    },
    {
      "cell_type": "code",
      "source": [
        "# Input: x, y, lr, T, output: beta\n",
        "# norm: L2-노름을 계산하는 함수\n",
        "# lr: 학습률, T: 학습횟수\n",
        "'''\n",
        "for t in range(T):\n",
        "    error = y - x @ beta\n",
        "    grad = - transpose(x) @ error\n",
        "    beta = beta - lr * grad\n",
        "'''"
      ],
      "metadata": {
        "id": "PtKdx2if6pzg"
      },
      "execution_count": null,
      "outputs": []
    },
    {
      "cell_type": "code",
      "source": [
        "import numpy as np\n",
        "\n",
        "X = np.array([[1,1], [1,2], [2,2], [2,3]])\n",
        "y = np.dot(X, np.array([1,2])) + 3\n",
        "\n",
        "beta_gd = [10.1, 15.1, -6.5]    # 정답: [1, 2, 3]\n",
        "X_ = np.array([np.append(x,[1]) for x in X])     # intercept 항 추가\n",
        "\n",
        "for t in range(5000):\n",
        "    error = y - X_ @beta_gd\n",
        "    # error = error / np.linalg.norm(error)\n",
        "    grad = - np.transpose(X_) @ error\n",
        "    beta_gd = beta_gd - 0.01 * grad\n",
        "\n",
        "print(beta_gd)"
      ],
      "metadata": {
        "colab": {
          "base_uri": "https://localhost:8080/"
        },
        "id": "4MILwegz8Cez",
        "outputId": "01381984-e4d4-4028-e70d-ba7603e9b36d"
      },
      "execution_count": 10,
      "outputs": [
        {
          "output_type": "stream",
          "name": "stdout",
          "text": [
            "[1.00000367 1.99999949 2.99999516]\n"
          ]
        }
      ]
    }
  ]
}