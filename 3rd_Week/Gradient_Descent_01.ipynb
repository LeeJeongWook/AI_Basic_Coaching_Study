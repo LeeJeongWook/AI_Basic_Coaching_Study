{
  "nbformat": 4,
  "nbformat_minor": 0,
  "metadata": {
    "colab": {
      "name": "Gradient_Descent_01.ipynb",
      "provenance": [],
      "collapsed_sections": []
    },
    "kernelspec": {
      "name": "python3",
      "display_name": "Python 3"
    },
    "language_info": {
      "name": "python"
    }
  },
  "cells": [
    {
      "cell_type": "markdown",
      "source": [
        "##**경사하강법**"
      ],
      "metadata": {
        "id": "9Lht1YWEC66y"
      }
    },
    {
      "cell_type": "code",
      "execution_count": 5,
      "metadata": {
        "id": "O4cFfZzAsERB",
        "colab": {
          "base_uri": "https://localhost:8080/",
          "height": 38
        },
        "outputId": "312e3fda-3878-4a15-c1c5-dcfc12e40bec"
      },
      "outputs": [
        {
          "output_type": "execute_result",
          "data": {
            "text/latex": "$\\displaystyle \\operatorname{Poly}{\\left( 2 x + 2, x, domain=\\mathbb{Z} \\right)}$",
            "text/plain": [
              "Poly(2*x + 2, x, domain='ZZ')"
            ]
          },
          "metadata": {},
          "execution_count": 5
        }
      ],
      "source": [
        "import numpy as np\n",
        "import sympy as sym\n",
        "\n",
        "from sympy.abc import x\n",
        "\n",
        "sym.diff(sym.poly(x**2 + 2*x + 3), x)       # 미분 계산"
      ]
    },
    {
      "cell_type": "markdown",
      "source": [
        "#####경사하강법 : 알고리즘"
      ],
      "metadata": {
        "id": "v-psTUrqNZDO"
      }
    },
    {
      "cell_type": "code",
      "source": [
        "'''\n",
        "var = init\n",
        "grad = gradient(var)\n",
        "while(abs(grad) > eps):\n",
        "    var = var - lr * grad\n",
        "    grad = gradient(var)\n",
        "'''"
      ],
      "metadata": {
        "id": "m8k3i93KRWGD"
      },
      "execution_count": null,
      "outputs": []
    },
    {
      "cell_type": "code",
      "source": [
        "def func(val):\n",
        "    fun = sym.poly(x**2 + 2*x + 3)\n",
        "    # print(fun.subs(x, val), fun)\n",
        "    return fun.subs(x, val), fun\n",
        "\n",
        "def func_gradient(fun, val):\n",
        "    _, function = fun(val)\n",
        "    diff = sym.diff(function)\n",
        "    # print(diff.subs(x, val), diff)\n",
        "    return diff.subs(x, val), diff\n",
        "\n",
        "def gradient_descent(fun, init_point, lr_rate=1e-2, epsilon=1e-5):\n",
        "    cnt = 0\n",
        "    val = init_point\n",
        "    diff, _ = func_gradient(fun, init_point)\n",
        "    while np.abs(diff) > epsilon:\n",
        "        val = val - lr_rate*diff\n",
        "        diff, _ = func_gradient(fun, val)\n",
        "        cnt+=1\n",
        "    \n",
        "    print(\"함수: {}, 연산횟수: {}, 최소점: ({}, {})\".format(fun(val)[1], cnt, val, fun(val)[0]))\n",
        "\n",
        "gradient_descent(fun=func, init_point=np.random.uniform(-2,2))"
      ],
      "metadata": {
        "colab": {
          "base_uri": "https://localhost:8080/"
        },
        "id": "cSvYTPpCJrCp",
        "outputId": "7296fa90-0a0c-4d56-961c-bec7ef586151"
      },
      "execution_count": 11,
      "outputs": [
        {
          "output_type": "stream",
          "name": "stdout",
          "text": [
            "함수: Poly(x**2 + 2*x + 3, x, domain='ZZ'), 연산횟수: 639, 최소점: (-0.999995007857361, 2.00000000002492)\n"
          ]
        }
      ]
    },
    {
      "cell_type": "code",
      "source": [
        "import sympy as sym\n",
        "from sympy.abc import x, y\n",
        "\n",
        "sym.diff(sym.poly(x**2 + 2*x*y + 3) + sym.cos(x + 2*y), x)"
      ],
      "metadata": {
        "colab": {
          "base_uri": "https://localhost:8080/",
          "height": 185
        },
        "id": "af1PgjcNPk8R",
        "outputId": "a50fe744-2472-4672-9289-d9433ec8374d"
      },
      "execution_count": 17,
      "outputs": [
        {
          "output_type": "stream",
          "name": "stderr",
          "text": [
            "/usr/local/lib/python3.7/dist-packages/sympy/polys/polytools.py:79: SymPyDeprecationWarning: \n",
            "\n",
            "Mixing Poly with non-polynomial expressions in binary operations has\n",
            "been deprecated since SymPy 1.6. Use the as_expr or as_poly method to\n",
            "convert types instead. See https://github.com/sympy/sympy/issues/18613\n",
            "for more info.\n",
            "\n",
            "  useinstead=\"the as_expr or as_poly method to convert types\").warn()\n"
          ]
        },
        {
          "output_type": "execute_result",
          "data": {
            "text/latex": "$\\displaystyle 2 x + 2 y - \\sin{\\left(x + 2 y \\right)}$",
            "text/plain": [
              "2*x + 2*y - sin(x + 2*y)"
            ]
          },
          "metadata": {},
          "execution_count": 17
        }
      ]
    },
    {
      "cell_type": "code",
      "source": [
        "'''\n",
        "var = init\n",
        "grad = gradient(var)\n",
        "while(norm(grad) > eps):\n",
        "    var = var - lr * grad\n",
        "    grad = gradient(var)\n",
        "'''"
      ],
      "metadata": {
        "colab": {
          "base_uri": "https://localhost:8080/",
          "height": 35
        },
        "id": "5FmHDGBkQ2sq",
        "outputId": "ba1f31c6-ef10-46b1-d85a-0a50ff937601"
      },
      "execution_count": 19,
      "outputs": [
        {
          "output_type": "execute_result",
          "data": {
            "application/vnd.google.colaboratory.intrinsic+json": {
              "type": "string"
            },
            "text/plain": [
              "'\\nvar = init\\ngrad = gradient(var)\\nwhile(norm(grad) > eps):\\n    var = var - lr * grad\\n    grad = gradient(var)\\n'"
            ]
          },
          "metadata": {},
          "execution_count": 19
        }
      ]
    },
    {
      "cell_type": "code",
      "source": [
        "def eval_(fun, val):\n",
        "    val_x, val_y = val\n",
        "    fun_eval = fun.subs(x, val_x). subs(y, val_y)\n",
        "    return fun_eval\n",
        "\n",
        "def func_multi(val):\n",
        "    x_, y_ = val\n",
        "    func = sym.poly(x**2 + 2*y**2)\n",
        "    return eval_(func, [x_, y_]), func\n",
        "\n",
        "def func_gradient(fun, val):\n",
        "    x_, y_ = val\n",
        "    _, function = fun(val)\n",
        "    diff_x = sym.diff(function, x)\n",
        "    diff_y = sym.diff(function, y)\n",
        "    grad_vec = np.array([eval_(diff_x, [x_, y_]), eval_(diff_y, [x_, y_])], dtype=float)\n",
        "    return grad_vec, [diff_x, diff_y]\n",
        "\n",
        "def gradient_descent(fun, init_point, lr_rate=1e-2, epsilon=1e-5):\n",
        "    cnt=0\n",
        "    val = init_point\n",
        "    diff, _ = func_gradient(fun, val)\n",
        "    while np.linalg.norm(diff) > epsilon:\n",
        "        val = val - lr_rate * diff\n",
        "        diff, _ = func_gradient(fun, val)\n",
        "        cnt += 1\n",
        "    \n",
        "    print(\"함수: {}, 연산횟수: {}, 최소점: ({}, {}])\".format(fun(val)[1], cnt, val, fun(val)[0]))\n",
        "\n",
        "pt = [np.random.uniform(-2, 2), np.random.uniform(-2, 2)]\n",
        "gradient_descent(fun=func_multi, init_point=pt)"
      ],
      "metadata": {
        "colab": {
          "base_uri": "https://localhost:8080/"
        },
        "id": "Tt7ZvPMjRLRt",
        "outputId": "e85b00a0-1cd6-42d6-e854-eca0bae45736"
      },
      "execution_count": 24,
      "outputs": [
        {
          "output_type": "stream",
          "name": "stdout",
          "text": [
            "함수: Poly(x**2 + 2*y**2, x, y, domain='ZZ'), 연산횟수: 611, 최소점: ([ 4.97697957e-06 -1.85967645e-11], 2.47703256139988E-11])\n"
          ]
        }
      ]
    }
  ]
}