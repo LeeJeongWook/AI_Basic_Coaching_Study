{
  "nbformat": 4,
  "nbformat_minor": 0,
  "metadata": {
    "colab": {
      "name": "6강_확률론_맛보기.ipynb",
      "provenance": [],
      "collapsed_sections": []
    },
    "kernelspec": {
      "name": "python3",
      "display_name": "Python 3"
    },
    "language_info": {
      "name": "python"
    }
  },
  "cells": [
    {
      "cell_type": "markdown",
      "source": [
        "몬테카를로 예제: 적분 계산하기"
      ],
      "metadata": {
        "id": "gDGaALuU0gC9"
      }
    },
    {
      "cell_type": "code",
      "execution_count": 2,
      "metadata": {
        "colab": {
          "base_uri": "https://localhost:8080/"
        },
        "id": "ox3aCyVDur5a",
        "outputId": "29de1983-255a-4542-dbb0-7430c05e4b7c"
      },
      "outputs": [
        {
          "output_type": "stream",
          "name": "stdout",
          "text": [
            "(1.4933359146502674, 0.004032833578390321)\n"
          ]
        }
      ],
      "source": [
        "import numpy as np\n",
        "\n",
        "def mc_int(fun, low, high, sample_size=100, repeat=10):\n",
        "    int_len = np.abs(high - low)\n",
        "    stat = []\n",
        "    for _ in range(repeat):\n",
        "        x = np.random.uniform(low=low, high=high, size=sample_size)\n",
        "        fun_x = fun(x)\n",
        "        int_val = int_len * np.mean(fun_x)\n",
        "        stat.append(int_val)\n",
        "    return np.mean(stat), np.std(stat)\n",
        "\n",
        "def f_x(x):\n",
        "    return np.exp(-x**2)\n",
        "\n",
        "print(mc_int(f_x, low=-1, high=1, sample_size=10000, repeat=100))"
      ]
    }
  ]
}