{
  "nbformat": 4,
  "nbformat_minor": 0,
  "metadata": {
    "colab": {
      "name": "5강_딥러닝_학습방법_이해하기.ipynb",
      "provenance": [],
      "collapsed_sections": []
    },
    "kernelspec": {
      "name": "python3",
      "display_name": "Python 3"
    },
    "language_info": {
      "name": "python"
    }
  },
  "cells": [
    {
      "cell_type": "markdown",
      "source": [
        "##**소프트맥스 연산**"
      ],
      "metadata": {
        "id": "zegBsikZ-dQ8"
      }
    },
    {
      "cell_type": "markdown",
      "source": [
        "- 모델의 출력을 확률로 해석할 수 있게 변환해 주는 연산  \n",
        "- 분류 문제를 풀 때 선형 모델과 소프트맥스 함수를 결합하여 예측"
      ],
      "metadata": {
        "id": "5WdzOdxv-ixw"
      }
    },
    {
      "cell_type": "code",
      "source": [
        "import numpy as np"
      ],
      "metadata": {
        "id": "oVmGxmeK-tu1"
      },
      "execution_count": 3,
      "outputs": []
    },
    {
      "cell_type": "code",
      "execution_count": 11,
      "metadata": {
        "colab": {
          "base_uri": "https://localhost:8080/"
        },
        "id": "Ol9zK64V8uNm",
        "outputId": "dc13058c-9927-4a98-c69e-ed10fe4a02fc"
      },
      "outputs": [
        {
          "output_type": "execute_result",
          "data": {
            "text/plain": [
              "array([[2.44728471e-01, 6.65240956e-01, 9.00305732e-02],\n",
              "       [9.00305732e-02, 2.44728471e-01, 6.65240956e-01],\n",
              "       [2.06106005e-09, 4.53978686e-05, 9.99954600e-01]])"
            ]
          },
          "metadata": {},
          "execution_count": 11
        }
      ],
      "source": [
        "def softmax(vec):\n",
        "    denumerator = np.exp(vec - np.max(vec, axis=-1, keepdims=True))\n",
        "    numerator = np.sum(denumerator, axis=-1, keepdims=True)\n",
        "    val = denumerator/numerator\n",
        "    return val\n",
        "\n",
        "vec = np.array([[1,2,0],[-1,0,1],[-10,0,10]])\n",
        "softmax(vec)"
      ]
    },
    {
      "cell_type": "code",
      "source": [
        "def one_hot(val, dim):\n",
        "    return [np.eye(dim)[_] for _ in val]\n",
        "\n",
        "def one_hot_encoding(vec):\n",
        "    vec_dim = vec.shape[1]\n",
        "    vec_argmax = np.argmax(vec, axis=-1)\n",
        "    return one_hot(vec_argmax, vec_dim)\n",
        "\n",
        "def softmax(vec):\n",
        "    denumerator = np.exp(vec - np.max(vec, axis=-1, keepdims=True))\n",
        "    numerator = np.sum(denumerator, axis=-1, keepdims=True)\n",
        "    val = denumerator / numerator\n",
        "    return val\n",
        "\n",
        "vec = np.array([[1,2,0],[-1,0,1],[-10,0,10]])\n",
        "print(one_hot_encoding(vec))\n",
        "print(one_hot_encoding(softmax(vec)))"
      ],
      "metadata": {
        "colab": {
          "base_uri": "https://localhost:8080/"
        },
        "id": "db3vj7K-DN9D",
        "outputId": "4a4ffaf7-642d-4739-bfd4-c28dc15ec5dc"
      },
      "execution_count": 7,
      "outputs": [
        {
          "output_type": "stream",
          "name": "stdout",
          "text": [
            "[array([0., 1., 0.]), array([0., 0., 1.]), array([0., 0., 1.])]\n",
            "[array([0., 1., 0.]), array([0., 0., 1.]), array([0., 0., 1.])]\n"
          ]
        }
      ]
    }
  ]
}